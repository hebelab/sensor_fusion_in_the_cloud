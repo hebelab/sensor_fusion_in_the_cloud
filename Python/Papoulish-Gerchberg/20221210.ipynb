{
 "cells": [
  {
   "cell_type": "code",
   "execution_count": 1,
   "metadata": {},
   "outputs": [
    {
     "name": "stdout",
     "output_type": "stream",
     "text": [
      "Jupyter environment detected. Enabling Open3D WebVisualizer.\n",
      "[Open3D INFO] WebRTC GUI backend enabled.\n",
      "[Open3D INFO] WebRTCWindowSystem: HTTP handshake server disabled.\n"
     ]
    }
   ],
   "source": [
    "import pandas as pd\n",
    "import open3d as o3d\n",
    "import numpy as np\n",
    "import csv\n",
    "import copy\n",
    "import os"
   ]
  },
  {
   "cell_type": "code",
   "execution_count": 4,
   "metadata": {
    "collapsed": true
   },
   "outputs": [
    {
     "data": {
      "text/plain": [
       "True"
      ]
     },
     "execution_count": 4,
     "metadata": {},
     "output_type": "execute_result"
    }
   ],
   "source": [
    "# ZED_data = '../data/20221210_data/ZED/vga/depth_PNG_3029_376_06-12-2022-19-40-27.png'\n",
    "ZED_data = '../data/ZED/vga/point_cloud_PLY_3029_376_06-12-2022-19-40-31.ply'\n",
    "LiDAR_data = '../data/lidar/300/2022-12-10-16-53-36_Velodyne-VLP-16-Data.csv'\n",
    "\n",
    "os.path.exists(ZED_data)\n",
    "os.path.exists(LiDAR_data)"
   ]
  },
  {
   "cell_type": "code",
   "execution_count": 16,
   "metadata": {
    "collapsed": false,
    "pycharm": {
     "name": "#%%\n"
    }
   },
   "outputs": [
    {
     "name": "stdout",
     "output_type": "stream",
     "text": [
      "[Open3D WARNING] Read PLY failed: unable to read file: ../data/ZED/vga/point_cloud_PLY_3029_376_06-12-2022-19-40-31.ply\n",
      "[[-2.492405  1.447196 -2.436705]\n",
      " [-2.475858  1.441786 -2.427595]\n",
      " [-2.469097  1.442058 -2.428054]\n",
      " ...\n",
      " [ 1.574756 -0.893204 -1.709091]\n",
      " [ 1.579812 -0.893185 -1.709056]\n",
      " [ 1.584903 -0.893186 -1.709058]]\n"
     ]
    }
   ],
   "source": [
    "pcd_zed = o3d.io.read_point_cloud(ZED_data)\n",
    "pts_zed = np.asarray(pcd_zed.points)\n",
    "\n",
    "print(pts_zed)\n",
    "o3d.visualization.draw_geometries([pcd_zed])"
   ]
  },
  {
   "cell_type": "code",
   "execution_count": 19,
   "metadata": {
    "collapsed": false,
    "pycharm": {
     "name": "#%%\n"
    }
   },
   "outputs": [],
   "source": [
    "with open(LiDAR_data, newline='') as f:\n",
    "    rows = list(csv.reader(f, delimiter=',', quotechar='\"'))\n",
    "    pts_lidar = np.zeros(shape=(len(rows) - 1, 3))\n",
    "    headers = rows.pop(0)\n",
    "    for index, row in enumerate(rows[1:]):\n",
    "        # print(index, row[0])\n",
    "        pts_lidar[index] = row[0:3]"
   ]
  },
  {
   "cell_type": "code",
   "execution_count": 20,
   "metadata": {
    "collapsed": false,
    "pycharm": {
     "name": "#%%\n"
    }
   },
   "outputs": [],
   "source": [
    "coords = o3d.geometry.TriangleMesh.create_coordinate_frame()\n",
    "pcd_lidar = o3d.geometry.PointCloud()\n",
    "pcd_lidar.points = o3d.utility.Vector3dVector(pts_lidar)"
   ]
  },
  {
   "cell_type": "code",
   "execution_count": 23,
   "metadata": {
    "collapsed": false,
    "pycharm": {
     "name": "#%%\n"
    }
   },
   "outputs": [
    {
     "data": {
      "text/plain": [
       "PointCloud with 17556 points."
      ]
     },
     "execution_count": 23,
     "metadata": {},
     "output_type": "execute_result"
    }
   ],
   "source": [
    "# print(pts_lidar)\n",
    "\n",
    "pcd_lidar_r = copy.deepcopy(pcd_lidar).translate((0, 0, 0))\n",
    "pcd_lidar_r.rotate(pcd_lidar_r.get_rotation_matrix_from_xyz((-np.pi / 2, 0, 0)), center=(0, 0, 0))\n",
    "# print(np.asarray(pcd_lidar_r.points))"
   ]
  },
  {
   "cell_type": "code",
   "execution_count": 24,
   "metadata": {
    "collapsed": false,
    "pycharm": {
     "name": "#%%\n"
    }
   },
   "outputs": [
    {
     "name": "stdout",
     "output_type": "stream",
     "text": [
      "[[-57644.87567119    +0.j          26224.43245974-51816.23020104j\n",
      "   26224.43245974+51816.23020104j]\n",
      " [ -9467.15384367-24406.01117422j   7770.59007411-25222.59840305j\n",
      "    -382.95972829 -8762.88286381j]\n",
      " [  7244.97900002 +3711.06259746j    582.5196759 +13474.58726836j\n",
      "   -2935.59830351 +2367.47198415j]\n",
      " ...\n",
      " [ -1335.10175784 +5212.55556258j  -3797.41561872 +1490.79400273j\n",
      "     299.61888488 +1061.92606214j]\n",
      " [  7244.97900002 -3711.06259746j  -2935.59830351 -2367.47198415j\n",
      "     582.5196759 -13474.58726836j]\n",
      " [ -9467.15384367+24406.01117422j   -382.95972829 +8762.88286381j\n",
      "    7770.59007411+25222.59840305j]]\n"
     ]
    }
   ],
   "source": [
    "pts_lidar_r = np.asarray(pcd_lidar_r.points)\n",
    "\n",
    "shape_zed = np.shape(pts_zed)\n",
    "\n",
    "print(np.fft.fft2(pts_lidar_r))\n",
    "\n",
    "# shape_lidar = np.shape(pts_lidar_r)\n",
    "# print(shape_zed[0])\n",
    "# x = np.array(range(shape_zed[0]))\n",
    "# y = np.array(range(3))\n",
    "# pts_lidar_u = scipy.interpolate.interp2d(x, y, pts_lidar_r, kind='linear')"
   ]
  },
  {
   "cell_type": "code",
   "execution_count": 25,
   "metadata": {
    "collapsed": false,
    "pycharm": {
     "name": "#%%\n"
    }
   },
   "outputs": [
    {
     "data": {
      "text/plain": [
       "PointCloud with 17556 points."
      ]
     },
     "execution_count": 25,
     "metadata": {},
     "output_type": "execute_result"
    }
   ],
   "source": [
    "pcd_zed.paint_uniform_color([1, 0.706, 0])\n",
    "pcd_lidar_r.paint_uniform_color([1, 0, 0])"
   ]
  },
  {
   "cell_type": "code",
   "execution_count": 28,
   "metadata": {
    "collapsed": false,
    "pycharm": {
     "name": "#%%\n"
    }
   },
   "outputs": [
    {
     "ename": "KeyboardInterrupt",
     "evalue": "",
     "output_type": "error",
     "traceback": [
      "\u001b[1;31m---------------------------------------------------------------------------\u001b[0m",
      "\u001b[1;31mKeyboardInterrupt\u001b[0m                         Traceback (most recent call last)",
      "Cell \u001b[1;32mIn[28], line 1\u001b[0m\n\u001b[1;32m----> 1\u001b[0m o3d\u001b[39m.\u001b[39mvisualization\u001b[39m.\u001b[39mdraw_geometries([\n\u001b[0;32m      2\u001b[0m     \u001b[39m# coords,\u001b[39;00m\n\u001b[0;32m      3\u001b[0m     pcd_zed,\n\u001b[0;32m      4\u001b[0m     \u001b[39m# pcd_lidar,\u001b[39;00m\n\u001b[0;32m      5\u001b[0m     pcd_lidar_r\n\u001b[0;32m      6\u001b[0m ])\n",
      "File \u001b[1;32mc:\\Users\\ertug\\.virtualenvs\\Python-6q7z3JV_\\lib\\site-packages\\IPython\\core\\displayhook.py:258\u001b[0m, in \u001b[0;36mDisplayHook.__call__\u001b[1;34m(self, result)\u001b[0m\n\u001b[0;32m    255\u001b[0m     sys\u001b[39m.\u001b[39mstdout\u001b[39m.\u001b[39mwrite(\u001b[39mself\u001b[39m\u001b[39m.\u001b[39mshell\u001b[39m.\u001b[39mseparate_out2)\n\u001b[0;32m    256\u001b[0m     sys\u001b[39m.\u001b[39mstdout\u001b[39m.\u001b[39mflush()\n\u001b[1;32m--> 258\u001b[0m \u001b[39mdef\u001b[39;00m \u001b[39m__call__\u001b[39m(\u001b[39mself\u001b[39m, result\u001b[39m=\u001b[39m\u001b[39mNone\u001b[39;00m):\n\u001b[0;32m    259\u001b[0m \u001b[39m    \u001b[39m\u001b[39m\"\"\"Printing with history cache management.\u001b[39;00m\n\u001b[0;32m    260\u001b[0m \n\u001b[0;32m    261\u001b[0m \u001b[39m    This is invoked every time the interpreter needs to print, and is\u001b[39;00m\n\u001b[0;32m    262\u001b[0m \u001b[39m    activated by setting the variable sys.displayhook to it.\u001b[39;00m\n\u001b[0;32m    263\u001b[0m \u001b[39m    \"\"\"\u001b[39;00m\n\u001b[0;32m    264\u001b[0m     \u001b[39mself\u001b[39m\u001b[39m.\u001b[39mcheck_for_underscore()\n",
      "File \u001b[1;32m_pydevd_bundle/pydevd_cython.pyx:1457\u001b[0m, in \u001b[0;36m_pydevd_bundle.pydevd_cython.SafeCallWrapper.__call__\u001b[1;34m()\u001b[0m\n",
      "File \u001b[1;32m_pydevd_bundle/pydevd_cython.pyx:1758\u001b[0m, in \u001b[0;36m_pydevd_bundle.pydevd_cython.ThreadTracer.__call__\u001b[1;34m()\u001b[0m\n",
      "File \u001b[1;32mc:\\Users\\ertug\\.virtualenvs\\Python-6q7z3JV_\\lib\\site-packages\\debugpy\\_vendored\\pydevd\\_pydev_bundle\\pydev_is_thread_alive.py:9\u001b[0m, in \u001b[0;36mis_thread_alive\u001b[1;34m(t)\u001b[0m\n\u001b[0;32m      6\u001b[0m _temp \u001b[39m=\u001b[39m threading\u001b[39m.\u001b[39mThread()\n\u001b[0;32m      7\u001b[0m \u001b[39mif\u001b[39;00m \u001b[39mhasattr\u001b[39m(_temp, \u001b[39m'\u001b[39m\u001b[39m_is_stopped\u001b[39m\u001b[39m'\u001b[39m):  \u001b[39m# Python 3.x has this\u001b[39;00m\n\u001b[1;32m----> 9\u001b[0m     \u001b[39mdef\u001b[39;00m \u001b[39mis_thread_alive\u001b[39m(t):\n\u001b[0;32m     10\u001b[0m         \u001b[39mreturn\u001b[39;00m \u001b[39mnot\u001b[39;00m t\u001b[39m.\u001b[39m_is_stopped\n\u001b[0;32m     12\u001b[0m \u001b[39melif\u001b[39;00m \u001b[39mhasattr\u001b[39m(_temp, \u001b[39m'\u001b[39m\u001b[39m_Thread__stopped\u001b[39m\u001b[39m'\u001b[39m):  \u001b[39m# Python 2.x has this\u001b[39;00m\n",
      "\u001b[1;31mKeyboardInterrupt\u001b[0m: "
     ]
    }
   ],
   "source": [
    "o3d.visualization.draw_geometries([\n",
    "    # coords,\n",
    "    pcd_zed,\n",
    "    # pcd_lidar,\n",
    "    pcd_lidar_r\n",
    "])"
   ]
  },
  {
   "cell_type": "code",
   "execution_count": 27,
   "metadata": {
    "collapsed": false,
    "pycharm": {
     "name": "#%% Try to align geometries (body frames)\n"
    }
   },
   "outputs": [
    {
     "name": "stdout",
     "output_type": "stream",
     "text": [
      "[[ 1.30146686e-02  4.97122574e+00  8.67733657e-02]\n",
      " [ 1.17653925e-02  4.21315956e+00 -9.72688377e-01]\n",
      " [ 1.39323259e-02  4.98913383e+00  2.61470437e-01]\n",
      " ...\n",
      " [-3.76536814e-03  1.96126759e+00  2.40813822e-01]\n",
      " [-6.66596636e-04  1.90965867e+00  2.34476611e-01]\n",
      " [ 0.00000000e+00  0.00000000e+00  0.00000000e+00]]\n",
      "[[ 1.30146686e-02  8.67733657e-02 -4.97122574e+00]\n",
      " [ 1.17653925e-02 -9.72688377e-01 -4.21315956e+00]\n",
      " [ 1.39323259e-02  2.61470437e-01 -4.98913383e+00]\n",
      " ...\n",
      " [-3.76536814e-03  2.40813822e-01 -1.96126759e+00]\n",
      " [-6.66596636e-04  2.34476611e-01 -1.90965867e+00]\n",
      " [ 0.00000000e+00  0.00000000e+00  0.00000000e+00]]\n",
      "transformation is correct!\n"
     ]
    }
   ],
   "source": [
    "#Writing points with rows as the coordinates\n",
    "p1_t = np.asarray(pcd_lidar.points)\n",
    "p2_t = np.asarray(pcd_lidar_r.points) #Approx transformation is 90 degree rot over x-axis and +1 in Z axis\n",
    "\n",
    "print(p1_t)\n",
    "print(p2_t)\n",
    "\n",
    "#Take transpose as columns should be the points\n",
    "p1 = p1_t.transpose()\n",
    "p2 = p2_t.transpose()\n",
    "\n",
    "#Calculate centroids\n",
    "p1_c = np.mean(p1, axis = 1).reshape((-1,1)) #If you don't put reshape then the outcome is 1D with no rows/colums and is interpeted as rowvector in next minus operation, while it should be a column vector\n",
    "p2_c = np.mean(p2, axis = 1).reshape((-1,1))\n",
    "\n",
    "#Subtract centroids\n",
    "q1 = p1-p1_c\n",
    "q2 = p2-p2_c\n",
    "\n",
    "#Calculate covariance matrix\n",
    "H=np.matmul(q1,q2.transpose())\n",
    "\n",
    "#Calculate singular value decomposition (SVD)\n",
    "U, X, V_t = np.linalg.svd(H) #the SVD of linalg gives you Vt\n",
    "\n",
    "#Calculate rotation matrix\n",
    "R = np.matmul(V_t.transpose(),U.transpose())\n",
    "\n",
    "assert np.allclose(np.linalg.det(R), 1.0), \"Rotation matrix of N-point registration not 1, see paper Arun et al.\"\n",
    "\n",
    "#Calculate translation matrix\n",
    "T = p2_c - np.matmul(R,p1_c)\n",
    "\n",
    "#Check result\n",
    "result = T + np.matmul(R,p1)\n",
    "if np.allclose(result,p2):\n",
    "    print(\"transformation is correct!\")\n",
    "else:\n",
    "    print(\"transformation is wrong...\")"
   ]
  }
 ],
 "metadata": {
  "kernelspec": {
   "display_name": "Python-wvpU1gP9",
   "language": "python",
   "name": "python3"
  },
  "language_info": {
   "codemirror_mode": {
    "name": "ipython",
    "version": 3
   },
   "file_extension": ".py",
   "mimetype": "text/x-python",
   "name": "python",
   "nbconvert_exporter": "python",
   "pygments_lexer": "ipython3",
   "version": "3.8.10"
  },
  "vscode": {
   "interpreter": {
    "hash": "3e1686e97d6158e2bc56f211c04d0d8b2923f98bd098eb7820741f6cc73c1f10"
   }
  }
 },
 "nbformat": 4,
 "nbformat_minor": 0
}
