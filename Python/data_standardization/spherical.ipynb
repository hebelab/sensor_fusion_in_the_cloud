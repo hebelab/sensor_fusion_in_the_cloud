{
 "cells": [
  {
   "cell_type": "code",
   "execution_count": 147,
   "metadata": {},
   "outputs": [],
   "source": [
    "import open3d as o3d\n",
    "import numpy as np\n",
    "import matplotlib.pyplot as plt\n",
    "import mpl_toolkits.mplot3d.axes3d as axes3d\n",
    "import math\n",
    "import csv\n",
    "import copy\n",
    "import os"
   ]
  },
  {
   "cell_type": "code",
   "execution_count": 148,
   "metadata": {
    "collapsed": true
   },
   "outputs": [
    {
     "data": {
      "text/plain": [
       "True"
      ]
     },
     "execution_count": 148,
     "metadata": {},
     "output_type": "execute_result"
    }
   ],
   "source": [
    "LiDAR_data = './raw_data/2022-12-10-16-53-36_Velodyne-VLP-16-Data.csv'\n",
    "\n",
    "os.path.exists(LiDAR_data)"
   ]
  },
  {
   "cell_type": "code",
   "execution_count": 149,
   "metadata": {
    "collapsed": false,
    "pycharm": {
     "name": "#%%\n"
    }
   },
   "outputs": [],
   "source": [
    "with open(LiDAR_data, newline='') as f:\n",
    "    rows = list(csv.reader(f, delimiter=',', quotechar='\"'))\n",
    "    sph_lidar = np.zeros(shape=(len(rows) - 1, 3))\n",
    "    headers = rows.pop(0)\n",
    "    for index, row in enumerate(rows[1:]):\n",
    "        # print(index, row[0])\n",
    "        sph_lidar[index] = row[7:10]"
   ]
  },
  {
   "cell_type": "code",
   "execution_count": 150,
   "metadata": {},
   "outputs": [],
   "source": [
    "indexer = {\n",
    "    0:15,\n",
    "    2:14,\n",
    "    4:13,\n",
    "    6:12,\n",
    "    8:11,\n",
    "    10:10,\n",
    "    12:9,\n",
    "    14:8,\n",
    "    1:7,\n",
    "    3:6,\n",
    "    5:5,\n",
    "    7:4,\n",
    "    9:3,\n",
    "    11:2,\n",
    "    13:1,\n",
    "    15:0,\n",
    "}\n",
    "\n",
    "sph_lidar[:,0] = np.array(list(map(indexer.get, sph_lidar[:,0])))"
   ]
  },
  {
   "cell_type": "code",
   "execution_count": 151,
   "metadata": {},
   "outputs": [],
   "source": [
    "target_shape = tuple(sph_lidar[:,:2].astype(int).max(axis=0)[:2] + 1)\n",
    "sph_lidar_frame = np.zeros(target_shape)\n",
    "sph_lidar_frame[sph_lidar[:,0].astype(int),sph_lidar[:,1].astype(int)]=sph_lidar[:,2]"
   ]
  },
  {
   "cell_type": "code",
   "execution_count": 152,
   "metadata": {},
   "outputs": [],
   "source": [
    "angle_mapper = {\n",
    "    15:-15,\n",
    "    14:-13,\n",
    "    13:-11,\n",
    "    12:-9,\n",
    "    11:-7,\n",
    "    10:-5,\n",
    "    9:-3,\n",
    "    8:-1,\n",
    "    7:1,\n",
    "    6:3,\n",
    "    5:5,\n",
    "    4:7,\n",
    "    3:9,\n",
    "    2:11,\n",
    "    1:13,\n",
    "    0:15,\n",
    "}"
   ]
  },
  {
   "cell_type": "code",
   "execution_count": 153,
   "metadata": {},
   "outputs": [],
   "source": [
    "def sph2cart(sph_frame):\n",
    "    pts_lidar = np.zeros(shape=(sph_frame.size, 3))\n",
    "    for rows in range(0,sph_frame.shape[0],1):\n",
    "        for cols in range(0,sph_frame.shape[1],1):\n",
    "\n",
    "            r = sph_frame[rows,cols]\n",
    "            theta = np.array(list(map(angle_mapper.get, rows)))\n",
    "            phi = cols/100\n",
    "\n",
    "            pts_lidar[rows*sph_frame.shape[1]+cols,0] = r * math.sin(theta) * math.cos(phi)\n",
    "            pts_lidar[rows*sph_frame.shape[1]+cols,1] =  r * math.sin(theta) * math.sin(phi)\n",
    "            pts_lidar[rows*sph_frame.shape[1]+cols,2] = r * math.cos(theta)\n",
    "    return pts_lidar"
   ]
  },
  {
   "cell_type": "code",
   "execution_count": 156,
   "metadata": {},
   "outputs": [
    {
     "name": "stdout",
     "output_type": "stream",
     "text": [
      "(576000, 3)\n"
     ]
    }
   ],
   "source": [
    "pts_lidar = np.zeros(shape=(sph_lidar_frame.size, 3))\n",
    "print(pts_lidar.shape)"
   ]
  },
  {
   "cell_type": "code",
   "execution_count": 155,
   "metadata": {},
   "outputs": [],
   "source": [
    "coords = o3d.geometry.TriangleMesh.create_coordinate_frame()\n",
    "pcd_lidar = o3d.geometry.PointCloud()\n",
    "pcd_lidar.points = o3d.utility.Vector3dVector(pts_lidar)\n",
    "\n",
    "pcd_lidar_r = copy.deepcopy(pcd_lidar).translate((0, 0, 0))\n",
    "pcd_lidar_r.rotate(pcd_lidar_r.get_rotation_matrix_from_xyz((-np.pi / 2, 0, 0)), center=(0, 0, 0))\n",
    "\n",
    "pts_lidar_r = np.asarray(pcd_lidar_r.points)\n",
    "o3d.visualization.draw_geometries([pcd_lidar_r])"
   ]
  }
 ],
 "metadata": {
  "kernelspec": {
   "display_name": "Python-wvpU1gP9",
   "language": "python",
   "name": "python3"
  },
  "language_info": {
   "codemirror_mode": {
    "name": "ipython",
    "version": 3
   },
   "file_extension": ".py",
   "mimetype": "text/x-python",
   "name": "python",
   "nbconvert_exporter": "python",
   "pygments_lexer": "ipython3",
   "version": "3.8.10"
  },
  "vscode": {
   "interpreter": {
    "hash": "3e1686e97d6158e2bc56f211c04d0d8b2923f98bd098eb7820741f6cc73c1f10"
   }
  }
 },
 "nbformat": 4,
 "nbformat_minor": 0
}
