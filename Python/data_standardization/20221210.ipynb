{
 "cells": [
  {
   "cell_type": "code",
   "execution_count": 82,
   "metadata": {},
   "outputs": [],
   "source": [
    "import pandas as pd\n",
    "import open3d as o3d\n",
    "import numpy as np\n",
    "import math\n",
    "import csv\n",
    "import copy\n",
    "import os"
   ]
  },
  {
   "cell_type": "code",
   "execution_count": 83,
   "metadata": {
    "collapsed": true
   },
   "outputs": [
    {
     "data": {
      "text/plain": [
       "True"
      ]
     },
     "execution_count": 83,
     "metadata": {},
     "output_type": "execute_result"
    }
   ],
   "source": [
    "LiDAR_data = '../data/lidar/300/2022-12-10-16-53-36_Velodyne-VLP-16-Data.csv'\n",
    "\n",
    "os.path.exists(LiDAR_data)"
   ]
  },
  {
   "cell_type": "code",
   "execution_count": 84,
   "metadata": {
    "collapsed": false,
    "pycharm": {
     "name": "#%%\n"
    }
   },
   "outputs": [
    {
     "name": "stdout",
     "output_type": "stream",
     "text": [
      "(17556, 3)\n"
     ]
    }
   ],
   "source": [
    "with open(LiDAR_data, newline='') as f:\n",
    "    rows = list(csv.reader(f, delimiter=',', quotechar='\"'))\n",
    "    pts_lidar = np.zeros(shape=(len(rows) - 1, 3))\n",
    "    headers = rows.pop(0)\n",
    "    for index, row in enumerate(rows[1:]):\n",
    "        # print(index, row[0])\n",
    "        pts_lidar[index] = row[0:3]\n",
    "print(pts_lidar.shape)"
   ]
  },
  {
   "cell_type": "code",
   "execution_count": 85,
   "metadata": {},
   "outputs": [],
   "source": [
    "def appendSpherical_np(xyz):\n",
    "    ptsnew = np.hstack((xyz, np.zeros(xyz.shape)))\n",
    "    xy = xyz[:,0]**2 + xyz[:,1]**2\n",
    "    ptsnew[:,3] = np.sqrt(xy + xyz[:,2]**2)\n",
    "    ptsnew[:,4] = np.arctan2(np.sqrt(xy), xyz[:,2]) # for elevation angle defined from Z-axis down\n",
    "    #ptsnew[:,4] = np.arctan2(xyz[:,2], np.sqrt(xy)) # for elevation angle defined from XY-plane up\n",
    "    ptsnew[:,5] = np.arctan2(xyz[:,1], xyz[:,0])\n",
    "    return ptsnew"
   ]
  },
  {
   "cell_type": "code",
   "execution_count": 86,
   "metadata": {},
   "outputs": [],
   "source": [
    "def sph2cart(r, theta, phi):\n",
    "    return [\n",
    "         r * math.sin(theta) * math.cos(phi),\n",
    "         r * math.sin(theta) * math.sin(phi),\n",
    "         r * math.cos(theta)\n",
    "    ]"
   ]
  },
  {
   "cell_type": "code",
   "execution_count": 87,
   "metadata": {},
   "outputs": [],
   "source": [
    "pts_lidar_sph = appendSpherical_np(pts_lidar)\n",
    "vert_angles = pts_lidar_sph[:,4]\n",
    "hor_angles = pts_lidar_sph[:,5]\n",
    "dist = pts_lidar_sph[:,3]"
   ]
  },
  {
   "cell_type": "code",
   "execution_count": 88,
   "metadata": {},
   "outputs": [
    {
     "ename": "TypeError",
     "evalue": "only size-1 arrays can be converted to Python scalars",
     "output_type": "error",
     "traceback": [
      "\u001b[1;31m---------------------------------------------------------------------------\u001b[0m",
      "\u001b[1;31mTypeError\u001b[0m                                 Traceback (most recent call last)",
      "Cell \u001b[1;32mIn[88], line 1\u001b[0m\n\u001b[1;32m----> 1\u001b[0m pts_lidar_back \u001b[39m=\u001b[39m sph2cart(dist, vert_angles, hor_angles)\n",
      "Cell \u001b[1;32mIn[86], line 3\u001b[0m, in \u001b[0;36msph2cart\u001b[1;34m(r, theta, phi)\u001b[0m\n\u001b[0;32m      1\u001b[0m \u001b[39mdef\u001b[39;00m \u001b[39msph2cart\u001b[39m(r, theta, phi):\n\u001b[0;32m      2\u001b[0m     \u001b[39mreturn\u001b[39;00m [\n\u001b[1;32m----> 3\u001b[0m          r \u001b[39m*\u001b[39m math\u001b[39m.\u001b[39;49msin(theta) \u001b[39m*\u001b[39m math\u001b[39m.\u001b[39mcos(phi),\n\u001b[0;32m      4\u001b[0m          r \u001b[39m*\u001b[39m math\u001b[39m.\u001b[39msin(theta) \u001b[39m*\u001b[39m math\u001b[39m.\u001b[39msin(phi),\n\u001b[0;32m      5\u001b[0m          r \u001b[39m*\u001b[39m math\u001b[39m.\u001b[39mcos(theta)\n\u001b[0;32m      6\u001b[0m     ]\n",
      "\u001b[1;31mTypeError\u001b[0m: only size-1 arrays can be converted to Python scalars"
     ]
    }
   ],
   "source": [
    "for i in range(len(dist)):\n",
    "    pts_lidar_back = sph2cart(dist[i], vert_angles[i], hor_angles[i])\n",
    "print(pts_lidar-pts_lidar_back)"
   ]
  },
  {
   "cell_type": "code",
   "execution_count": null,
   "metadata": {},
   "outputs": [],
   "source": []
  }
 ],
 "metadata": {
  "kernelspec": {
   "display_name": "Python-wvpU1gP9",
   "language": "python",
   "name": "python3"
  },
  "language_info": {
   "codemirror_mode": {
    "name": "ipython",
    "version": 3
   },
   "file_extension": ".py",
   "mimetype": "text/x-python",
   "name": "python",
   "nbconvert_exporter": "python",
   "pygments_lexer": "ipython3",
   "version": "3.8.10"
  },
  "vscode": {
   "interpreter": {
    "hash": "3e1686e97d6158e2bc56f211c04d0d8b2923f98bd098eb7820741f6cc73c1f10"
   }
  }
 },
 "nbformat": 4,
 "nbformat_minor": 0
}
