{
 "cells": [
  {
   "cell_type": "code",
   "execution_count": null,
   "metadata": {},
   "outputs": [],
   "source": [
    "import pandas as pd\n",
    "import open3d as o3d\n",
    "import numpy as np\n",
    "import csv\n",
    "import copy\n",
    "import scipy\n",
    "import os"
   ]
  },
  {
   "cell_type": "code",
   "execution_count": null,
   "metadata": {
    "collapsed": true
   },
   "outputs": [],
   "source": [
    "# ZED_data = '../data/20221210_data/ZED/vga/depth_PNG_3029_376_06-12-2022-19-40-27.png'\n",
    "ZED_data = '../../data/ZED/vga/point_cloud_PLY_3029_376_06-12-2022-19-40-31.ply'\n",
    "LiDAR_data = '../../data/lidar/300/2022-12-10-16-53-36_Velodyne-VLP-16-Data.csv'\n",
    "\n",
    "os.path.exists(ZED_data)\n",
    "os.path.exists(LiDAR_data)"
   ]
  },
  {
   "cell_type": "code",
   "execution_count": null,
   "metadata": {
    "collapsed": false,
    "pycharm": {
     "name": "#%%\n"
    }
   },
   "outputs": [],
   "source": [
    "pcd_zed = o3d.io.read_point_cloud(ZED_data)\n",
    "pts_zed = np.asarray(pcd_zed.points)\n",
    "\n",
    "print(pts_zed)\n",
    "o3d.visualization.draw_geometries([pcd_zed])"
   ]
  },
  {
   "cell_type": "code",
   "execution_count": null,
   "metadata": {
    "collapsed": false,
    "pycharm": {
     "name": "#%%\n"
    }
   },
   "outputs": [],
   "source": [
    "with open(LiDAR_data, newline='') as f:\n",
    "    rows = list(csv.reader(f, delimiter=',', quotechar='\"'))\n",
    "    pts_lidar = np.zeros(shape=(len(rows) - 1, 3))\n",
    "    headers = rows.pop(0)\n",
    "    for index, row in enumerate(rows[1:]):\n",
    "        # print(index, row[0])\n",
    "        pts_lidar[index] = row[0:3]"
   ]
  },
  {
   "cell_type": "code",
   "execution_count": null,
   "metadata": {
    "collapsed": false,
    "pycharm": {
     "name": "#%%\n"
    }
   },
   "outputs": [],
   "source": [
    "coords = o3d.geometry.TriangleMesh.create_coordinate_frame()\n",
    "pcd_lidar = o3d.geometry.PointCloud()\n",
    "pcd_lidar.points = o3d.utility.Vector3dVector(pts_lidar)"
   ]
  },
  {
   "cell_type": "code",
   "execution_count": null,
   "metadata": {
    "collapsed": false,
    "pycharm": {
     "name": "#%%\n"
    }
   },
   "outputs": [],
   "source": [
    "# print(pts_lidar)\n",
    "\n",
    "pcd_lidar_r = copy.deepcopy(pcd_lidar).translate((0, 0, 0))\n",
    "pcd_lidar_r.rotate(pcd_lidar_r.get_rotation_matrix_from_xyz((-np.pi / 2, 0, 0)), center=(0, 0, 0))\n",
    "# print(np.asarray(pcd_lidar_r.points))"
   ]
  },
  {
   "cell_type": "code",
   "execution_count": null,
   "metadata": {
    "collapsed": false,
    "pycharm": {
     "name": "#%%\n"
    }
   },
   "outputs": [],
   "source": [
    "pts_lidar_r = np.asarray(pcd_lidar_r.points)\n",
    "\n",
    "shape_zed = np.shape(pts_zed)\n",
    "\n",
    "print(np.fft.fft2(pts_lidar_r))\n",
    "\n",
    "# shape_lidar = np.shape(pts_lidar_r)\n",
    "# print(shape_zed[0])\n",
    "# x = np.array(range(shape_zed[0]))\n",
    "# y = np.array(range(3))\n",
    "# pts_lidar_u = scipy.interpolate.interp2d(x, y, pts_lidar_r, kind='linear')"
   ]
  },
  {
   "cell_type": "code",
   "execution_count": null,
   "metadata": {
    "collapsed": false,
    "pycharm": {
     "name": "#%%\n"
    }
   },
   "outputs": [],
   "source": [
    "pcd_zed.paint_uniform_color([1, 0.706, 0])\n",
    "pcd_lidar_r.paint_uniform_color([1, 0, 0])"
   ]
  },
  {
   "cell_type": "code",
   "execution_count": null,
   "metadata": {
    "collapsed": false,
    "pycharm": {
     "name": "#%%\n"
    }
   },
   "outputs": [],
   "source": [
    "o3d.visualization.draw_geometries([\n",
    "    # coords,\n",
    "    pcd_zed,\n",
    "    # pcd_lidar,\n",
    "    pcd_lidar_r\n",
    "])"
   ]
  },
  {
   "cell_type": "code",
   "execution_count": null,
   "metadata": {
    "collapsed": false,
    "pycharm": {
     "name": "#%% Try to align geometries (body frames)\n"
    }
   },
   "outputs": [],
   "source": [
    "#Writing points with rows as the coordinates\n",
    "p1_t = np.asarray(pcd_lidar.points)\n",
    "p2_t = np.asarray(pcd_lidar_r.points) #Approx transformation is 90 degree rot over x-axis and +1 in Z axis\n",
    "\n",
    "print(p1_t)\n",
    "print(p2_t)\n",
    "\n",
    "#Take transpose as columns should be the points\n",
    "p1 = p1_t.transpose()\n",
    "p2 = p2_t.transpose()\n",
    "\n",
    "#Calculate centroids\n",
    "p1_c = np.mean(p1, axis = 1).reshape((-1,1)) #If you don't put reshape then the outcome is 1D with no rows/colums and is interpeted as rowvector in next minus operation, while it should be a column vector\n",
    "p2_c = np.mean(p2, axis = 1).reshape((-1,1))\n",
    "\n",
    "#Subtract centroids\n",
    "q1 = p1-p1_c\n",
    "q2 = p2-p2_c\n",
    "\n",
    "#Calculate covariance matrix\n",
    "H=np.matmul(q1,q2.transpose())\n",
    "\n",
    "#Calculate singular value decomposition (SVD)\n",
    "U, X, V_t = np.linalg.svd(H) #the SVD of linalg gives you Vt\n",
    "\n",
    "#Calculate rotation matrix\n",
    "R = np.matmul(V_t.transpose(),U.transpose())\n",
    "\n",
    "assert np.allclose(np.linalg.det(R), 1.0), \"Rotation matrix of N-point registration not 1, see paper Arun et al.\"\n",
    "\n",
    "#Calculate translation matrix\n",
    "T = p2_c - np.matmul(R,p1_c)\n",
    "\n",
    "#Check result\n",
    "result = T + np.matmul(R,p1)\n",
    "if np.allclose(result,p2):\n",
    "    print(\"transformation is correct!\")\n",
    "else:\n",
    "    print(\"transformation is wrong...\")"
   ]
  }
 ],
 "metadata": {
  "kernelspec": {
   "display_name": "Python 3.8.10 64-bit",
   "language": "python",
   "name": "python3"
  },
  "language_info": {
   "codemirror_mode": {
    "name": "ipython",
    "version": 3
   },
   "file_extension": ".py",
   "mimetype": "text/x-python",
   "name": "python",
   "nbconvert_exporter": "python",
   "pygments_lexer": "ipython3",
   "version": "3.8.10"
  },
  "vscode": {
   "interpreter": {
    "hash": "e7370f93d1d0cde622a1f8e1c04877d8463912d04d973331ad4851f04de6915a"
   }
  }
 },
 "nbformat": 4,
 "nbformat_minor": 0
}
