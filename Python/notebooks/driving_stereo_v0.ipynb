{
 "cells": [
  {
   "cell_type": "code",
   "execution_count": 3,
   "metadata": {},
   "outputs": [
    {
     "name": "stdout",
     "output_type": "stream",
     "text": [
      "The autoreload extension is already loaded. To reload it, use:\n",
      "  %reload_ext autoreload\n"
     ]
    },
    {
     "data": {
      "text/plain": [
       "'%.2f'"
      ]
     },
     "execution_count": 3,
     "metadata": {},
     "output_type": "execute_result"
    }
   ],
   "source": [
    "import numpy as np\n",
    "import cv2\n",
    "from matplotlib import pyplot as plt\n",
    "from matplotlib import patches\n",
    "from skimage import io\n",
    "import torch\n",
    "\n",
    "%matplotlib inline\n",
    "%load_ext autoreload\n",
    "%autoreload 2\n",
    "%precision %.2f\n",
    "\n",
    "# import files_management"
   ]
  },
  {
   "cell_type": "code",
   "execution_count": 4,
   "metadata": {},
   "outputs": [],
   "source": [
    "DATA_PATH = '/media/joseph/Development/SFITC/driving_stereo/train/2018-07-09-16-11-56'\n",
    "LEFT_IMAGE_PATH = f'{DATA_PATH}/left'\n",
    "RIGHT_IMAGE_PATH = f'{DATA_PATH}/right'\n",
    "DEPTH_IMAGE_PATH = f'{DATA_PATH}/depth'\n",
    "DISPARITY_IMAGE_PATH = f'{DATA_PATH}/disparity'"
   ]
  },
  {
   "cell_type": "code",
   "execution_count": null,
   "metadata": {},
   "outputs": [],
   "source": [
    "def read_gray(path):\n",
    "    \"\"\" Read raw RGB and perform rbg -> gray process to the image \"\"\"\n",
    "    gray = cv2.imread(path, 0)\n",
    "    return torch.from_numpy(gray).unsqueeze(0)\n",
    "\n",
    "def read_disparity(path):\n",
    "    disp = io.imread(path)\n",
    "    return torch.from_numpy(disp.astype(np.float32)).unsqueeze(0)\n",
    "\n",
    "def read_depth(path):\n",
    "    \"\"\" Depth maps (annotated and raw Velodyne scans) are saved as uint16 PNG images,\n",
    "        which can be opened with either MATLAB, libpng++ or the latest version of\n",
    "        Python's pillow (from PIL import Image). A 0 value indicates an invalid pixel\n",
    "        (ie, no ground truth exists, or the estimation algorithm didn't produce an\n",
    "        estimate for that pixel). Otherwise, the depth for a pixel can be computed\n",
    "        in meters by converting the uint16 value to float and dividing it by 256.0:\n",
    "\n",
    "        disp(u,v)  = ((float)I(u,v))/256.0;\n",
    "        valid(u,v) = I(u,v)>0;\n",
    "    \"\"\"\n",
    "    depth = Image.open(path)\n",
    "    depth = np.array(depth).astype(np.float32) / 256.0\n",
    "    return torch.from_numpy(depth).unsqueeze(0)"
   ]
  },
  {
   "cell_type": "code",
   "execution_count": null,
   "metadata": {},
   "outputs": [],
   "source": [
    "img_left = "
   ]
  }
 ],
 "metadata": {
  "kernelspec": {
   "display_name": "Python 3.8.10 ('Python-ddiOOh4g')",
   "language": "python",
   "name": "python3"
  },
  "language_info": {
   "codemirror_mode": {
    "name": "ipython",
    "version": 3
   },
   "file_extension": ".py",
   "mimetype": "text/x-python",
   "name": "python",
   "nbconvert_exporter": "python",
   "pygments_lexer": "ipython3",
   "version": "3.8.10"
  },
  "orig_nbformat": 4,
  "vscode": {
   "interpreter": {
    "hash": "00f03ad223d9bbefba2d85a96e4c14bf4b7cfec3ac1501740897c115facd9986"
   }
  }
 },
 "nbformat": 4,
 "nbformat_minor": 2
}
