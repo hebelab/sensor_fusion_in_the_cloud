{
 "cells": [
  {
   "cell_type": "code",
   "execution_count": null,
   "metadata": {},
   "outputs": [],
   "source": [
    "import open3d as o3d\n",
    "import numpy as np\n",
    "from matplotlib import pyplot as plt\n",
    "import os"
   ]
  },
  {
   "cell_type": "code",
   "execution_count": null,
   "metadata": {},
   "outputs": [],
   "source": [
    "ZED_data = '../../data/20221210/ZED/720/point_cloud_PLY_3029_720_06-12-2022-19-39-57.ply'\n",
    "os.path.exists(ZED_data)"
   ]
  },
  {
   "cell_type": "code",
   "execution_count": null,
   "metadata": {},
   "outputs": [],
   "source": [
    "def appendSpherical_np(xyz):\n",
    "    ptsnew = np.hstack((xyz, np.zeros(xyz.shape)))\n",
    "    xy = xyz[:,2]**2 + xyz[:,1]**2\n",
    "    ptsnew[:,3] = np.sqrt(xy + xyz[:,0]**2)\n",
    "    # ptsnew[:,4] = np.arctan2(np.sqrt(xy), xyz[:,0]) # for elevation angle defined from Z-axis down\n",
    "    ptsnew[:,4] = np.arctan2(xyz[:,0], np.sqrt(xy)) # for elevation angle defined from XY-plane up\n",
    "    ptsnew[:,5] = np.arctan2(xyz[:,1], xyz[:,2])\n",
    "    return ptsnew"
   ]
  },
  {
   "cell_type": "code",
   "execution_count": null,
   "metadata": {},
   "outputs": [],
   "source": [
    "pcd_zed = o3d.io.read_point_cloud(ZED_data)\n",
    "pts_zed = np.asarray(pcd_zed.points)"
   ]
  },
  {
   "cell_type": "code",
   "execution_count": null,
   "metadata": {},
   "outputs": [],
   "source": [
    "pts_zed_sph = appendSpherical_np(pts_zed)[:,3:6]\n",
    "pts_zed_sph[:,1:3] = np.degrees(pts_zed_sph[:,1:3]) + 180"
   ]
  },
  {
   "cell_type": "code",
   "execution_count": null,
   "metadata": {},
   "outputs": [],
   "source": [
    "# pts_zed_sph[:, 1] = np.radians(pts_zed_sph[:,1])\n",
    "# pts_zed_sph[:, 2] = np.radians(pts_zed_sph[:, 2])"
   ]
  },
  {
   "cell_type": "code",
   "execution_count": null,
   "metadata": {},
   "outputs": [],
   "source": [
    "# # Convert spherical coordinates to Cartesian coordinates\n",
    "# x = pts_zed_sph[:, 0] * np.cos(pts_zed_sph[:, 1]) * np.cos(pts_zed_sph[:, 2])\n",
    "# y = pts_zed_sph[:, 0] * np.cos(pts_zed_sph[:, 1]) * np.sin(pts_zed_sph[:, 2])\n",
    "# z = pts_zed_sph[:, 0] * np.sin(pts_zed_sph[:, 1])\n",
    "\n",
    "# zed_pts = np.asarray([x, y, z]).T\n",
    "\n",
    "# pcd__back_zed = o3d.geometry.PointCloud()\n",
    "# pcd__back_zed.points = o3d.utility.Vector3dVector(zed_pts)"
   ]
  },
  {
   "cell_type": "code",
   "execution_count": null,
   "metadata": {},
   "outputs": [],
   "source": [
    "# o3d.visualization.draw_geometries([\n",
    "#     pcd__back_zed, \n",
    "#     ])"
   ]
  },
  {
   "cell_type": "code",
   "execution_count": null,
   "metadata": {},
   "outputs": [],
   "source": [
    "a = pts_zed_sph[:,2]\n",
    "\n",
    "lower_angle = 20\n",
    "upper_angle = 20\n",
    "\n",
    "polar_min, polar_max = pts_zed_sph[:,2].min() + lower_angle, pts_zed_sph[:,2].max() - upper_angle\n",
    "\n",
    "pts_zed_sph_filt = pts_zed_sph[(a < polar_min) | (a > polar_max)]\n",
    "# pts_zed_sph_filt = b[b[:,2] < max]\n",
    "\n",
    "print(pts_zed_sph_filt.shape)"
   ]
  },
  {
   "cell_type": "code",
   "execution_count": null,
   "metadata": {},
   "outputs": [],
   "source": [
    "# pts_zed_sph_filt[:, 1] = np.radians(pts_zed_sph_filt[:,1])\n",
    "# pts_zed_sph_filt[:, 2] = np.radians(pts_zed_sph_filt[:, 2])"
   ]
  },
  {
   "cell_type": "code",
   "execution_count": null,
   "metadata": {},
   "outputs": [],
   "source": [
    "# # Convert spherical coordinates to Cartesian coordinates\n",
    "# x = pts_zed_sph_filt[:, 0] * np.cos(pts_zed_sph_filt[:, 1]) * np.cos(pts_zed_sph_filt[:, 2])\n",
    "# y = pts_zed_sph_filt[:, 0] * np.cos(pts_zed_sph_filt[:, 1]) * np.sin(pts_zed_sph_filt[:, 2])\n",
    "# z = pts_zed_sph_filt[:, 0] * np.sin(pts_zed_sph_filt[:, 1])\n",
    "\n",
    "# zed_pts = np.asarray([x, y, z]).T\n",
    "\n",
    "# pcd__back_zed = o3d.geometry.PointCloud()\n",
    "# pcd__back_zed.points = o3d.utility.Vector3dVector(zed_pts)"
   ]
  },
  {
   "cell_type": "code",
   "execution_count": null,
   "metadata": {},
   "outputs": [],
   "source": [
    "# o3d.visualization.draw_geometries([\n",
    "#     pcd__back_zed, \n",
    "#     ])"
   ]
  },
  {
   "cell_type": "code",
   "execution_count": null,
   "metadata": {},
   "outputs": [],
   "source": [
    "def find_closest_differences(arr):\n",
    "    sorted_arr = sorted(arr.astype(float))\n",
    "    diffs = np.asanyarray([sorted_arr[i+1] - sorted_arr[i] for i in range(len(sorted_arr)-1)])\n",
    "    return min(diffs[diffs > 1e-2]), max(diffs[diffs > 1e-2])"
   ]
  },
  {
   "cell_type": "code",
   "execution_count": null,
   "metadata": {},
   "outputs": [],
   "source": [
    "pts_zed_sph_filt[:,1] *= 14.03\n",
    "pts_zed_sph_filt[:,1] = pts_zed_sph_filt[:,1]//1 - 1903\n",
    "print(len(np.unique(pts_zed_sph_filt[:,1])))\n",
    "print(find_closest_differences(pts_zed_sph_filt[:,1]))\n",
    "\n",
    "h_range = (int(pts_zed_sph_filt[:,1].min()), int(pts_zed_sph_filt[:,1].max()+1))"
   ]
  },
  {
   "cell_type": "code",
   "execution_count": null,
   "metadata": {},
   "outputs": [],
   "source": [
    "bg_depth = pts_zed_sph_filt[:,0].mean()\n",
    "print(bg_depth)"
   ]
  },
  {
   "cell_type": "code",
   "execution_count": null,
   "metadata": {},
   "outputs": [],
   "source": [
    "def map_range_to_interval(value, old_min, old_max, new_min, new_max):\n",
    "    mapped_value = (value - old_min) * (new_max - new_min) / (old_max - old_min) + new_min\n",
    "    return int(mapped_value)"
   ]
  },
  {
   "cell_type": "code",
   "execution_count": null,
   "metadata": {},
   "outputs": [],
   "source": [
    "mask = pts_zed_sph_filt[:,2] > lower_angle\n",
    "\n",
    "pts_zed_sph_filt[mask, 2] -= 360\n",
    "pts_zed_sph_filt[not mask.all(), 2] += lower_angle\n",
    "\n",
    "pts_zed_sph_filt[:,2] *= 1.6\n",
    "\n",
    "v_range = (pts_zed_sph_filt[:,2].min(), pts_zed_sph_filt[:,2].max()+1)\n",
    "\n",
    "pts_zed_sph_filt[:,2] = np.vectorize(map_range_to_interval)(pts_zed_sph_filt[:,2], v_range[0], v_range[1], 0, 720)\n",
    "# np.savetxt(\"zed_filt.csv\", pts_zed_sph_filt,delimiter=',')"
   ]
  },
  {
   "cell_type": "code",
   "execution_count": null,
   "metadata": {},
   "outputs": [],
   "source": [
    "print(len(np.unique(pts_zed_sph_filt[:,2])))\n",
    "print(find_closest_differences(pts_zed_sph_filt[:,2]))"
   ]
  },
  {
   "cell_type": "code",
   "execution_count": null,
   "metadata": {},
   "outputs": [],
   "source": [
    "sph_zed_frame = []\n",
    "for i in range(0, 720):\n",
    "    lower = i\n",
    "    upper = i + 1\n",
    "    mask = (pts_zed_sph_filt[:, 2] >= lower) & (pts_zed_sph_filt[:, 2] < upper)\n",
    "    sub_array = pts_zed_sph_filt[mask, 0:2]\n",
    "\n",
    "    row = np.ones(1280)*bg_depth\n",
    "    row[sub_array[:,1].astype(int)] = sub_array[:,0]\n",
    "    sph_zed_frame.append(row)"
   ]
  },
  {
   "cell_type": "code",
   "execution_count": null,
   "metadata": {},
   "outputs": [],
   "source": [
    "np.savetxt(\"sph_zed_frame.csv\", sph_zed_frame,delimiter=',')"
   ]
  },
  {
   "cell_type": "code",
   "execution_count": null,
   "metadata": {},
   "outputs": [],
   "source": [
    "plt.imshow(sph_zed_frame)"
   ]
  },
  {
   "cell_type": "code",
   "execution_count": null,
   "metadata": {},
   "outputs": [],
   "source": [
    "# plt.imsave(\"../../data/ZED/720/zed_sph_frame.png\", sph_zed_frame)"
   ]
  },
  {
   "cell_type": "code",
   "execution_count": null,
   "metadata": {},
   "outputs": [],
   "source": [
    "sph_zed_frame = np.asarray(sph_zed_frame)\n",
    "print(sph_zed_frame.shape)"
   ]
  },
  {
   "cell_type": "code",
   "execution_count": null,
   "metadata": {},
   "outputs": [],
   "source": [
    "def back_to_pts_form(arr):\n",
    "    # get the shape of the input array\n",
    "    m, n = arr.shape\n",
    "    azimuth_const = 90/n\n",
    "    polar_const = 30/m\n",
    "    \n",
    "    # create a 3D output array of size (m * n, 3)\n",
    "    out = np.zeros((m * n, 3))\n",
    "    \n",
    "    # populate the output array\n",
    "    for row in range(m):\n",
    "        for col in range(n):\n",
    "            index = row * n + col\n",
    "            out[index, 0] = arr[row, col]\n",
    "            out[index, 1] = row * polar_const\n",
    "            out[index, 2] = col * azimuth_const \n",
    "    \n",
    "    return out"
   ]
  },
  {
   "cell_type": "code",
   "execution_count": null,
   "metadata": {},
   "outputs": [],
   "source": [
    "back_pts_zed = back_to_pts_form(sph_zed_frame)\n",
    "\n",
    "back_pts_zed[:,1] = np.radians(back_pts_zed[:,1])\n",
    "back_pts_zed[:,2] = np.radians(back_pts_zed[:,2])"
   ]
  },
  {
   "cell_type": "code",
   "execution_count": null,
   "metadata": {},
   "outputs": [],
   "source": [
    "point_cloud_data = back_pts_zed\n",
    "\n",
    "# Convert spherical coordinates to Cartesian coordinates\n",
    "x = point_cloud_data[:, 0] * np.cos(point_cloud_data[:, 1]) * np.cos(point_cloud_data[:, 2])\n",
    "y = point_cloud_data[:, 0] * np.cos(point_cloud_data[:, 1]) * np.sin(point_cloud_data[:, 2])\n",
    "z = point_cloud_data[:, 0] * np.sin(point_cloud_data[:, 1])\n",
    "\n",
    "pg_pts_zed = np.asarray([x, y, z]).T\n",
    "\n",
    "pcd_pg_zed = o3d.geometry.PointCloud()\n",
    "pcd_pg_zed.points = o3d.utility.Vector3dVector(pg_pts_zed)"
   ]
  },
  {
   "cell_type": "code",
   "execution_count": null,
   "metadata": {},
   "outputs": [],
   "source": [
    "o3d.visualization.draw_geometries([pcd_pg_zed])"
   ]
  }
 ],
 "metadata": {
  "kernelspec": {
   "display_name": "Python 3.8.10 64-bit",
   "language": "python",
   "name": "python3"
  },
  "language_info": {
   "codemirror_mode": {
    "name": "ipython",
    "version": 3
   },
   "file_extension": ".py",
   "mimetype": "text/x-python",
   "name": "python",
   "nbconvert_exporter": "python",
   "pygments_lexer": "ipython3",
   "version": "3.8.10"
  },
  "orig_nbformat": 4,
  "vscode": {
   "interpreter": {
    "hash": "e7370f93d1d0cde622a1f8e1c04877d8463912d04d973331ad4851f04de6915a"
   }
  }
 },
 "nbformat": 4,
 "nbformat_minor": 2
}
