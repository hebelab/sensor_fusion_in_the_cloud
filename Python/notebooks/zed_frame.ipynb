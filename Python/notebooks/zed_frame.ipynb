{
 "cells": [
  {
   "cell_type": "code",
   "execution_count": null,
   "metadata": {},
   "outputs": [],
   "source": [
    "import pandas as pd\n",
    "import open3d as o3d\n",
    "import numpy as np\n",
    "import csv\n",
    "import copy\n",
    "import scipy\n",
    "import os"
   ]
  },
  {
   "cell_type": "code",
   "execution_count": null,
   "metadata": {},
   "outputs": [],
   "source": [
    "ZED_data = '../../data/ZED/720/point_cloud_PLY_3029_720_06-12-2022-19-39-57.ply'\n",
    "os.path.exists(ZED_data)"
   ]
  },
  {
   "cell_type": "code",
   "execution_count": null,
   "metadata": {},
   "outputs": [],
   "source": [
    "def appendSpherical_np(xyz):\n",
    "    ptsnew = np.hstack((xyz, np.zeros(xyz.shape)))\n",
    "    xy = xyz[:,0]**2 + xyz[:,1]**2\n",
    "    ptsnew[:,3] = np.sqrt(xy + xyz[:,2]**2)\n",
    "    # ptsnew[:,4] = np.arctan2(np.sqrt(xy), xyz[:,2]) # for elevation angle defined from Z-axis down\n",
    "    ptsnew[:,4] = np.arctan2(xyz[:,2], np.sqrt(xy)) # for elevation angle defined from XY-plane up\n",
    "    ptsnew[:,5] = np.arctan2(xyz[:,1], xyz[:,0])\n",
    "    return ptsnew"
   ]
  },
  {
   "cell_type": "code",
   "execution_count": null,
   "metadata": {},
   "outputs": [],
   "source": [
    "def back_to_pts_form(arr):\n",
    "    # get the shape of the input array\n",
    "    m, n = arr.shape\n",
    "    azimuth_const = 90/n\n",
    "    polar_const = 60/m\n",
    "    \n",
    "    # create a 3D output array of size (m * n, 3)\n",
    "    out = np.zeros((m * n, 3))\n",
    "    \n",
    "    # populate the output array\n",
    "    for row in range(m):\n",
    "        for col in range(n):\n",
    "            index = row * n + col\n",
    "            out[index, 0] = arr[row, col]\n",
    "            out[index, 1] = row * polar_const\n",
    "            out[index, 2] = col * azimuth_const \n",
    "    \n",
    "    return out"
   ]
  },
  {
   "cell_type": "code",
   "execution_count": null,
   "metadata": {},
   "outputs": [],
   "source": [
    "pcd_zed = o3d.io.read_point_cloud(ZED_data)\n",
    "pts_zed = np.asarray(pcd_zed.points)"
   ]
  },
  {
   "cell_type": "code",
   "execution_count": null,
   "metadata": {},
   "outputs": [],
   "source": [
    "pts_zed_sph = appendSpherical_np(pts_zed)[:,3:6]\n",
    "pts_zed_sph[:,1:3] = np.degrees(pts_zed_sph[:,1:3])"
   ]
  },
  {
   "cell_type": "code",
   "execution_count": null,
   "metadata": {},
   "outputs": [],
   "source": [
    "a = pts_zed_sph[:,1]\n",
    "\n",
    "min, max = pts_zed_sph[:,1].min() + 12, pts_zed_sph[:,1].max() - 12\n",
    "\n",
    "b = pts_zed_sph[a > min]\n",
    "pts_zed_sph_filt = b[b[:,1] < max]\n",
    "\n",
    "print(pts_zed_sph)\n",
    "print(pts_zed_sph_filt)"
   ]
  },
  {
   "cell_type": "code",
   "execution_count": null,
   "metadata": {},
   "outputs": [],
   "source": [
    "v_const = 720/30\n",
    "h_const = 1280/85\n",
    "\n",
    "pts_zed_sph_filt[:,1] *= v_const\n",
    "pts_zed_sph_filt[:,2] *= h_const  \n",
    "\n",
    "np.savetxt(\"zed_filt.csv\", pts_zed_sph_filt,delimiter=',')"
   ]
  },
  {
   "cell_type": "code",
   "execution_count": null,
   "metadata": {},
   "outputs": [],
   "source": [
    "azimuth = (pts_zed_sph_filt[:,2].min(), pts_zed_sph_filt[:,2].max()) - pts_zed_sph_filt[:,2].min()\n",
    "azimuth"
   ]
  },
  {
   "cell_type": "code",
   "execution_count": null,
   "metadata": {},
   "outputs": [],
   "source": [
    "v_range = pts_zed_sph[:,1].min() + 12, pts_zed_sph[:,1].max() - 12 \n",
    "h_range = pts_zed_sph[:,2].min(), pts_zed_sph[:,2].max()\n",
    "\n",
    "# Split the array based on the range of the first column\n",
    "arrays = []\n",
    "for i in range(v_range):\n",
    "    lower = i\n",
    "    upper = i + 1\n",
    "    mask = (pts_zed_sph[:, 0] >= lower) & (pts_zed_sph[:, 0] < upper)\n",
    "    sub_array = pts_zed_sph[mask, 1:]\n",
    "    arrays.append(sub_array)\n"
   ]
  },
  {
   "cell_type": "code",
   "execution_count": null,
   "metadata": {},
   "outputs": [],
   "source": [
    "\n",
    "# Convert each sub-array to a 1D array sorted by the first column and using the second column as the value\n",
    "sph_lidar_frame = []\n",
    "for sub_array in arrays:\n",
    "    indices = np.argsort(sub_array[:, 0])\n",
    "    sorted_array = sub_array[indices, 1].tolist()\n",
    "\n",
    "    row_len = len(sorted_array)\n",
    "    num_zeros = 1280 - row_len\n",
    "    step_size = row_len // (num_zeros + 1)\n",
    "\n",
    "    # Loop over the array and insert zeros at regular intervals\n",
    "    for i in range(num_zeros):\n",
    "        index = (i + 1) * step_size\n",
    "        sorted_array.insert(index, 0)\n",
    "    print(len(sorted_array))\n",
    "    \n",
    "    sph_lidar_frame.append(sorted_array)"
   ]
  },
  {
   "cell_type": "code",
   "execution_count": null,
   "metadata": {},
   "outputs": [],
   "source": [
    "back_pts_zed = back_to_pts_form()"
   ]
  },
  {
   "cell_type": "code",
   "execution_count": null,
   "metadata": {},
   "outputs": [],
   "source": [
    "o3d.visualization.draw_geometries([pcd_zed])"
   ]
  }
 ],
 "metadata": {
  "kernelspec": {
   "display_name": "Python 3.8.10 64-bit",
   "language": "python",
   "name": "python3"
  },
  "language_info": {
   "codemirror_mode": {
    "name": "ipython",
    "version": 3
   },
   "file_extension": ".py",
   "mimetype": "text/x-python",
   "name": "python",
   "nbconvert_exporter": "python",
   "pygments_lexer": "ipython3",
   "version": "3.8.10"
  },
  "orig_nbformat": 4,
  "vscode": {
   "interpreter": {
    "hash": "e7370f93d1d0cde622a1f8e1c04877d8463912d04d973331ad4851f04de6915a"
   }
  }
 },
 "nbformat": 4,
 "nbformat_minor": 2
}
