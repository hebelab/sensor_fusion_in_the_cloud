{
 "cells": [
  {
   "cell_type": "code",
   "execution_count": 1,
   "metadata": {},
   "outputs": [],
   "source": [
    "import sys\n",
    "import pyzed.sl as sl\n",
    "from signal import signal, SIGINT\n",
    "\n",
    "cam = sl.Camera()\n",
    "\n",
    "def handler(signal_received, frame):\n",
    "    cam.disable_recording()\n",
    "    cam.close()\n",
    "    sys.exit(0)\n",
    "\n",
    "signal(SIGINT, handler)\n",
    "\n",
    "def main():\n",
    "    if not sys.argv or len(sys.argv) != 2:\n",
    "        print(\"Only the path of the output SVO file should be passed as argument.\")\n",
    "        exit(1)\n",
    "\n",
    "    init = sl.InitParameters()\n",
    "    init.camera_resolution = sl.RESOLUTION.HD720\n",
    "    init.depth_mode = sl.DEPTH_MODE.NONE\n",
    "\n",
    "    status = cam.open(init)\n",
    "    if status != sl.ERROR_CODE.SUCCESS:\n",
    "        print(repr(status))\n",
    "        exit(1)\n",
    "\n",
    "    path_output = sys.argv[1]\n",
    "    recording_param = sl.RecordingParameters(path_output, sl.SVO_COMPRESSION_MODE.H264)\n",
    "    err = cam.enable_recording(recording_param)\n",
    "    if err != sl.ERROR_CODE.SUCCESS:\n",
    "        print(repr(status))\n",
    "        exit(1)\n",
    "\n",
    "    runtime = sl.RuntimeParameters()\n",
    "    print(\"SVO is Recording, use Ctrl-C to stop.\")\n",
    "    frames_recorded = 0\n",
    "\n",
    "    while True:\n",
    "        if cam.grab(runtime) == sl.ERROR_CODE.SUCCESS :\n",
    "            frames_recorded += 1\n",
    "            print(\"Frame count: \" + str(frames_recorded), end=\"\\r\")"
   ]
  }
 ],
 "metadata": {
  "kernelspec": {
   "display_name": "Python-sb4HRUtp",
   "language": "python",
   "name": "python3"
  },
  "language_info": {
   "codemirror_mode": {
    "name": "ipython",
    "version": 3
   },
   "file_extension": ".py",
   "mimetype": "text/x-python",
   "name": "python",
   "nbconvert_exporter": "python",
   "pygments_lexer": "ipython3",
   "version": "3.7.9"
  },
  "orig_nbformat": 4
 },
 "nbformat": 4,
 "nbformat_minor": 2
}
