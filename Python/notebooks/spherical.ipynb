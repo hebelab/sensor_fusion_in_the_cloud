{
 "cells": [
  {
   "cell_type": "code",
   "execution_count": null,
   "metadata": {},
   "outputs": [],
   "source": [
    "import open3d as o3d\n",
    "import numpy as np\n",
    "import matplotlib.pyplot as plt\n",
    "import mpl_toolkits.mplot3d.axes3d as axes3d\n",
    "import cv2\n",
    "import math\n",
    "import csv\n",
    "import copy\n",
    "import os"
   ]
  },
  {
   "cell_type": "code",
   "execution_count": null,
   "metadata": {
    "collapsed": true
   },
   "outputs": [],
   "source": [
    "LiDAR_data = '../../data/lidar/300/2022-12-10-16-53-36_Velodyne-VLP-16-Data.csv'\n",
    "\n",
    "os.path.exists(LiDAR_data)"
   ]
  },
  {
   "cell_type": "code",
   "execution_count": null,
   "metadata": {
    "collapsed": false,
    "pycharm": {
     "name": "#%%\n"
    }
   },
   "outputs": [],
   "source": [
    "with open(LiDAR_data, newline='') as f:\n",
    "    rows = list(csv.reader(f, delimiter=',', quotechar='\"'))\n",
    "    sph_lidar = np.zeros(shape=(len(rows) - 1, 3))\n",
    "    headers = rows.pop(0)\n",
    "    for index, row in enumerate(rows[1:]):\n",
    "        # print(index, row[0])\n",
    "        sph_lidar[index] = row[7:10]"
   ]
  },
  {
   "cell_type": "code",
   "execution_count": null,
   "metadata": {},
   "outputs": [],
   "source": [
    "indexer = {\n",
    "    0:15,\n",
    "    2:14,\n",
    "    4:13,\n",
    "    6:12,\n",
    "    8:11,\n",
    "    10:10,\n",
    "    12:9,\n",
    "    14:8,\n",
    "    1:7,\n",
    "    3:6,\n",
    "    5:5,\n",
    "    7:4,\n",
    "    9:3,\n",
    "    11:2,\n",
    "    13:1,\n",
    "    15:0,\n",
    "}\n",
    "\n",
    "sph_lidar[:,0] = np.array(list(map(indexer.get, sph_lidar[:,0])))"
   ]
  },
  {
   "cell_type": "code",
   "execution_count": null,
   "metadata": {},
   "outputs": [],
   "source": [
    "target_shape = tuple(sph_lidar[:,:2].astype(int).max(axis=0)[:2] + 1)\n",
    "sph_lidar_frame = np.zeros(target_shape)\n",
    "sph_lidar_frame[sph_lidar[:,0].astype(int),sph_lidar[:,1].astype(int)]=sph_lidar[:,2]"
   ]
  },
  {
   "attachments": {},
   "cell_type": "markdown",
   "metadata": {},
   "source": [
    "apply papoulish gerchberg"
   ]
  },
  {
   "cell_type": "code",
   "execution_count": null,
   "metadata": {},
   "outputs": [],
   "source": [
    "\n",
    "print(target_shape)\n",
    "print(np.count_nonzero(sph_lidar[:,2]))\n",
    "print(np.count_nonzero(sph_lidar_frame))\n",
    "\n",
    "m = 160//16\n",
    "us = np.zeros((160,360))\n",
    "us[::m,:] = sph_lidar_frame[:,::100]\n",
    "print(np.count_nonzero(us))\n",
    "\n",
    "plt.imshow(us)"
   ]
  },
  {
   "cell_type": "code",
   "execution_count": null,
   "metadata": {},
   "outputs": [],
   "source": [
    "def lpf(img, ncutoff):\n",
    "    # Apply 2D FFT to the image\n",
    "    f = np.fft.fft2(img)\n",
    "\n",
    "    # Shift the zero frequency component to the center of the spectrum\n",
    "    fshift = np.fft.fftshift(f)\n",
    "\n",
    "    # Create a circular mask of the same size as the spectrum\n",
    "    rows, cols = img.shape\n",
    "    crow, ccol = rows // 2, cols // 2\n",
    "    mask = np.zeros((rows, cols), np.uint8)\n",
    "    cutoff = int(min(crow, ccol)*ncutoff)\n",
    "    cv2.circle(mask, (ccol, crow), cutoff, 1, -1)\n",
    "\n",
    "    # Apply the mask to the shifted spectrum\n",
    "    fshift_filtered = fshift * mask\n",
    "\n",
    "    # Shift the zero frequency component back to the corner of the spectrum\n",
    "    f_filtered = np.fft.ifftshift(fshift_filtered)\n",
    "\n",
    "    # Apply the inverse 2D FFT to the filtered spectrum\n",
    "    img_filtered = np.fft.ifft2(f_filtered)\n",
    "    img_filtered = np.real(img_filtered)\n",
    "\n",
    "    return img_filtered\n",
    "\n",
    "\n",
    "def pg(input, us_rate, ncutoff, gt_mean, threshold = 100):\n",
    "# def pg(input, us_rate, ncutoff, gt_mean, iter):\n",
    "\n",
    "    pg_mean = 0\n",
    "    filtered = input\n",
    "    \n",
    "    while pg_mean * 1.1 < gt_mean and threshold > 0:\n",
    "    # for i in range(iter):\n",
    "        filtered = lpf(filtered,ncutoff)\n",
    "        filtered[::us_rate, ::us_rate] = input[::us_rate, ::us_rate]\n",
    "        pg_mean = filtered.mean()\n",
    "        threshold -=1\n",
    "    \n",
    "    return filtered"
   ]
  },
  {
   "cell_type": "code",
   "execution_count": null,
   "metadata": {},
   "outputs": [],
   "source": [
    "gt_mean = sph_lidar_frame.mean()\n",
    "\n",
    "pg_frame = pg(us, m, 0.1, gt_mean=gt_mean, threshold=1000)\n",
    "plt.imshow(pg_frame)"
   ]
  },
  {
   "cell_type": "code",
   "execution_count": null,
   "metadata": {},
   "outputs": [],
   "source": [
    "angle = {\n",
    "    15:-15,\n",
    "    14:-13,\n",
    "    13:-11,\n",
    "    12:-9,\n",
    "    11:-7,\n",
    "    10:-5,\n",
    "    9:-3,\n",
    "    8:-1,\n",
    "    7:1,\n",
    "    6:3,\n",
    "    5:5,\n",
    "    4:7,\n",
    "    3:9,\n",
    "    2:11,\n",
    "    1:13,\n",
    "    0:15,\n",
    "}\n",
    "angle_lidar = sph_lidar_frame\n",
    "angle_lidar[:,0] = np.array(list(map(angle.get, angle_lidar[:,0])))"
   ]
  },
  {
   "cell_type": "code",
   "execution_count": null,
   "metadata": {},
   "outputs": [],
   "source": [
    "def back_to_pts_form(arr):\n",
    "    # get the shape of the input array\n",
    "    m, n = arr.shape\n",
    "    \n",
    "    # create a 3D output array of size (m * n, 3)\n",
    "    out = np.zeros((m * n, 3))\n",
    "    \n",
    "    # populate the output array\n",
    "    for i in range(m):\n",
    "        for j in range(n):\n",
    "            index = i * n + j\n",
    "            out[index, 0] = arr[i, j]\n",
    "            out[index, 1] = i\n",
    "            out[index, 2] = j\n",
    "    \n",
    "    return out\n"
   ]
  },
  {
   "cell_type": "code",
   "execution_count": null,
   "metadata": {},
   "outputs": [],
   "source": [
    "back_pts = back_to_pts_form(angle_lidar)\n",
    "\n",
    "back_pts[:,1] = np.radians(back_pts[:,1])\n",
    "back_pts[:,2] = np.radians(back_pts[:,2] / 100)"
   ]
  },
  {
   "cell_type": "code",
   "execution_count": null,
   "metadata": {},
   "outputs": [],
   "source": [
    "print(back_pts.shape)"
   ]
  },
  {
   "cell_type": "code",
   "execution_count": null,
   "metadata": {},
   "outputs": [],
   "source": [
    "point_cloud_data = back_pts\n",
    "\n",
    "# Convert spherical coordinates to Cartesian coordinates\n",
    "x = point_cloud_data[:, 0] * np.cos(point_cloud_data[:, 1]) * np.cos(point_cloud_data[:, 2])\n",
    "y = point_cloud_data[:, 0] * np.cos(point_cloud_data[:, 1]) * np.sin(point_cloud_data[:, 2])\n",
    "z = point_cloud_data[:, 0] * np.sin(point_cloud_data[:, 1])\n",
    "\n",
    "pts = np.asarray([x, y, z]).T\n",
    "\n",
    "pts.shape\n",
    "\n",
    "pcd_lidar = o3d.geometry.PointCloud()\n",
    "pcd_lidar.points = o3d.utility.Vector3dVector(pts)\n",
    "o3d.visualization.draw_geometries([pcd_lidar])"
   ]
  }
 ],
 "metadata": {
  "kernelspec": {
   "display_name": "Python 3.8.10 64-bit",
   "language": "python",
   "name": "python3"
  },
  "language_info": {
   "codemirror_mode": {
    "name": "ipython",
    "version": 3
   },
   "file_extension": ".py",
   "mimetype": "text/x-python",
   "name": "python",
   "nbconvert_exporter": "python",
   "pygments_lexer": "ipython3",
   "version": "3.8.10"
  },
  "vscode": {
   "interpreter": {
    "hash": "e7370f93d1d0cde622a1f8e1c04877d8463912d04d973331ad4851f04de6915a"
   }
  }
 },
 "nbformat": 4,
 "nbformat_minor": 0
}
