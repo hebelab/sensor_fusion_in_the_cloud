{
 "cells": [
  {
   "cell_type": "code",
   "execution_count": null,
   "metadata": {},
   "outputs": [],
   "source": [
    "import pandas as pd\n",
    "import open3d as o3d\n",
    "import numpy as np\n",
    "import csv\n",
    "import copy\n",
    "import scipy\n",
    "import os\n",
    "import cv2\n",
    "\n",
    "from PIL import Image\n",
    "from matplotlib import pyplot as plt\n",
    "\n",
    "import sys\n",
    "sys.path.append('../')\n",
    "\n",
    "from utils import pg"
   ]
  },
  {
   "cell_type": "code",
   "execution_count": null,
   "metadata": {},
   "outputs": [],
   "source": [
    "ZED_data = '../../data/ZED/vga/point_cloud_PLY_3029_376_06-12-2022-19-40-31.ply'\n",
    "LiDAR_data = '../../data/lidar/600/2022-12-10-16-54-57_Velodyne-VLP-16-Data.csv'\n",
    "\n",
    "print(os.path.exists(ZED_data), os.path.exists(LiDAR_data))"
   ]
  },
  {
   "cell_type": "code",
   "execution_count": null,
   "metadata": {},
   "outputs": [],
   "source": [
    "with open(LiDAR_data, newline='') as f:\n",
    "    rows = list(csv.reader(f, delimiter=',', quotechar='\"'))\n",
    "    pts_lidar = np.zeros(shape=(len(rows) - 1, 3))\n",
    "    headers = rows.pop(0)\n",
    "    for index, row in enumerate(rows[1:]):\n",
    "        # print(index, row[0])\n",
    "        pts_lidar[index] = row[0:3]"
   ]
  },
  {
   "cell_type": "code",
   "execution_count": null,
   "metadata": {},
   "outputs": [],
   "source": [
    "pcd_lidar = o3d.geometry.PointCloud()\n",
    "pcd_lidar.points = o3d.utility.Vector3dVector(pts_lidar)\n",
    "pts_lidar = np.asarray(pcd_lidar.points)\n",
    "print(pts_lidar, pts_lidar.shape)"
   ]
  },
  {
   "cell_type": "code",
   "execution_count": null,
   "metadata": {},
   "outputs": [],
   "source": [
    "def pts_to_img(point_cloud_data, image_resolution=(256, 256)):\n",
    "    # Define the resolution of the image\n",
    "    image_resolution = (512, 512)\n",
    "\n",
    "    # Determine the range of values for each axis\n",
    "    x_range = np.max(point_cloud_data[:, 0]) - np.min(point_cloud_data[:, 0])\n",
    "    y_range = np.max(point_cloud_data[:, 1]) - np.min(point_cloud_data[:, 1])\n",
    "    z_range = np.max(point_cloud_data[:, 2]) - np.min(point_cloud_data[:, 2])\n",
    "\n",
    "    # Rescale the values for each axis to fit within the image resolution\n",
    "    x_scaled = (point_cloud_data[:, 0] - np.min(point_cloud_data[:, 0])) / x_range * (image_resolution[0] - 1)\n",
    "    y_scaled = (point_cloud_data[:, 1] - np.min(point_cloud_data[:, 1])) / y_range * (image_resolution[1] - 1)\n",
    "    z_scaled = (point_cloud_data[:, 2] - np.min(point_cloud_data[:, 2])) / z_range\n",
    "\n",
    "    # Create the image array and set pixel values based on the 3D coordinates\n",
    "    image_array = np.zeros(image_resolution, dtype=np.uint8)\n",
    "    for i in range(len(x_scaled)):\n",
    "        image_array[int(y_scaled[i]), int(x_scaled[i])] = int(z_scaled[i] * 255)\n",
    "    \n",
    "    return image_array"
   ]
  },
  {
   "cell_type": "code",
   "execution_count": null,
   "metadata": {},
   "outputs": [],
   "source": [
    "def pts_to_img2(point_cloud_data, camera_pos, camera_orient,fov , image_resolution=(256, 256)):\n",
    "    # Define the camera pose matrix\n",
    "    R = cv2.Rodrigues(camera_orient)[0]\n",
    "    T = np.array(camera_pos).reshape((3,1))\n",
    "    M = np.hstack((R, T))\n",
    "    M = np.vstack((M, np.array([0,0,0,1])))\n",
    "    M_inv = np.linalg.inv(M)\n",
    "\n",
    "    # Transform the point cloud data into the camera coordinate system\n",
    "    point_cloud_data_hom = np.hstack((point_cloud_data, np.ones((point_cloud_data.shape[0], 1))))\n",
    "    point_cloud_data_cam_hom = np.dot(M_inv, point_cloud_data_hom.T).T[:,:3]\n",
    "\n",
    "    # Project the transformed data onto the image plane\n",
    "    f = image_resolution[0] / 2.0 / np.tan(fov/2)\n",
    "    img_pts = np.dot(point_cloud_data_cam_hom, np.array([[f, 0, 0], [0, f, 0], [0, 0, 1]]).T)\n",
    "    img_pts[:, :2] /= img_pts[:, 2:3]\n",
    "    img_pts[:, 0] += image_resolution[0] / 2.0\n",
    "    img_pts[:, 1] += image_resolution[1] / 2.0\n",
    "    img_pts = img_pts[:, :2].astype(np.int32)\n",
    "\n",
    "    # Create the image array and set pixel values based on the projected points\n",
    "    image_array = np.zeros(image_resolution, dtype=np.uint8)\n",
    "    for i in range(len(img_pts)):\n",
    "        if (img_pts[i, 0] >= 0 and img_pts[i, 0] < image_resolution[0] and\n",
    "            img_pts[i, 1] >= 0 and img_pts[i, 1] < image_resolution[1]):\n",
    "            image_array[img_pts[i, 1], img_pts[i, 0]] = int(point_cloud_data[i, 2] * 255)\n",
    "\n",
    "    return image_array"
   ]
  },
  {
   "cell_type": "code",
   "execution_count": null,
   "metadata": {},
   "outputs": [],
   "source": [
    "def pts_to_img3(point_cloud_data, camera_pos, camera_orient, fov, image_resolution):\n",
    "    # Define the camera pose matrix\n",
    "    R = cv2.Rodrigues(camera_orient)[0]\n",
    "    T = np.array(camera_pos).reshape((3,1))\n",
    "    M = np.hstack((R, T))\n",
    "    M = np.vstack((M, np.array([0,0,0,1])))\n",
    "    M_inv = np.linalg.inv(M)\n",
    "\n",
    "    # Transform the point cloud data into the camera coordinate system\n",
    "    point_cloud_data_hom = np.hstack((point_cloud_data, np.ones((point_cloud_data.shape[0], 1))))\n",
    "    point_cloud_data_cam_hom = np.dot(M_inv, point_cloud_data_hom.T).T[:,:3]\n",
    "\n",
    "    # Project the transformed data onto the image plane\n",
    "    aspect_ratio = image_resolution[1] / image_resolution[0]\n",
    "    f = 1.0 / np.tan(fov / 2)\n",
    "    img_pts = np.dot(point_cloud_data_cam_hom, np.array([[f, 0, 0], [0, f / aspect_ratio, 0], [0, 0, 1]]).T)\n",
    "    img_pts[:, :2] /= img_pts[:, 2:3]\n",
    "    img_pts[:, 0] += image_resolution[0] / 2.0\n",
    "    img_pts[:, 1] += image_resolution[1] / 2.0\n",
    "    img_pts = img_pts[:, :2].astype(np.int32)\n",
    "\n",
    "    # Create the image array and set pixel values based on the projected points\n",
    "    image_array = np.zeros(image_resolution, dtype=np.uint8)\n",
    "    for i in range(len(img_pts)):\n",
    "        if (img_pts[i, 0] >= 0 and img_pts[i, 0] < image_resolution[0] and\n",
    "            img_pts[i, 1] >= 0 and img_pts[i, 1] < image_resolution[1]):\n",
    "            image_array[img_pts[i, 1], img_pts[i, 0]] = int(point_cloud_data[i, 2] * 255)\n",
    "\n",
    "    return image_array"
   ]
  },
  {
   "cell_type": "code",
   "execution_count": null,
   "metadata": {},
   "outputs": [],
   "source": [
    "# dept_lidar = pts_to_img(pts_lidar)\n",
    "\n",
    "camera_pos = (0, 0, 10)\n",
    "camera_orient = (0, 0, 0)\n",
    "image_resolution = (512, 512)\n",
    "\n",
    "dept_lidar = pts_to_img2(pts_lidar, camera_pos, camera_orient, np.pi/2, image_resolution)\n",
    "print(dept_lidar.max())\n",
    "plt.imshow(dept_lidar)"
   ]
  },
  {
   "cell_type": "code",
   "execution_count": null,
   "metadata": {},
   "outputs": [],
   "source": [
    "pcd_lidar_r = copy.deepcopy(pcd_lidar).translate((0, 0, 0))\n",
    "pcd_lidar_r.rotate(pcd_lidar_r.get_rotation_matrix_from_xyz((-np.pi / 2, 0, 0)), center=(0, 0, 0))\n",
    "pts_lidar_r = np.asarray(pcd_lidar_r.points)"
   ]
  },
  {
   "cell_type": "code",
   "execution_count": null,
   "metadata": {},
   "outputs": [],
   "source": [
    "dept_lidar_r = pts_to_img(pts_lidar_r)\n",
    "plt.imshow(dept_lidar_r)"
   ]
  },
  {
   "cell_type": "code",
   "execution_count": null,
   "metadata": {},
   "outputs": [],
   "source": [
    "pcd_zed = o3d.io.read_point_cloud(ZED_data)\n",
    "pts_zed = np.asarray(pcd_zed.points)\n",
    "print(pts_zed, pts_zed.shape)"
   ]
  },
  {
   "cell_type": "code",
   "execution_count": null,
   "metadata": {},
   "outputs": [],
   "source": [
    "dept_zed = pts_to_img(pts_zed)\n",
    "plt.imshow(dept_zed)"
   ]
  },
  {
   "cell_type": "code",
   "execution_count": null,
   "metadata": {},
   "outputs": [],
   "source": [
    "pcd_zed_r = copy.deepcopy(pcd_zed).translate((0, 0, 0))\n",
    "pcd_zed_r.rotate(pcd_zed_r.get_rotation_matrix_from_xyz((-np.pi / 2, 0, 0)), center=(0, 0, 0))\n",
    "pts_zed_r = np.asarray(pcd_zed_r.points)"
   ]
  },
  {
   "cell_type": "code",
   "execution_count": null,
   "metadata": {},
   "outputs": [],
   "source": [
    "dept_zed_r = pts_to_img(pts_zed_r)\n",
    "plt.imshow(dept_zed_r)"
   ]
  },
  {
   "cell_type": "code",
   "execution_count": null,
   "metadata": {},
   "outputs": [],
   "source": [
    "pg_dept_lidar = np.real(pg(dept_lidar, 8, 0.4, 100, threshold=100))\n",
    "plt.imshow(pg_dept_lidar)"
   ]
  },
  {
   "cell_type": "code",
   "execution_count": null,
   "metadata": {},
   "outputs": [],
   "source": [
    "def img_to_pts(image_array):\n",
    "    # Determine the image resolution\n",
    "    image_resolution = image_array.shape[:2]\n",
    "\n",
    "    # Rescale the pixel values to their original range\n",
    "    z_range = 1.0\n",
    "    z_scaled = image_array.astype(float) / 255.0 * z_range\n",
    "\n",
    "    # Rescale the x and y coordinates to their original range\n",
    "    x_range = image_resolution[0] - 1\n",
    "    y_range = image_resolution[1] - 1\n",
    "    x, y = np.meshgrid(np.arange(image_resolution[0]), np.arange(image_resolution[1]), indexing='ij')\n",
    "    x_scaled = x / x_range * np.max(x_range) + np.min(x_range)\n",
    "    y_scaled = y / y_range * np.max(y_range) + np.min(y_range)\n",
    "\n",
    "    # Rescale the z coordinates to their original range\n",
    "    z = z_scaled / z_range * (np.max(z_range) - np.min(z_range)) + np.min(z_range)\n",
    "\n",
    "    # Combine the x, y, and z coordinates into a point cloud\n",
    "    point_cloud_data = np.column_stack((x_scaled.flatten(), y_scaled.flatten(), z.flatten()))\n",
    "\n",
    "    return point_cloud_data"
   ]
  },
  {
   "cell_type": "code",
   "execution_count": null,
   "metadata": {},
   "outputs": [],
   "source": [
    "pts_lidar_hat = img_to_pts(dept_lidar_r)\n",
    "pcd_lidar_hat = o3d.geometry.PointCloud()\n",
    "pcd_lidar_hat.points = o3d.utility.Vector3dVector(pts_lidar_hat)"
   ]
  },
  {
   "cell_type": "code",
   "execution_count": null,
   "metadata": {},
   "outputs": [],
   "source": [
    "o3d.visualization.draw_geometries([\n",
    "    # coords,\n",
    "    # pcd_zed,\n",
    "    # pcd_lidar,\n",
    "    # pcd_lidar_r,\n",
    "    pcd_lidar_hat,\n",
    "])"
   ]
  },
  {
   "cell_type": "code",
   "execution_count": null,
   "metadata": {},
   "outputs": [],
   "source": [
    "def similarity_percentage(pts_1, pts_2):\n",
    "    # Calculate the RMSE between the original and recovered point clouds\n",
    "    mse = np.mean((pts_1 - pts_2)**2)\n",
    "    rmse = np.sqrt(mse)\n",
    "\n",
    "    # Normalize the RMSE to a similarity percentage between 0 and 100\n",
    "    similarity_percent = 100.0 * (1.0 - rmse / np.max(pts_1 - np.min(pts_1)))\n",
    "\n",
    "    return similarity_percent"
   ]
  },
  {
   "cell_type": "code",
   "execution_count": null,
   "metadata": {},
   "outputs": [],
   "source": [
    "print(pts_lidar_r.shape, pts_lidar_hat.shape)"
   ]
  },
  {
   "cell_type": "code",
   "execution_count": null,
   "metadata": {},
   "outputs": [],
   "source": [
    "similarity_percentage(pts_lidar, pts_lidar_hat)"
   ]
  }
 ],
 "metadata": {
  "kernelspec": {
   "display_name": "Python 3.8.10 64-bit",
   "language": "python",
   "name": "python3"
  },
  "language_info": {
   "codemirror_mode": {
    "name": "ipython",
    "version": 3
   },
   "file_extension": ".py",
   "mimetype": "text/x-python",
   "name": "python",
   "nbconvert_exporter": "python",
   "pygments_lexer": "ipython3",
   "version": "3.8.10"
  },
  "orig_nbformat": 4,
  "vscode": {
   "interpreter": {
    "hash": "e7370f93d1d0cde622a1f8e1c04877d8463912d04d973331ad4851f04de6915a"
   }
  }
 },
 "nbformat": 4,
 "nbformat_minor": 2
}
