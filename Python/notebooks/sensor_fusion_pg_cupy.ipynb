{
 "cells": [
  {
   "cell_type": "code",
   "execution_count": null,
   "metadata": {},
   "outputs": [],
   "source": [
    "import open3d as o3d\n",
    "import numpy as np\n",
    "import cupy as cp\n",
    "import matplotlib.pyplot as plt\n",
    "import cv2\n",
    "import csv\n",
    "import os"
   ]
  },
  {
   "cell_type": "code",
   "execution_count": null,
   "metadata": {
    "collapsed": true
   },
   "outputs": [],
   "source": [
    "LiDAR_data = '../../data/20221210/lidar/300/2022-12-10-16-53-36_Velodyne-VLP-16-Data.csv'\n",
    "\n",
    "os.path.exists(LiDAR_data)"
   ]
  },
  {
   "cell_type": "code",
   "execution_count": null,
   "metadata": {
    "collapsed": false,
    "pycharm": {
     "name": "#%%\n"
    }
   },
   "outputs": [],
   "source": [
    "with open(LiDAR_data, newline='') as f:\n",
    "    rows = list(csv.reader(f, delimiter=',', quotechar='\"'))\n",
    "    sph_lidar = np.zeros(shape=(len(rows) - 1, 3))\n",
    "    headers = rows.pop(0)\n",
    "    for index, row in enumerate(rows[1:]):\n",
    "        # print(index, row[0])\n",
    "        sph_lidar[index] = row[7:10]\n",
    "\n",
    "gt_mean = sph_lidar[:,2].mean()"
   ]
  },
  {
   "cell_type": "code",
   "execution_count": null,
   "metadata": {},
   "outputs": [],
   "source": [
    "sph_lidar.shape"
   ]
  },
  {
   "cell_type": "code",
   "execution_count": null,
   "metadata": {},
   "outputs": [],
   "source": [
    "indexer = {\n",
    "    0:15,\n",
    "    2:14,\n",
    "    4:13,\n",
    "    6:12,\n",
    "    8:11,\n",
    "    10:10,\n",
    "    12:9,\n",
    "    14:8,\n",
    "    1:7,\n",
    "    3:6,\n",
    "    5:5,\n",
    "    7:4,\n",
    "    9:3,\n",
    "    11:2,\n",
    "    13:1,\n",
    "    15:0,\n",
    "}\n",
    "\n",
    "sph_lidar[:,0] = np.array(list(map(indexer.get, sph_lidar[:,0])))"
   ]
  },
  {
   "cell_type": "code",
   "execution_count": null,
   "metadata": {},
   "outputs": [],
   "source": [
    "mid_cutoff = 18000\n",
    "sph_lidar[:,1] += mid_cutoff\n",
    "\n",
    "mask = sph_lidar[:,1] > 2*mid_cutoff\n",
    "\n",
    "sph_lidar[mask, 1] -= 2*mid_cutoff"
   ]
  },
  {
   "cell_type": "code",
   "execution_count": null,
   "metadata": {},
   "outputs": [],
   "source": [
    "num_arrays = 16\n",
    "\n",
    "# Split the array based on the range of the first column\n",
    "arrays = []\n",
    "for i in range(num_arrays):\n",
    "    lower = i\n",
    "    upper = i + 1\n",
    "    mask = (sph_lidar[:, 0] >= lower) & (sph_lidar[:, 0] < upper)\n",
    "    sub_array = sph_lidar[mask, 1:]\n",
    "    arrays.append(sub_array)\n",
    "\n",
    "# Convert each sub-array to a 1D array sorted by the first column and using the second column as the value\n",
    "sph_lidar_frame = []\n",
    "for sub_array in arrays:\n",
    "    indices = np.argsort(sub_array[:, 0])\n",
    "    sorted_array = sub_array[indices, 1].tolist()\n",
    "\n",
    "    row_len = len(sorted_array)\n",
    "    num_zeros = 1280 - row_len\n",
    "    step_size = row_len // (num_zeros + 1)\n",
    "\n",
    "    # Loop over the array and insert zeros at regular intervals\n",
    "    for i in range(num_zeros):\n",
    "        index = (i + 1) * step_size\n",
    "        sorted_array.insert(index, gt_mean)\n",
    "    print(len(sorted_array))\n",
    "    \n",
    "    sph_lidar_frame.append(sorted_array)"
   ]
  },
  {
   "cell_type": "code",
   "execution_count": null,
   "metadata": {},
   "outputs": [],
   "source": [
    "ZED_data = '../../data/20221210/ZED/720/point_cloud_PLY_3029_720_06-12-2022-19-39-57.ply'\n",
    "os.path.exists(ZED_data)"
   ]
  },
  {
   "cell_type": "code",
   "execution_count": null,
   "metadata": {},
   "outputs": [],
   "source": [
    "def appendSpherical_np(xyz):\n",
    "    ptsnew = np.hstack((xyz, np.zeros(xyz.shape)))\n",
    "    xy = xyz[:,2]**2 + xyz[:,1]**2\n",
    "    ptsnew[:,3] = np.sqrt(xy + xyz[:,0]**2)\n",
    "    # ptsnew[:,4] = np.arctan2(np.sqrt(xy), xyz[:,0]) # for elevation angle defined from Z-axis down\n",
    "    ptsnew[:,4] = np.arctan2(xyz[:,0], np.sqrt(xy)) # for elevation angle defined from XY-plane up\n",
    "    ptsnew[:,5] = np.arctan2(xyz[:,1], xyz[:,2])\n",
    "    return ptsnew"
   ]
  },
  {
   "cell_type": "code",
   "execution_count": null,
   "metadata": {},
   "outputs": [],
   "source": [
    "pcd_zed = o3d.io.read_point_cloud(ZED_data)\n",
    "pts_zed = np.asarray(pcd_zed.points)"
   ]
  },
  {
   "cell_type": "code",
   "execution_count": null,
   "metadata": {},
   "outputs": [],
   "source": [
    "pts_zed_sph = appendSpherical_np(pts_zed)[:,3:6]\n",
    "pts_zed_sph[:,1:3] = np.degrees(pts_zed_sph[:,1:3]) + 180"
   ]
  },
  {
   "cell_type": "code",
   "execution_count": null,
   "metadata": {},
   "outputs": [],
   "source": [
    "pts_zed_sph[:,2].shape"
   ]
  },
  {
   "cell_type": "code",
   "execution_count": null,
   "metadata": {},
   "outputs": [],
   "source": [
    "a = pts_zed_sph[:,2]\n",
    "\n",
    "lower_angle = 20\n",
    "upper_angle = 20\n",
    "\n",
    "polar_min, polar_max = pts_zed_sph[:,2].min() + lower_angle, pts_zed_sph[:,2].max() - upper_angle\n",
    "\n",
    "pts_zed_sph_filt = pts_zed_sph[(a < polar_min) | (a > polar_max)]\n",
    "# pts_zed_sph_filt = b[b[:,2] < max]\n",
    "\n",
    "print(pts_zed_sph_filt.shape)"
   ]
  },
  {
   "cell_type": "code",
   "execution_count": null,
   "metadata": {},
   "outputs": [],
   "source": [
    "pts_zed_sph_filt[:,1] *= 14.03\n",
    "pts_zed_sph_filt[:,1] = pts_zed_sph_filt[:,1]//1 - 1903\n",
    "print(len(np.unique(pts_zed_sph_filt[:,1])))\n",
    "\n",
    "h_range = (int(pts_zed_sph_filt[:,1].min()), int(pts_zed_sph_filt[:,1].max()+1))"
   ]
  },
  {
   "cell_type": "code",
   "execution_count": null,
   "metadata": {},
   "outputs": [],
   "source": [
    "bg_depth = pts_zed_sph_filt[:,0].mean()\n",
    "print(bg_depth)"
   ]
  },
  {
   "cell_type": "code",
   "execution_count": null,
   "metadata": {},
   "outputs": [],
   "source": [
    "def map_range_to_interval(value, old_min, old_max, new_min, new_max):\n",
    "    mapped_value = (value - old_min) * (new_max - new_min) / (old_max - old_min) + new_min\n",
    "    return int(mapped_value)"
   ]
  },
  {
   "cell_type": "code",
   "execution_count": null,
   "metadata": {},
   "outputs": [],
   "source": [
    "mask = pts_zed_sph_filt[:,2] > lower_angle\n",
    "\n",
    "pts_zed_sph_filt[mask, 2] -= 360\n",
    "pts_zed_sph_filt[not mask.all(), 2] += lower_angle\n",
    "\n",
    "pts_zed_sph_filt[:,2] *= 1.6\n",
    "\n",
    "v_range = (pts_zed_sph_filt[:,2].min(), pts_zed_sph_filt[:,2].max()+1)\n",
    "\n",
    "pts_zed_sph_filt[:,2] = np.vectorize(map_range_to_interval)(pts_zed_sph_filt[:,2], v_range[0], v_range[1], 0, 720)"
   ]
  },
  {
   "cell_type": "code",
   "execution_count": null,
   "metadata": {},
   "outputs": [],
   "source": [
    "sph_zed_frame = []\n",
    "for i in range(0, 720):\n",
    "    lower = i\n",
    "    upper = i + 1\n",
    "    mask = (pts_zed_sph_filt[:, 2] >= lower) & (pts_zed_sph_filt[:, 2] < upper)\n",
    "    sub_array = pts_zed_sph_filt[mask, 0:2]\n",
    "\n",
    "    row = np.ones(1280)*bg_depth\n",
    "    row[sub_array[:,1].astype(int)] = sub_array[:,0]\n",
    "    sph_zed_frame.append(row)\n",
    "sph_zed_frame = np.asarray(sph_zed_frame)"
   ]
  },
  {
   "cell_type": "code",
   "execution_count": null,
   "metadata": {},
   "outputs": [],
   "source": [
    "m = 720//16\n",
    "\n",
    "# us = np.ones((720,1280)) * gt_mean /2\n",
    "us = sph_zed_frame\n",
    "us[::m,:] = sph_lidar_frame\n",
    "\n",
    "plt.imshow(us)"
   ]
  },
  {
   "cell_type": "code",
   "execution_count": null,
   "metadata": {},
   "outputs": [],
   "source": [
    "def lpf(img, ncutoff):\n",
    "    # Apply 2D FFT to the image\n",
    "    f = cp.fft.fft2(img)\n",
    "\n",
    "    # Shift the zero frequency component to the center of the spectrum\n",
    "    fshift = cp.fft.fftshift(f)\n",
    "\n",
    "    # Create a circular mask of the same size as the spectrum\n",
    "    rows, cols = img.shape\n",
    "    crow, ccol = rows // 2, cols // 2\n",
    "    mask = np.zeros((rows, cols), np.uint8)\n",
    "    cutoff = int(min(crow, ccol)*ncutoff)\n",
    "    cv2.circle(mask, (ccol, crow), cutoff, 1, -1)\n",
    "    # cv2.ellipse(mask, (ccol, crow), (1, 2) * cutoff, 0, 0, 360,  1, -1)\n",
    "\n",
    "    mask = cp.asarray(mask)\n",
    "\n",
    "    # Apply the mask to the shifted spectrum\n",
    "    fshift_filtered = fshift * mask\n",
    "\n",
    "    # Shift the zero frequency component back to the corner of the spectrum\n",
    "    f_filtered = cp.fft.ifftshift(fshift_filtered)\n",
    "\n",
    "    # Apply the inverse 2D FFT to the filtered spectrum\n",
    "    img_filtered = cp.fft.ifft2(f_filtered)\n",
    "    img_filtered = cp.real(img_filtered)\n",
    "\n",
    "    return img_filtered\n",
    "\n",
    "\n",
    "def pg(input, us_rate, ncutoff, threshold = 100):\n",
    "    ncutoff = ncutoff / 10\n",
    "    filtered = input\n",
    "    \n",
    "    while threshold > 0:\n",
    "        filtered = lpf(filtered,ncutoff)\n",
    "        filtered[::us_rate, ::us_rate] = input[::us_rate, ::us_rate]\n",
    "\n",
    "        threshold -=1\n",
    "    \n",
    "    return filtered"
   ]
  },
  {
   "cell_type": "code",
   "execution_count": null,
   "metadata": {},
   "outputs": [],
   "source": [
    "plt.imshow(cp.log(abs(cp.fft.fftshift(cp.fft.fft2(cp.asarray(us))))).get())"
   ]
  },
  {
   "cell_type": "code",
   "execution_count": null,
   "metadata": {},
   "outputs": [],
   "source": [
    "img_l = lpf(cp.asarray(us), 0.25)\n",
    "plt.imshow(cp.log(abs(cp.fft.fftshift(cp.fft.fft2(img_l)))).get())\n",
    "img_l"
   ]
  },
  {
   "cell_type": "code",
   "execution_count": null,
   "metadata": {},
   "outputs": [],
   "source": [
    "img_l[::m,:] = cp.asarray(us)[::m,:]\n",
    "plt.imshow(cp.log(abs(cp.fft.fftshift(cp.fft.fft2(cp.asarray(img_l))))).get())"
   ]
  },
  {
   "cell_type": "code",
   "execution_count": null,
   "metadata": {},
   "outputs": [],
   "source": [
    "pg_frame = pg(cp.asarray(us), m, ncutoff=1, threshold=1)\n",
    "plt.imshow(pg_frame.get())"
   ]
  },
  {
   "cell_type": "code",
   "execution_count": null,
   "metadata": {},
   "outputs": [],
   "source": [
    "# pg_frame - us"
   ]
  },
  {
   "cell_type": "code",
   "execution_count": null,
   "metadata": {},
   "outputs": [],
   "source": [
    "print(us.max(), pg_frame.max())"
   ]
  },
  {
   "cell_type": "code",
   "execution_count": null,
   "metadata": {},
   "outputs": [],
   "source": [
    "def back_to_pts_form(arr):\n",
    "    # get the shape of the input array\n",
    "    m, n = arr.shape\n",
    "    azimuth_const = 100/n\n",
    "    polar_const = 30/m\n",
    "    \n",
    "    # create a 3D output array of size (m * n, 3)\n",
    "    out = np.zeros((m * n, 3))\n",
    "    \n",
    "    # populate the output array\n",
    "    for row in range(m):\n",
    "        for col in range(n):\n",
    "            index = row * n + col\n",
    "            out[index, 0] = arr[row, col]\n",
    "            out[index, 1] = row * polar_const\n",
    "            out[index, 2] = col * azimuth_const \n",
    "    \n",
    "    return out\n"
   ]
  },
  {
   "cell_type": "code",
   "execution_count": null,
   "metadata": {},
   "outputs": [],
   "source": [
    "angle = {\n",
    "    15:-15,\n",
    "    14:-13,\n",
    "    13:-11,\n",
    "    12:-9,\n",
    "    11:-7,\n",
    "    10:-5,\n",
    "    9:-3,\n",
    "    8:-1,\n",
    "    7:1,\n",
    "    6:3,\n",
    "    5:5,\n",
    "    4:7,\n",
    "    3:9,\n",
    "    2:11,\n",
    "    1:13,\n",
    "    0:15,\n",
    "}"
   ]
  },
  {
   "cell_type": "code",
   "execution_count": null,
   "metadata": {},
   "outputs": [],
   "source": [
    "back_pts = back_to_pts_form(pg_frame)\n",
    "# back_pts[:,1] = np.array(list(map(angle.get, back_pts[:,1])))\n",
    "back_pts[:,1] = np.radians(back_pts[:,1])\n",
    "back_pts[:,2] = np.radians(back_pts[:,2])"
   ]
  },
  {
   "cell_type": "code",
   "execution_count": null,
   "metadata": {},
   "outputs": [],
   "source": [
    "max(back_pts[:,2])"
   ]
  },
  {
   "cell_type": "code",
   "execution_count": null,
   "metadata": {},
   "outputs": [],
   "source": [
    "point_cloud_data = back_pts\n",
    "\n",
    "# Convert spherical coordinates to Cartesian coordinates\n",
    "x = point_cloud_data[:, 0] * np.cos(point_cloud_data[:, 1]) * np.cos(point_cloud_data[:, 2])\n",
    "y = point_cloud_data[:, 0] * np.cos(point_cloud_data[:, 1]) * np.sin(point_cloud_data[:, 2])\n",
    "z = point_cloud_data[:, 0] * np.sin(point_cloud_data[:, 1])\n",
    "\n",
    "pg_pts = np.asarray([x, y, z]).T\n",
    "\n",
    "pcd_pg_lidar = o3d.geometry.PointCloud()\n",
    "pcd_pg_lidar.points = o3d.utility.Vector3dVector(pg_pts)"
   ]
  },
  {
   "cell_type": "code",
   "execution_count": null,
   "metadata": {},
   "outputs": [],
   "source": [
    "pg_pts.shape"
   ]
  },
  {
   "cell_type": "code",
   "execution_count": null,
   "metadata": {},
   "outputs": [],
   "source": [
    "sph_lidar[:,0] = np.radians(sph_lidar[:,0])\n",
    "sph_lidar[:,1] = np.radians(sph_lidar[:,1] / 100)\n",
    "\n",
    "point_cloud_data = sph_lidar\n",
    "\n",
    "# Convert spherical coordinates to Cartesian coordinates\n",
    "x = point_cloud_data[:, 2] * np.cos(point_cloud_data[:, 0]) * np.cos(point_cloud_data[:, 1])\n",
    "y = point_cloud_data[:, 2] * np.cos(point_cloud_data[:, 0]) * np.sin(point_cloud_data[:, 1])\n",
    "z = point_cloud_data[:, 2] * np.sin(point_cloud_data[:, 0])\n",
    "\n",
    "inp_pts = np.asarray([x, y, z]).T\n",
    "\n",
    "pcd_inp_lidar = o3d.geometry.PointCloud()\n",
    "pcd_inp_lidar.points = o3d.utility.Vector3dVector(inp_pts)"
   ]
  },
  {
   "cell_type": "code",
   "execution_count": null,
   "metadata": {},
   "outputs": [],
   "source": [
    "\n",
    "o3d.visualization.draw_geometries([\n",
    "    pcd_pg_lidar, \n",
    "    pcd_inp_lidar\n",
    "    ])"
   ]
  }
 ],
 "metadata": {
  "kernelspec": {
   "display_name": "Python 3.8.10 64-bit",
   "language": "python",
   "name": "python3"
  },
  "language_info": {
   "codemirror_mode": {
    "name": "ipython",
    "version": 3
   },
   "file_extension": ".py",
   "mimetype": "text/x-python",
   "name": "python",
   "nbconvert_exporter": "python",
   "pygments_lexer": "ipython3",
   "version": "3.8.10"
  },
  "vscode": {
   "interpreter": {
    "hash": "e7370f93d1d0cde622a1f8e1c04877d8463912d04d973331ad4851f04de6915a"
   }
  }
 },
 "nbformat": 4,
 "nbformat_minor": 0
}
