{
 "cells": [
  {
   "cell_type": "code",
   "execution_count": null,
   "metadata": {},
   "outputs": [],
   "source": [
    "import numpy as np\n",
    "from PIL import Image\n",
    "from matplotlib import pyplot as plt\n",
    "import gc\n",
    "from scipy import fftpack\n",
    "gc.collect()"
   ]
  },
  {
   "cell_type": "code",
   "execution_count": null,
   "metadata": {},
   "outputs": [],
   "source": [
    "image_file = '../../data/image/peppers.png'\n",
    "\n",
    "image = Image.open(image_file).convert('L')\n",
    "x = np.asarray(image)"
   ]
  },
  {
   "cell_type": "code",
   "execution_count": null,
   "metadata": {},
   "outputs": [],
   "source": [
    "plt.imshow(x)"
   ]
  },
  {
   "cell_type": "code",
   "execution_count": null,
   "metadata": {},
   "outputs": [],
   "source": [
    "X = np.fft.fftshift(np.fft.fft2(x))\n",
    "inv = np.fft.ifft2(X)\n",
    "plt.imshow(abs(inv))"
   ]
  },
  {
   "cell_type": "code",
   "execution_count": null,
   "metadata": {},
   "outputs": [],
   "source": [
    "m = 8;  # downsampling coefficient\n",
    "y = x[::m, ::m]  # input LR image"
   ]
  },
  {
   "cell_type": "code",
   "execution_count": null,
   "metadata": {},
   "outputs": [],
   "source": [
    "plt.imshow(y)"
   ]
  },
  {
   "cell_type": "code",
   "execution_count": null,
   "metadata": {},
   "outputs": [],
   "source": [
    "z = np.zeros(x.shape, dtype=int)\n",
    "z[::m, ::m] = y"
   ]
  },
  {
   "cell_type": "code",
   "execution_count": null,
   "metadata": {},
   "outputs": [],
   "source": [
    "plt.imshow(z)"
   ]
  },
  {
   "cell_type": "code",
   "execution_count": null,
   "metadata": {},
   "outputs": [],
   "source": [
    "plt.imshow(np.log(abs(np.fft.fftshift(np.fft.fft2(z)))))"
   ]
  },
  {
   "cell_type": "code",
   "execution_count": null,
   "metadata": {},
   "outputs": [],
   "source": [
    "X = np.fft.fft2(z)\n",
    "\n",
    "X[:225] = 0\n",
    "X[290:] = 0\n",
    "X[:, :225] = 0\n",
    "X[:, 290:] = 0\n",
    "\n",
    "plt.imshow(np.log(abs(X)))"
   ]
  },
  {
   "cell_type": "code",
   "execution_count": null,
   "metadata": {},
   "outputs": [],
   "source": [
    "x_hat = abs(np.fft.ifft2(X))\n",
    "print(min(x_hat[z==0]==0))\n",
    "plt.imshow(x_hat)"
   ]
  },
  {
   "cell_type": "code",
   "execution_count": null,
   "metadata": {},
   "outputs": [],
   "source": [
    "# x_hat[z==0] = 0\n",
    "# plt.imshow(x_hat)\n",
    "\n",
    "# print(z!=0)"
   ]
  },
  {
   "cell_type": "code",
   "execution_count": null,
   "metadata": {},
   "outputs": [],
   "source": [
    "z_hat = z\n",
    "z1 = z\n",
    "\n",
    "for i in range(4):    \n",
    "    Z_hat = np.fft.fft2(z_hat) * 64\n",
    "    \n",
    "    plt.imshow(np.log(abs(np.fft.fftshift(Z_hat))))\n",
    "     \n",
    "    Z_hat[:225] = 0\n",
    "    Z_hat[290:] = 0\n",
    "    Z_hat[:, :225] = 0\n",
    "    Z_hat[:, 290:] = 0\n",
    "    \n",
    "    z_hat = abs(np.fft.ifft2(Z_hat))\n",
    "    \n",
    "  \n",
    "    z_hat[::m, ::m] = z[::m, ::m]  # output SR image\n",
    "    # z_hat = mask(z_hat, z[::m, ::m])\n"
   ]
  },
  {
   "cell_type": "code",
   "execution_count": null,
   "metadata": {},
   "outputs": [],
   "source": [
    "print(z_hat.max(), y.max())\n",
    "plt.imshow(z_hat)"
   ]
  },
  {
   "cell_type": "code",
   "execution_count": null,
   "metadata": {},
   "outputs": [],
   "source": [
    "plt.imshow(z1)"
   ]
  },
  {
   "cell_type": "code",
   "execution_count": null,
   "metadata": {},
   "outputs": [],
   "source": [
    "a = np.asarray([[1,2,3,4,5,6,7,8,9,0],[1,2,3,4,5,6,7,8,9,0],[1,2,3,4,5,6,7,8,9,0],[1,2,3,4,5,6,7,8,9,0],[1,2,3,4,5,6,7,8,9,0],[1,2,3,4,5,6,7,8,9,0],[1,2,3,4,5,6,7,8,9,0],[1,2,3,4,5,6,7,8,9,0],[1,2,3,4,5,6,7,8,9,0],[1,2,3,4,5,6,7,8,9,0],])\n",
    "b = np.asarray([[0,0,0,0],[0,0,0,0],[0,0,0,0],[0,0,0,0],])\n",
    "\n",
    "print(a)\n",
    "print(b)\n",
    "print(a[::3,::3])\n",
    "\n",
    "plt.imshow(a)\n",
    "\n",
    "a[::3,::3] = b\n",
    "\n",
    "print(a)\n",
    "\n",
    "plt.imshow(a)"
   ]
  }
 ],
 "metadata": {
  "kernelspec": {
   "display_name": "Python 3.8.10 64-bit",
   "language": "python",
   "name": "python3"
  },
  "language_info": {
   "codemirror_mode": {
    "name": "ipython",
    "version": 3
   },
   "file_extension": ".py",
   "mimetype": "text/x-python",
   "name": "python",
   "nbconvert_exporter": "python",
   "pygments_lexer": "ipython3",
   "version": "3.8.10"
  },
  "orig_nbformat": 4,
  "vscode": {
   "interpreter": {
    "hash": "e7370f93d1d0cde622a1f8e1c04877d8463912d04d973331ad4851f04de6915a"
   }
  }
 },
 "nbformat": 4,
 "nbformat_minor": 2
}
