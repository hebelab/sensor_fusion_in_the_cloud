{
 "cells": [
  {
   "cell_type": "code",
   "execution_count": null,
   "metadata": {},
   "outputs": [],
   "source": [
    "import open3d as o3d\n",
    "import numpy as np\n",
    "from matplotlib import pyplot as plt\n",
    "import os\n",
    "from PIL import Image\n",
    "import csv\n",
    "import cv2"
   ]
  },
  {
   "cell_type": "code",
   "execution_count": null,
   "metadata": {},
   "outputs": [],
   "source": [
    "ZED_data = '../../data/20221210/ZED/720/depth_PNG_3029_720_06-12-2022-19-39-53.png'\n",
    "os.path.exists(ZED_data)"
   ]
  },
  {
   "cell_type": "code",
   "execution_count": null,
   "metadata": {},
   "outputs": [],
   "source": [
    "zed_depth_image = Image.open(ZED_data).convert('I')\n",
    "zed_depth = np.asarray(zed_depth_image)"
   ]
  },
  {
   "cell_type": "code",
   "execution_count": null,
   "metadata": {},
   "outputs": [],
   "source": [
    "plt.imshow(zed_depth)\n",
    "print(zed_depth.shape)"
   ]
  },
  {
   "cell_type": "code",
   "execution_count": null,
   "metadata": {},
   "outputs": [],
   "source": [
    "LiDAR_data = '../../data/20221210/lidar/300/2022-12-10-16-53-36_Velodyne-VLP-16-Data.csv'\n",
    "os.path.exists(LiDAR_data)"
   ]
  },
  {
   "cell_type": "code",
   "execution_count": null,
   "metadata": {},
   "outputs": [],
   "source": [
    "with open(LiDAR_data, newline='') as f:\n",
    "    rows = list(csv.reader(f, delimiter=',', quotechar='\"'))\n",
    "    sph_lidar = np.zeros(shape=(len(rows) - 1, 3))\n",
    "    headers = rows.pop(0)\n",
    "    for index, row in enumerate(rows[1:]):\n",
    "        # print(index, row[0])\n",
    "        sph_lidar[index] = row[7:10]"
   ]
  },
  {
   "cell_type": "code",
   "execution_count": null,
   "metadata": {},
   "outputs": [],
   "source": [
    "indexer = {\n",
    "    0:15,\n",
    "    2:14,\n",
    "    4:13,\n",
    "    6:12,\n",
    "    8:11,\n",
    "    10:10,\n",
    "    12:9,\n",
    "    14:8,\n",
    "    1:7,\n",
    "    3:6,\n",
    "    5:5,\n",
    "    7:4,\n",
    "    9:3,\n",
    "    11:2,\n",
    "    13:1,\n",
    "    15:0,\n",
    "}\n",
    "\n",
    "sph_lidar[:,0] = np.array(list(map(indexer.get, sph_lidar[:,0])))"
   ]
  },
  {
   "cell_type": "code",
   "execution_count": null,
   "metadata": {},
   "outputs": [],
   "source": [
    "mid_cutoff = 17100\n",
    "sph_lidar[:,1] += mid_cutoff\n",
    "mask = sph_lidar[:,1] > 2*mid_cutoff\n",
    "sph_lidar[mask, 1] -= 2*mid_cutoff"
   ]
  },
  {
   "cell_type": "code",
   "execution_count": null,
   "metadata": {},
   "outputs": [],
   "source": [
    "high_cutoff = mid_cutoff + 85 * 100 / 2\n",
    "low_cutoff = mid_cutoff - 85 * 100 / 2\n",
    "\n",
    "sph_lidar_85 = sph_lidar[sph_lidar[:,1] > low_cutoff]\n",
    "sph_lidar_85 = sph_lidar_85[sph_lidar_85[:,1] < high_cutoff]"
   ]
  },
  {
   "cell_type": "code",
   "execution_count": null,
   "metadata": {},
   "outputs": [],
   "source": [
    "num_arrays = 16\n",
    "\n",
    "# Split the array based on the range of the first column\n",
    "arrays = []\n",
    "for i in range(num_arrays):\n",
    "    lower = i\n",
    "    upper = i + 1\n",
    "    mask = (sph_lidar_85[:, 0] >= lower) & (sph_lidar_85[:, 0] < upper)\n",
    "    sub_array = sph_lidar_85[mask, 1:]\n",
    "    arrays.append(sub_array)\n",
    "\n",
    "# Convert each sub-array to a 1D array sorted by the first column and using the second column as the value\n",
    "sph_lidar_frame = []\n",
    "for sub_array in arrays:\n",
    "    indices = np.argsort(sub_array[:, 0])\n",
    "    sorted_array = sub_array[indices, 1].tolist()\n",
    "\n",
    "    row_len = len(sorted_array)\n",
    "    num_zeros = 1280 - row_len\n",
    "    step_size = row_len // (num_zeros + 1)\n",
    "\n",
    "    # Loop over the array and insert zeros at regular intervals\n",
    "    for i in range(num_zeros):\n",
    "        index = (i + 1) * step_size\n",
    "        sorted_array.insert(index, 0)\n",
    "    print(len(sorted_array))\n",
    "    \n",
    "    sph_lidar_frame.append(sorted_array)\n",
    "sph_lidar_frame = np.asarray(sph_lidar_frame)"
   ]
  },
  {
   "cell_type": "code",
   "execution_count": null,
   "metadata": {},
   "outputs": [],
   "source": [
    "print(sph_lidar_frame.shape)"
   ]
  },
  {
   "cell_type": "code",
   "execution_count": null,
   "metadata": {},
   "outputs": [],
   "source": [
    "m = 400//16\n",
    "gt_mean = sph_lidar_85[:,2].mean()\n",
    "\n",
    "us = zed_depth\n",
    "us = us / 1000  # us.mean() * gt_mean"
   ]
  },
  {
   "cell_type": "code",
   "execution_count": null,
   "metadata": {},
   "outputs": [],
   "source": [
    "# print(np.count_nonzero(us > 20), (zed_depth > 20).size)\n",
    "# us = us / us.mean() * gt_mean\n"
   ]
  },
  {
   "cell_type": "code",
   "execution_count": null,
   "metadata": {},
   "outputs": [],
   "source": [
    "us[160:560,:][::m,:] = sph_lidar_frame\n",
    "print(np.count_nonzero(us))\n",
    "\n",
    "plt.imshow(us)"
   ]
  },
  {
   "cell_type": "code",
   "execution_count": null,
   "metadata": {},
   "outputs": [],
   "source": [
    "us[us > 20] = 20\n",
    "us[us < 1] = 1"
   ]
  },
  {
   "cell_type": "code",
   "execution_count": null,
   "metadata": {},
   "outputs": [],
   "source": [
    "print(gt_mean, us.mean())\n",
    "print(us.min(),us.max())"
   ]
  },
  {
   "cell_type": "code",
   "execution_count": null,
   "metadata": {},
   "outputs": [],
   "source": [
    "print(us.shape)\n",
    "print(us[160:560,:][::m,:].shape)"
   ]
  },
  {
   "cell_type": "code",
   "execution_count": null,
   "metadata": {},
   "outputs": [],
   "source": [
    "def lpf(img, ncutoff):\n",
    "    # Apply 2D FFT to the image\n",
    "    f = np.fft.fft2(img)\n",
    "\n",
    "    # Shift the zero frequency component to the center of the spectrum\n",
    "    fshift = np.fft.fftshift(f)\n",
    "\n",
    "    # Create a circular mask of the same size as the spectrum\n",
    "    rows, cols = img.shape\n",
    "    crow, ccol = rows // 2, cols // 2\n",
    "    mask = np.zeros((rows, cols), np.uint8)\n",
    "    cutoff = int(min(crow, ccol)*ncutoff)\n",
    "    axes = (5, 10)\n",
    "    cv2.circle(mask, (ccol, crow), cutoff, 1, -1)\n",
    "    # cv2.ellipse(mask, (ccol, crow), axes, 0, 0, 360,  1, -1)\n",
    "\n",
    "    # Apply the mask to the shifted spectrum\n",
    "    fshift_filtered = fshift * mask\n",
    "\n",
    "    # Shift the zero frequency component back to the corner of the spectrum\n",
    "    f_filtered = np.fft.ifftshift(fshift_filtered)\n",
    "\n",
    "    # Apply the inverse 2D FFT to the filtered spectrum\n",
    "    img_filtered = np.fft.ifft2(f_filtered)\n",
    "    img_filtered = np.real(img_filtered)\n",
    "\n",
    "    return img_filtered\n",
    "\n",
    "def brf(img, low_cutoff, high_cutoff):\n",
    "    # Apply 2D FFT to the image\n",
    "    f = np.fft.fft2(img)\n",
    "\n",
    "    # Shift the zero frequency component to the center of the spectrum\n",
    "    fshift = np.fft.fftshift(f)\n",
    "\n",
    "    # Create a circular mask of the same size as the spectrum\n",
    "    rows, cols = img.shape\n",
    "    crow, ccol = rows // 2, cols // 2\n",
    "    mask_low = np.zeros((rows, cols), np.uint8)\n",
    "    mask_high = np.zeros((rows, cols), np.uint8)\n",
    "\n",
    "    # Create two circular masks with different radii\n",
    "    low_cutoff = int(min(crow, ccol)*low_cutoff)\n",
    "    high_cutoff = int(min(crow, ccol)*high_cutoff)\n",
    "    cv2.circle(mask_low, (ccol, crow), low_cutoff, 1, -1)\n",
    "    cv2.circle(mask_high, (ccol, crow), high_cutoff, 1, -1)\n",
    "\n",
    "    # Combine the two masks to create a bandpass filter\n",
    "    mask = cv2.bitwise_xor(mask_low, mask_high)\n",
    "\n",
    "    # Invert the filter to create a band reject filter\n",
    "    mask = 1 - mask\n",
    "\n",
    "    # Apply the mask to the shifted spectrum\n",
    "    fshift_filtered = fshift * mask\n",
    "\n",
    "    # Shift the zero frequency component back to the corner of the spectrum\n",
    "    f_filtered = np.fft.ifftshift(fshift_filtered)\n",
    "\n",
    "    # Apply the inverse 2D FFT to the filtered spectrum\n",
    "    img_filtered = np.fft.ifft2(f_filtered)\n",
    "    img_filtered = np.real(img_filtered)\n",
    "\n",
    "    return img_filtered\n",
    "\n",
    "def pg(input, us_rate, gt_mean, threshold = 100, lcutoff = 0.2, hcutoff = 0.4):\n",
    "# def pg(input, us_rate, ncutoff, gt_mean, iter):\n",
    "\n",
    "    pg_mean = 0\n",
    "    filtered = input\n",
    "    \n",
    "    while (pg_mean > gt_mean * 1.1 or pg_mean < gt_mean * 0.9   ) and threshold > 0:\n",
    "    # for i in range(iter):\n",
    "        filtered = lpf(filtered, lcutoff)\n",
    "        # filtered = brf(filtered, low_cutoff=lcutoff, high_cutoff=hcutoff)\n",
    "        filtered[::us_rate, ::us_rate] = input[::us_rate, ::us_rate]\n",
    "        pg_mean = filtered.mean()\n",
    "        threshold -=1\n",
    "    \n",
    "    return filtered"
   ]
  },
  {
   "cell_type": "code",
   "execution_count": null,
   "metadata": {},
   "outputs": [],
   "source": [
    "pg_frame = us\n",
    "pg_frame = pg(us, m, gt_mean=gt_mean, threshold=50, lcutoff=0.1, hcutoff=0.3)\n",
    "plt.imshow(pg_frame)"
   ]
  },
  {
   "cell_type": "code",
   "execution_count": null,
   "metadata": {},
   "outputs": [],
   "source": [
    "def back_to_pts_form(arr):\n",
    "    # get the shape of the input array\n",
    "    m, n = arr.shape\n",
    "    azimuth_const = 85/n\n",
    "    polar_const = 30/m\n",
    "    \n",
    "    # create a 3D output array of size (m * n, 3)\n",
    "    out = np.zeros((m * n, 3))\n",
    "    \n",
    "    # populate the output array\n",
    "    for row in range(m):\n",
    "        for col in range(n):\n",
    "            index = row * n + col\n",
    "            out[index, 0] = arr[row, col]\n",
    "            out[index, 1] = row * polar_const\n",
    "            out[index, 2] = col * azimuth_const \n",
    "    \n",
    "    return out"
   ]
  },
  {
   "cell_type": "code",
   "execution_count": null,
   "metadata": {},
   "outputs": [],
   "source": [
    "back_pts = back_to_pts_form(pg_frame)\n",
    "# back_pts[:,1] = np.array(list(map(angle.get, back_pts[:,1])))\n",
    "back_pts[:,1] = np.radians(back_pts[:,1])\n",
    "back_pts[:,2] = np.radians(back_pts[:,2])"
   ]
  },
  {
   "cell_type": "code",
   "execution_count": null,
   "metadata": {},
   "outputs": [],
   "source": [
    "point_cloud_data = back_pts\n",
    "\n",
    "# Convert spherical coordinates to Cartesian coordinates\n",
    "x = point_cloud_data[:, 0] * np.cos(point_cloud_data[:, 1]) * np.cos(point_cloud_data[:, 2])\n",
    "y = point_cloud_data[:, 0] * np.cos(point_cloud_data[:, 1]) * np.sin(point_cloud_data[:, 2])\n",
    "z = point_cloud_data[:, 0] * np.sin(point_cloud_data[:, 1])\n",
    "\n",
    "pg_pts = np.asarray([x, y, z]).T\n",
    "\n",
    "pcd_pg_lidar = o3d.geometry.PointCloud()\n",
    "pcd_pg_lidar.points = o3d.utility.Vector3dVector(pg_pts)"
   ]
  },
  {
   "cell_type": "code",
   "execution_count": null,
   "metadata": {},
   "outputs": [],
   "source": [
    "sph_lidar[:,0] = np.radians(sph_lidar[:,0])\n",
    "sph_lidar[:,1] = np.radians(sph_lidar[:,1] / 100)\n",
    "\n",
    "point_cloud_data = sph_lidar\n",
    "\n",
    "# Convert spherical coordinates to Cartesian coordinates\n",
    "x = point_cloud_data[:, 2] * np.cos(point_cloud_data[:, 0]) * np.cos(point_cloud_data[:, 1])\n",
    "y = point_cloud_data[:, 2] * np.cos(point_cloud_data[:, 0]) * np.sin(point_cloud_data[:, 1])\n",
    "z = point_cloud_data[:, 2] * np.sin(point_cloud_data[:, 0])\n",
    "\n",
    "inp_pts = np.asarray([x, y, z]).T\n",
    "\n",
    "pcd_inp_lidar = o3d.geometry.PointCloud()\n",
    "pcd_inp_lidar.points = o3d.utility.Vector3dVector(inp_pts)"
   ]
  },
  {
   "cell_type": "code",
   "execution_count": null,
   "metadata": {},
   "outputs": [],
   "source": [
    "o3d.visualization.draw_geometries([\n",
    "    pcd_pg_lidar, \n",
    "    # pcd_inp_lidar\n",
    "    ])"
   ]
  }
 ],
 "metadata": {
  "kernelspec": {
   "display_name": "Python 3.8.10 64-bit",
   "language": "python",
   "name": "python3"
  },
  "language_info": {
   "codemirror_mode": {
    "name": "ipython",
    "version": 3
   },
   "file_extension": ".py",
   "mimetype": "text/x-python",
   "name": "python",
   "nbconvert_exporter": "python",
   "pygments_lexer": "ipython3",
   "version": "3.7.9"
  },
  "vscode": {
   "interpreter": {
    "hash": "e7370f93d1d0cde622a1f8e1c04877d8463912d04d973331ad4851f04de6915a"
   }
  }
 },
 "nbformat": 4,
 "nbformat_minor": 0
}
