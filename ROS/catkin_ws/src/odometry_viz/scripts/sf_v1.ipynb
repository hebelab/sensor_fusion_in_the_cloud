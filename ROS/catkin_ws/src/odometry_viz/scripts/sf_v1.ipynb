{
 "cells": [
  {
   "cell_type": "code",
   "execution_count": null,
   "metadata": {},
   "outputs": [],
   "source": [
    "import rospy\n",
    "from sensor_msgs.msg import PointCloud2, Image, PointField\n",
    "import sensor_msgs.point_cloud2 as pc2\n",
    "from std_msgs.msg import Header\n",
    "from velodyne_msgs.msg import VelodyneScan\n",
    "import numpy as np\n",
    "import cupy as cp\n",
    "import matplotlib.pyplot as plt\n",
    "from cv_bridge import CvBridge\n",
    "import time\n",
    "import cv2\n",
    "import open3d as o3d"
   ]
  },
  {
   "cell_type": "code",
   "execution_count": null,
   "metadata": {},
   "outputs": [],
   "source": [
    "ZED_TOPIC = \"/islam/zed_pts\"\n",
    "VLP_TOPIC = \"/velodyne_points\"\n",
    "ZED_DEPTH = '/zed/zed_node/depth/depth_registered'"
   ]
  },
  {
   "cell_type": "code",
   "execution_count": null,
   "metadata": {},
   "outputs": [],
   "source": [
    "ZED_V = 360\n",
    "ZED_H = 640\n",
    "ZED_ANGLE = 90\n",
    "LiDAR_V = 16"
   ]
  },
  {
   "cell_type": "code",
   "execution_count": null,
   "metadata": {},
   "outputs": [],
   "source": [
    "rospy.init_node('sf', anonymous=True)\n",
    "# zed_s = rospy.wait_for_message(ZED_TOPIC, PointCloud2)\n",
    "# vlp_s = rospy.Subscriber(VLP_TOPIC, PointCloud2, vlp_callback)"
   ]
  },
  {
   "cell_type": "code",
   "execution_count": null,
   "metadata": {},
   "outputs": [],
   "source": [
    "def sph_to_cart_pts(pts):\n",
    "    pts[:,1] = cp.radians(pts[:,1])\n",
    "    pts[:,2] = cp.radians(pts[:,2])\n",
    "\n",
    "    # Convert spherical coordinates to Cartesian coordinates\n",
    "    x = pts[:, 0] * cp.cos(pts[:, 1]) * cp.cos(pts[:, 2])\n",
    "    y = pts[:, 0] * cp.cos(pts[:, 1]) * cp.sin(pts[:, 2])\n",
    "    z = pts[:, 0] * cp.sin(pts[:, 1])\n",
    "    \n",
    "    return cp.asarray([x, y, z]).T\n",
    "\n",
    "def cart_to_sph_pts(pts):\n",
    "    # Convert to CuPy array\n",
    "    pts = cp.asarray(pts)\n",
    "\n",
    "    # Convert to spherical coordinates\n",
    "    x, y, z = pts[:, 0], pts[:, 1], pts[:, 2]\n",
    "    r = cp.sqrt(x**2 + y**2 + z**2)\n",
    "    theta = cp.arctan(z / cp.sqrt(x**2 + y**2))\n",
    "    phi = cp.arctan(y / x)\n",
    "\n",
    "    return cp.column_stack((r, cp.degrees(theta), cp.degrees(phi)))\n",
    "    # return appendSpherical_np(pts)[:,3:6]\n",
    "\n",
    "def msg2pts(msg):\n",
    "    return np.array(list(pc2.read_points(msg, field_names=(\"x\", \"y\", \"z\"))))"
   ]
  },
  {
   "cell_type": "code",
   "execution_count": null,
   "metadata": {},
   "outputs": [],
   "source": [
    "vlp_filtered_p = rospy.Publisher(\"/islam/vlp_filt\", PointCloud2, queue_size=50)\n",
    "\n",
    "def callback(msg):\n",
    "    start = time.time()\n",
    "    vlp_pts = msg2pts(msg)\n",
    "    vlp_sph_pts_raw = cart_to_sph_pts(vlp_pts[vlp_pts[:,0] > 0])\n",
    "    mask = (vlp_sph_pts_raw[:, 2] < ZED_ANGLE/2) & (vlp_sph_pts_raw[:, 2] > -ZED_ANGLE/2)\n",
    "    vlp_sph_pts = vlp_sph_pts_raw[mask]\n",
    "    \n",
    "    header = Header()\n",
    "    header.stamp = rospy.Time.now()\n",
    "    header.frame_id = 'map'\n",
    "    \n",
    "    msg_p = pc2.create_cloud_xyz32(header, sph_to_cart_pts(vlp_sph_pts).get()) \n",
    "\n",
    "    vlp_filtered_p.publish(msg_p)    \n",
    "\n",
    "rospy.Subscriber(VLP_TOPIC, PointCloud2, callback)\n",
    "rospy.spin()"
   ]
  },
  {
   "cell_type": "code",
   "execution_count": null,
   "metadata": {},
   "outputs": [],
   "source": [
    "# zed_pts = rospy.wait_for_message(ZED_TOPIC, PointCloud2)\n",
    "zed_img = rospy.wait_for_message(ZED_DEPTH, Image)\n",
    "vlp_pts = rospy.wait_for_message(VLP_TOPIC, PointCloud2)\n",
    "if zed_img and vlp_pts:\n",
    "    print('OK')"
   ]
  },
  {
   "cell_type": "code",
   "execution_count": null,
   "metadata": {},
   "outputs": [],
   "source": [
    "bridge = CvBridge()\n",
    "zed_depth = np.array(bridge.imgmsg_to_cv2(zed_img, \"32FC1\"))"
   ]
  },
  {
   "cell_type": "code",
   "execution_count": null,
   "metadata": {},
   "outputs": [],
   "source": [
    "vlp_pts = msg2pts(vlp_pts)\n",
    "vlp_sph_pts_raw = cart_to_sph_pts(vlp_pts[vlp_pts[:,0] > 0])\n",
    "mask = (vlp_sph_pts_raw[:, 2] < ZED_ANGLE/2) & (vlp_sph_pts_raw[:, 2] > -ZED_ANGLE/2)\n",
    "vlp_sph_pts = vlp_sph_pts_raw[mask]"
   ]
  },
  {
   "cell_type": "code",
   "execution_count": null,
   "metadata": {},
   "outputs": [],
   "source": [
    "min(vlp_sph_pts[:,1])"
   ]
  },
  {
   "cell_type": "code",
   "execution_count": null,
   "metadata": {},
   "outputs": [],
   "source": [
    "print(np.nanmean(zed_depth[10]))"
   ]
  },
  {
   "cell_type": "code",
   "execution_count": null,
   "metadata": {},
   "outputs": [],
   "source": [
    "vlp_depth = zed_depth\n",
    "\n",
    "row_theta_range = 2\n",
    "row_theta_max = 15\n",
    "\n",
    "for i in range(0, LiDAR_V):\n",
    "    mask = (vlp_sph_pts[:, 1] < row_theta_max - i*row_theta_range) & (vlp_sph_pts[:, 2] > (row_theta_max - (i+1)*row_theta_range))\n",
    "    row = vlp_sph_pts[mask]\n",
    "    # print(row[:,2])\n",
    "    # print(len(vlp_sph_pts[mask]))\n",
    "    for col in row:\n",
    "        # print(vlp_depth[int(i*180/LiDAR_V),int(col[2]*ZED_ANGLE/ZED_H)])\n",
    "        vlp_depth[int(i*180/LiDAR_V),int(col[2]*ZED_ANGLE/ZED_H)] = col[0]\n",
    "        # print(vlp_depth[int(i*180/LiDAR_V),int(col[2]*ZED_ANGLE/ZED_H)])\n",
    "    \n",
    "    print(row[:,0].mean())\n"
   ]
  },
  {
   "cell_type": "code",
   "execution_count": null,
   "metadata": {},
   "outputs": [],
   "source": [
    "plt.imshow(vlp_depth)\n",
    "vlp_depth.shape"
   ]
  },
  {
   "cell_type": "code",
   "execution_count": null,
   "metadata": {},
   "outputs": [],
   "source": [
    "plt.imshow(zed_depth)\n",
    "zed_depth.shape"
   ]
  },
  {
   "cell_type": "code",
   "execution_count": null,
   "metadata": {},
   "outputs": [],
   "source": [
    "def lpf(img, ncutoff):\n",
    "    # Apply 2D FFT to the image\n",
    "    f = cp.fft.fft2(img)\n",
    "\n",
    "    # Shift the zero frequency component to the center of the spectrum\n",
    "    fshift = cp.fft.fftshift(f)\n",
    "\n",
    "    # Create a circular mask of the same size as the spectrum\n",
    "    rows, cols = img.shape\n",
    "    crow, ccol = rows // 2, cols // 2\n",
    "    mask = np.zeros((rows, cols), np.uint8)\n",
    "    cutoff = int(min(crow, ccol)*ncutoff)\n",
    "    cv2.circle(mask, (ccol, crow), cutoff, 1, -1)\n",
    "    # cv2.ellipse(mask, (ccol, crow), (1, 2) * cutoff, 0, 0, 360,  1, -1)\n",
    "\n",
    "    mask = cp.asarray(mask)\n",
    "\n",
    "    # Apply the mask to the shifted spectrum\n",
    "    fshift_filtered = fshift * mask\n",
    "\n",
    "    # Shift the zero frequency component back to the corner of the spectrum\n",
    "    f_filtered = cp.fft.ifftshift(fshift_filtered)\n",
    "\n",
    "    # Apply the inverse 2D FFT to the filtered spectrum\n",
    "    img_filtered = cp.fft.ifft2(f_filtered)\n",
    "    img_filtered = cp.real(img_filtered)\n",
    "\n",
    "    return img_filtered\n",
    "\n",
    "\n",
    "def pg(input, us_rate, ncutoff, threshold=100):\n",
    "    ncutoff = ncutoff / 10\n",
    "    filtered = input\n",
    "\n",
    "    while threshold > 0:\n",
    "        filtered = lpf(filtered, ncutoff)\n",
    "        filtered[::us_rate, ::us_rate] = input[::us_rate, ::us_rate]\n",
    "\n",
    "        threshold -= 1\n",
    "\n",
    "    return filtered"
   ]
  },
  {
   "cell_type": "code",
   "execution_count": null,
   "metadata": {},
   "outputs": [],
   "source": [
    "m = ZED_V//LiDAR_V + 1\n",
    "\n",
    "pg_frame_init = zed_depth\n",
    "pg_frame_init[::m, :] = vlp_depth"
   ]
  },
  {
   "cell_type": "code",
   "execution_count": null,
   "metadata": {},
   "outputs": [],
   "source": [
    "plt.imshow(pg_frame_init)\n",
    "plt.show()"
   ]
  },
  {
   "cell_type": "code",
   "execution_count": null,
   "metadata": {},
   "outputs": [],
   "source": [
    "start = time.time()\n",
    "pg_frame = pg(cp.asarray(pg_frame_init), m, ncutoff=1, threshold=50)\n",
    "print(time.time() - start)"
   ]
  },
  {
   "cell_type": "code",
   "execution_count": null,
   "metadata": {},
   "outputs": [],
   "source": [
    "plt.imshow(pg_frame.get())\n",
    "plt.show()"
   ]
  }
 ],
 "metadata": {
  "kernelspec": {
   "display_name": "Python 3.8.10 64-bit",
   "language": "python",
   "name": "python3"
  },
  "language_info": {
   "codemirror_mode": {
    "name": "ipython",
    "version": 3
   },
   "file_extension": ".py",
   "mimetype": "text/x-python",
   "name": "python",
   "nbconvert_exporter": "python",
   "pygments_lexer": "ipython3",
   "version": "2.7.18"
  },
  "orig_nbformat": 4,
  "vscode": {
   "interpreter": {
    "hash": "e7370f93d1d0cde622a1f8e1c04877d8463912d04d973331ad4851f04de6915a"
   }
  }
 },
 "nbformat": 4,
 "nbformat_minor": 2
}
