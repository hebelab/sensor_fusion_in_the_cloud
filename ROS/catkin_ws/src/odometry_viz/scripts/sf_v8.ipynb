{
 "cells": [
  {
   "cell_type": "code",
   "execution_count": null,
   "metadata": {},
   "outputs": [],
   "source": [
    "import rospy\n",
    "from sensor_msgs.msg import PointCloud2, Image, PointField, CameraInfo\n",
    "import sensor_msgs.point_cloud2 as pc2\n",
    "from std_msgs.msg import Header\n",
    "from nav_msgs.msg import Odometry\n",
    "from velodyne_msgs.msg import VelodyneScan\n",
    "import numpy as np\n",
    "import cupy as cp\n",
    "import cupyx as cpx\n",
    "import matplotlib.pyplot as plt\n",
    "from cv_bridge import CvBridge\n",
    "import time\n",
    "import cv2\n",
    "import open3d as o3d\n",
    "import math\n"
   ]
  },
  {
   "cell_type": "code",
   "execution_count": null,
   "metadata": {},
   "outputs": [],
   "source": [
    "import os\n",
    "os.environ[\"ROS_MASTER_URI\"] = \"http://10.225.255.196:11311\"\n",
    "os.environ[\"ROS_IP\"] = \"10.225.24.19\""
   ]
  },
  {
   "cell_type": "code",
   "execution_count": null,
   "metadata": {},
   "outputs": [],
   "source": [
    "ZED_DEPTH_TOPIC = '/zed/zed_node/depth/depth_registered' # '/islam/zed/depth'  # '/islam/zed_depth'\n",
    "ZED_CAMERA_INFO_TOPIC = '/zed/zed_node/depth/camera_info' #'/islam/zed/camera_info'\n",
    "ZED_RGB_TOPIC = '/zed/zed_node/rgb/image_rect_color' # '/islam/zed/rgb'\n",
    "\n",
    "VLP_TOPIC = \"/velodyne_points\"\n",
    "\n",
    "LOAM_ODOM_TOPIC = '/islam/loam_odom'\n",
    "\n",
    "PG_DEPTH_TOPIC = \"/islam/pg_depth\"\n",
    "PG_CAMERA_INFO_TOPIC = '/islam/pg_camera_info'\n",
    "PG_RGB_TOPIC = '/islam/pg_rgb'\n",
    "PG_ODOM_TOPIC = '/islam/pg_odom'"
   ]
  },
  {
   "cell_type": "code",
   "execution_count": null,
   "metadata": {},
   "outputs": [],
   "source": [
    "ZED_V = 376\n",
    "ZED_H = 672\n",
    "ZED_H_ANGLE = 87\n",
    "ZED_V_ANGLE = 56\n",
    "\n",
    "LiDAR_V = 16\n",
    "LiDAR_ANGLE = 30.2  # 0.2 degree precaution"
   ]
  },
  {
   "cell_type": "code",
   "execution_count": null,
   "metadata": {},
   "outputs": [],
   "source": [
    "def sph_to_cart_pts(pts):\n",
    "    pts[:,1] = cp.radians(pts[:,1])\n",
    "    pts[:,2] = cp.radians(pts[:,2])\n",
    "\n",
    "    # Convert spherical coordinates to Cartesian coordinates\n",
    "    x = pts[:, 0] * cp.cos(pts[:, 1]) * cp.cos(pts[:, 2])\n",
    "    y = pts[:, 0] * cp.cos(pts[:, 1]) * cp.sin(pts[:, 2])\n",
    "    z = pts[:, 0] * cp.sin(pts[:, 1])\n",
    "    \n",
    "    return cp.asarray([x, y, z]).T\n",
    "\n",
    "def cart_to_sph_pts(pts):\n",
    "    # Convert to CuPy array\n",
    "    pts = cp.asarray(pts)\n",
    "\n",
    "    # Convert to spherical coordinates\n",
    "    x, y, z = pts[:, 0], pts[:, 1], pts[:, 2]\n",
    "    r = cp.sqrt(x**2 + y**2 + z**2)\n",
    "    theta = cp.arctan(z / cp.sqrt(x**2 + y**2))\n",
    "    phi = cp.arctan(y / x)\n",
    "\n",
    "    return cp.column_stack((r, cp.degrees(theta), cp.degrees(phi)))\n",
    "    # return appendSpherical_np(pts)[:,3:6]\n",
    "\n",
    "def msg2pts(msg):\n",
    "    return cp.array(list(pc2.read_points(msg, field_names=(\"x\", \"y\", \"z\"))))"
   ]
  },
  {
   "cell_type": "code",
   "execution_count": null,
   "metadata": {},
   "outputs": [],
   "source": [
    "def depth_to_sph_pts(depth):\n",
    "    # Make sure input depth array is a CuPy array\n",
    "    depth = cp.array(depth)\n",
    "    \n",
    "    # get the shape of the input array\n",
    "    m, n = depth.shape\n",
    "    azimuth_const = ZED_H_ANGLE/n\n",
    "    polar_const = ZED_V_ANGLE/m\n",
    "\n",
    "    # Create a grid of row and col indices\n",
    "    row_indices, col_indices = cp.meshgrid(cp.arange(m), cp.arange(n), indexing='ij')\n",
    "\n",
    "    # Calculate polar and azimuth angles\n",
    "    polar_angles = row_indices * polar_const\n",
    "    azimuth_angles = col_indices * azimuth_const\n",
    "\n",
    "    # Stack the depth, polar_angles, and azimuth_angles along the last dimension\n",
    "    pts = cp.stack((depth, polar_angles, azimuth_angles), axis=-1)\n",
    "\n",
    "    # Reshape the pts array to the desired output shape (m * n, 3)\n",
    "    pts = pts.reshape(m * n, 3)\n",
    "\n",
    "    return pts"
   ]
  },
  {
   "cell_type": "code",
   "execution_count": null,
   "metadata": {},
   "outputs": [],
   "source": [
    "def lpf(img, ncutoff):\n",
    "    # Apply 2D FFT to the image\n",
    "    f = cp.fft.fft2(img)\n",
    "\n",
    "    # Shift the zero frequency component to the center of the spectrum\n",
    "    fshift = cp.fft.fftshift(f)\n",
    "\n",
    "    # Create a circular mask of the same size as the spectrum\n",
    "    rows, cols = img.shape\n",
    "    crow, ccol = rows // 2, cols // 2\n",
    "    mask = np.zeros((rows, cols), np.uint8)\n",
    "    cutoff = int(min(crow, ccol)*ncutoff)\n",
    "    cv2.circle(mask, (ccol, crow), cutoff, 1, -1)\n",
    "    # cv2.ellipse(mask, (ccol, crow), (1, 2) * cutoff, 0, 0, 360,  1, -1)\n",
    "\n",
    "    mask = cp.asarray(mask)\n",
    "\n",
    "    # Apply the mask to the shifted spectrum\n",
    "    fshift_filtered = fshift * mask\n",
    "\n",
    "    # Shift the zero frequency component back to the corner of the spectrum\n",
    "    f_filtered = cp.fft.ifftshift(fshift_filtered)\n",
    "\n",
    "    # Apply the inverse 2D FFT to the filtered spectrum\n",
    "    img_filtered = cp.fft.ifft2(f_filtered)\n",
    "    img_filtered = cp.real(img_filtered)\n",
    "\n",
    "    return img_filtered\n",
    "\n",
    "\n",
    "def pg(zed_depth, vlp_depth, ncutoff, threshold=100):\n",
    "    ncutoff = ncutoff / 10\n",
    "    \n",
    "    mask = vlp_depth > 0\n",
    "    filtered = zed_depth\n",
    "    filtered[mask] = vlp_depth[mask]\n",
    "    \n",
    "    while threshold > 0:\n",
    "        filtered = lpf(filtered, ncutoff)\n",
    "        filtered[mask] = vlp_depth[mask]\n",
    "\n",
    "        threshold -= 1\n",
    "\n",
    "    return filtered"
   ]
  },
  {
   "cell_type": "code",
   "execution_count": null,
   "metadata": {},
   "outputs": [],
   "source": [
    "def remap(old_value, old_min, old_max, new_min, new_max):\n",
    "    # Function to map a value from one range to another\n",
    "    old_range = old_max - old_min\n",
    "    new_range = new_max - new_min\n",
    "    new_value = (((old_value - old_min) * new_range) / old_range) + new_min\n",
    "    return new_value"
   ]
  },
  {
   "cell_type": "code",
   "execution_count": null,
   "metadata": {},
   "outputs": [],
   "source": [
    "rospy.init_node('sf', anonymous=True)"
   ]
  },
  {
   "cell_type": "code",
   "execution_count": null,
   "metadata": {},
   "outputs": [],
   "source": [
    "pg_depth_p = rospy.Publisher(PG_DEPTH_TOPIC, Image, queue_size=50)\n",
    "pg_camera_info_p = rospy.Publisher(PG_CAMERA_INFO_TOPIC, CameraInfo, queue_size=50)\n",
    "pg_rgb_p = rospy.Publisher(PG_RGB_TOPIC, Image, queue_size=50)\n",
    "pg_odom_p = rospy.Publisher(PG_ODOM_TOPIC, Odometry, queue_size=10)\n",
    "\n",
    "pg_camera_info_msg = CameraInfo()\n",
    "pg_rgb_msg = Image()\n",
    "pg_odom_msg = Odometry()\n",
    "bridge = CvBridge()\n",
    "\n",
    "zed_img = rospy.wait_for_message(ZED_DEPTH_TOPIC, Image)\n",
    "ZED_V, ZED_H = cp.array(bridge.imgmsg_to_cv2(zed_img, \"32FC1\")).shape\n",
    "\n",
    "vlp_depth = cp.zeros((ZED_V, ZED_H), dtype=cp.float32)\n",
    "vlp_mean = 0\n",
    "\n",
    "pg_img = None\n",
    "\n",
    "def zed_callback(zed_img: Image):\n",
    "    global vlp_depth, vlp_mean\n",
    "    \n",
    "    # ZED Preproc\n",
    "    zed_depth = cp.array(bridge.imgmsg_to_cv2(zed_img, \"32FC1\"))\n",
    "    zed_depth[cp.isnan(zed_depth)] = vlp_mean\n",
    "    zed_depth[zed_depth > 20] = vlp_mean\n",
    "    \n",
    "    # Sensor Fusion\n",
    "    pg_depth = pg(zed_depth.copy(), vlp_depth.copy(), ncutoff=3, threshold=1)\n",
    "    \n",
    "    # Publish Image\n",
    "    global pg_img\n",
    "    pg_img = pg_depth\n",
    "    pg_depth_msg = bridge.cv2_to_imgmsg(pg_depth.get())\n",
    "    pg_depth_msg.header.stamp = zed_img.header.stamp\n",
    "    pg_depth_p.publish(pg_depth_msg)\n",
    "    \n",
    "    # Publish aux info\n",
    "    pg_rgb_msg.header.stamp = zed_img.header.stamp\n",
    "    pg_camera_info_msg.header.stamp = zed_img.header.stamp\n",
    "    pg_odom_msg.header.stamp = zed_img.header.stamp\n",
    "    pg_rgb_p.publish(pg_rgb_msg)\n",
    "    pg_camera_info_p.publish(pg_camera_info_msg)\n",
    "    pg_odom_p.publish(pg_odom_msg)\n",
    "\n",
    "\n",
    "def vlp_callback(vlp_pc):\n",
    "    global vlp_depth, vlp_mean\n",
    "    \n",
    "    # VLP Preproc\n",
    "    vlp_pts = msg2pts(vlp_pc)\n",
    "    vlp_sph_pts_raw = cart_to_sph_pts(vlp_pts[vlp_pts[:,0] > 0])\n",
    "    mask = (vlp_sph_pts_raw[:, 2] < ZED_H_ANGLE/2) & (vlp_sph_pts_raw[:, 2] > -ZED_H_ANGLE/2)\n",
    "    vlp_sph_pts = vlp_sph_pts_raw[mask]\n",
    "    \n",
    "    r, theta, phi = vlp_sph_pts.T\n",
    "    theta = remap(theta, -LiDAR_ANGLE/2, LiDAR_ANGLE/2, 3*ZED_V//4, ZED_V//4).astype(cp.int32)\n",
    "    phi = remap(phi, ZED_V_ANGLE/2, -ZED_V_ANGLE/2, 0, ZED_H).astype(cp.int32)\n",
    "    \n",
    "    vlp_mean = cp.mean(vlp_sph_pts[:,0])\n",
    "    \n",
    "    vlp_depth = cp.zeros((ZED_V, ZED_H), dtype=cp.float32)\n",
    "\n",
    "    cpx.scatter_add(vlp_depth, (theta, phi), r)\n",
    "    \n",
    "    \n",
    "def rgb_callback(msg):\n",
    "    global pg_rgb_msg\n",
    "    pg_rgb_msg = msg\n",
    "    \n",
    "\n",
    "def camera_info_callback(msg):\n",
    "    global pg_camera_info_msg\n",
    "    pg_camera_info_msg = msg\n",
    "    \n",
    "    \n",
    "def odom_callback(msg):\n",
    "    global pg_odom_msg\n",
    "    pg_odom_msg = msg"
   ]
  },
  {
   "cell_type": "code",
   "execution_count": null,
   "metadata": {},
   "outputs": [],
   "source": [
    "rospy.Subscriber(VLP_TOPIC, PointCloud2, vlp_callback)\n",
    "rospy.Subscriber(ZED_RGB_TOPIC, Image, rgb_callback)\n",
    "rospy.Subscriber(ZED_CAMERA_INFO_TOPIC, CameraInfo, camera_info_callback)\n",
    "rospy.Subscriber(LOAM_ODOM_TOPIC, Odometry, odom_callback)\n",
    "rospy.Subscriber(ZED_DEPTH_TOPIC, Image, zed_callback)\n",
    "rospy.spin()"
   ]
  },
  {
   "cell_type": "code",
   "execution_count": null,
   "metadata": {},
   "outputs": [],
   "source": [
    "zed_depth = cp.array(bridge.imgmsg_to_cv2(zed_img, \"32FC1\"))\n",
    "zed_depth[cp.isnan(zed_depth)] = vlp_mean\n",
    "zed_depth[zed_depth > 20] = vlp_mean\n",
    "zed_depth[zed_depth < 0] = 0"
   ]
  },
  {
   "cell_type": "code",
   "execution_count": null,
   "metadata": {},
   "outputs": [],
   "source": [
    "plt.imshow(vlp_depth.get())"
   ]
  },
  {
   "cell_type": "code",
   "execution_count": null,
   "metadata": {},
   "outputs": [],
   "source": [
    "plt.imshow(zed_depth.get())"
   ]
  },
  {
   "cell_type": "code",
   "execution_count": null,
   "metadata": {},
   "outputs": [],
   "source": [
    "zed_depth.get().max()"
   ]
  },
  {
   "cell_type": "code",
   "execution_count": null,
   "metadata": {},
   "outputs": [],
   "source": [
    "vlp_depth.get().max()"
   ]
  },
  {
   "cell_type": "code",
   "execution_count": null,
   "metadata": {},
   "outputs": [],
   "source": [
    "pg_depth = pg(zed_depth.copy(), vlp_depth.copy(), ncutoff=3, threshold=1)"
   ]
  },
  {
   "cell_type": "code",
   "execution_count": null,
   "metadata": {},
   "outputs": [],
   "source": [
    "plt.imshow(pg_depth.get())"
   ]
  }
 ],
 "metadata": {
  "kernelspec": {
   "display_name": "Python 3.8.10 64-bit",
   "language": "python",
   "name": "python3"
  },
  "language_info": {
   "codemirror_mode": {
    "name": "ipython",
    "version": 3
   },
   "file_extension": ".py",
   "mimetype": "text/x-python",
   "name": "python",
   "nbconvert_exporter": "python",
   "pygments_lexer": "ipython3",
   "version": "2.7.18"
  },
  "orig_nbformat": 4,
  "vscode": {
   "interpreter": {
    "hash": "e7370f93d1d0cde622a1f8e1c04877d8463912d04d973331ad4851f04de6915a"
   }
  }
 },
 "nbformat": 4,
 "nbformat_minor": 2
}
