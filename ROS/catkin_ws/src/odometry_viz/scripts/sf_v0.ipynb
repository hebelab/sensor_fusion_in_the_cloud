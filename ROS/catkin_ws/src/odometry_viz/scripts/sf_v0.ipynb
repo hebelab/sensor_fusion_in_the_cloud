{
 "cells": [
  {
   "cell_type": "code",
   "execution_count": null,
   "metadata": {},
   "outputs": [],
   "source": [
    "import rospy\n",
    "from sensor_msgs.msg import PointCloud2, Image\n",
    "import sensor_msgs.point_cloud2 as pc2\n",
    "from velodyne_msgs.msg import VelodyneScan\n",
    "import numpy as np\n",
    "import cupy as cp\n",
    "import matplotlib.pyplot as plt\n",
    "from cv_bridge import CvBridge\n",
    "import time\n",
    "import cv2\n",
    "import open3d as o3d"
   ]
  },
  {
   "cell_type": "code",
   "execution_count": null,
   "metadata": {},
   "outputs": [],
   "source": [
    "ZED_TOPIC = \"/islam/zed_pts\"\n",
    "VLP_TOPIC = \"/islam/vlp_pts\"\n",
    "ZED_DEPTH = '/zed/zed_node/depth/depth_registered'"
   ]
  },
  {
   "cell_type": "code",
   "execution_count": null,
   "metadata": {},
   "outputs": [],
   "source": [
    "VELODYNE_INDEXDER = {\n",
    "    0:15,\n",
    "    2:14,\n",
    "    4:13,\n",
    "    6:12,\n",
    "    8:11,\n",
    "    10:10,\n",
    "    12:9,\n",
    "    14:8,\n",
    "    1:7,\n",
    "    3:6,\n",
    "    5:5,\n",
    "    7:4,\n",
    "    9:3,\n",
    "    11:2,\n",
    "    13:1,\n",
    "    15:0,\n",
    "}\n",
    "ZED_V = 360\n",
    "ZED_H = 640\n",
    "LiDAR_V = 16"
   ]
  },
  {
   "cell_type": "code",
   "execution_count": null,
   "metadata": {},
   "outputs": [],
   "source": [
    "rospy.init_node('sf', anonymous=True)\n",
    "# zed_s = rospy.wait_for_message(ZED_TOPIC, PointCloud2)\n",
    "# vlp_s = rospy.Subscriber(VLP_TOPIC, PointCloud2, vlp_callback)"
   ]
  },
  {
   "cell_type": "code",
   "execution_count": null,
   "metadata": {},
   "outputs": [],
   "source": [
    "def depth_to_sph_pts(depth):\n",
    "    # Make sure input depth array is a CuPy array\n",
    "    depth = cp.array(depth)\n",
    "    \n",
    "    # get the shape of the input array\n",
    "    m, n = depth.shape\n",
    "    azimuth_const = 100/n\n",
    "    polar_const = 30/m\n",
    "\n",
    "    # Create a grid of row and col indices\n",
    "    row_indices, col_indices = cp.meshgrid(cp.arange(m), cp.arange(n), indexing='ij')\n",
    "\n",
    "    # Calculate polar and azimuth angles\n",
    "    polar_angles = row_indices * polar_const\n",
    "    azimuth_angles = col_indices * azimuth_const\n",
    "\n",
    "    # Stack the depth, polar_angles, and azimuth_angles along the last dimension\n",
    "    pts = cp.stack((depth, polar_angles, azimuth_angles), axis=-1)\n",
    "\n",
    "    # Reshape the pts array to the desired output shape (m * n, 3)\n",
    "    pts = pts.reshape(m * n, 3)\n",
    "\n",
    "    return pts\n",
    "\n",
    "def sph_pcd_to_cart_pcd(sph_pcd):\n",
    "    sph_pcd[:,1] = cp.radians(sph_pcd[:,1])\n",
    "    sph_pcd[:,2] = cp.radians(sph_pcd[:,2])\n",
    "\n",
    "    # Convert spherical coordinates to Cartesian coordinates\n",
    "    x = sph_pcd[:, 0] * cp.cos(sph_pcd[:, 1]) * cp.cos(sph_pcd[:, 2])\n",
    "    y = sph_pcd[:, 0] * cp.cos(sph_pcd[:, 1]) * cp.sin(sph_pcd[:, 2])\n",
    "    z = sph_pcd[:, 0] * cp.sin(sph_pcd[:, 1])\n",
    "    \n",
    "    cart_pts = cp.asarray([x, y, z]).T\n",
    "\n",
    "    pcd = o3d.geometry.PointCloud()\n",
    "    pcd.points = o3d.utility.Vector3dVector(cart_pts.get())\n",
    "    return pcd\n",
    "\n",
    "def appendSpherical_np(xyz):\n",
    "    ptsnew = np.hstack((xyz, np.zeros(xyz.shape)))\n",
    "    xy = xyz[:,2]**2 + xyz[:,1]**2\n",
    "    ptsnew[:,3] = np.sqrt(xy + xyz[:,0]**2)\n",
    "    # ptsnew[:,4] = np.arctan2(np.sqrt(xy), xyz[:,0]) # for elevation angle defined from Z-axis down\n",
    "    ptsnew[:,4] = np.arctan2(xyz[:,0], np.sqrt(xy)) # for elevation angle defined from XY-plane up\n",
    "    ptsnew[:,5] = np.arctan2(xyz[:,1], xyz[:,2])\n",
    "    return ptsnew\n",
    "\n",
    "def convert_to_spherical(cloud):\n",
    "    # Convert to CuPy array\n",
    "    cloud = cp.asarray(cloud)\n",
    "\n",
    "    # Convert to spherical coordinates\n",
    "    x, y, z = cloud[:, 0], cloud[:, 1], cloud[:, 2]\n",
    "    r = cp.sqrt(x**2 + y**2 + z**2)\n",
    "    theta = cp.arctan(z / cp.sqrt(x**2 + y**2))\n",
    "    phi = cp.arctan(y / x)\n",
    "\n",
    "    return cp.column_stack((r, cp.degrees(theta), cp.degrees(phi)))\n",
    "    # return appendSpherical_np(cloud)[:,3:6]\n",
    "\n",
    "def msg2pts(msg):\n",
    "    return np.array(list(pc2.read_points(msg, field_names=(\"x\", \"y\", \"z\"))))"
   ]
  },
  {
   "cell_type": "code",
   "execution_count": null,
   "metadata": {},
   "outputs": [],
   "source": [
    "# zed_pts = rospy.wait_for_message(ZED_TOPIC, PointCloud2)\n",
    "zed_img = rospy.wait_for_message(ZED_DEPTH, Image)\n",
    "vlp_pts = rospy.wait_for_message(VLP_TOPIC, PointCloud2)\n",
    "if zed_img and vlp_pts:\n",
    "    print('OK')"
   ]
  },
  {
   "cell_type": "code",
   "execution_count": null,
   "metadata": {},
   "outputs": [],
   "source": [
    "vlp_pts = msg2pts(vlp_pts)"
   ]
  },
  {
   "cell_type": "code",
   "execution_count": null,
   "metadata": {},
   "outputs": [],
   "source": [
    "vlp_pts[vlp_pts[:,1] > 0]"
   ]
  },
  {
   "cell_type": "code",
   "execution_count": null,
   "metadata": {},
   "outputs": [],
   "source": [
    "vlp_pcd_p = o3d.geometry.PointCloud()\n",
    "vlp_pcd_p.points = o3d.utility.Vector3dVector(vlp_pts[vlp_pts[:,0] > 0])\n",
    "\n",
    "vlp_pcd_n = o3d.geometry.PointCloud()\n",
    "vlp_pcd_n.points = o3d.utility.Vector3dVector(vlp_pts[vlp_pts[:,0] < 0])\n",
    "\n",
    "o3d.visualization.draw_geometries([\n",
    "    vlp_pcd_p,\n",
    "    # vlp_pcd_n\n",
    "    ])"
   ]
  },
  {
   "cell_type": "code",
   "execution_count": null,
   "metadata": {},
   "outputs": [],
   "source": [
    "vlp_sph_pts = convert_to_spherical(vlp_pts[vlp_pts[:,0] > 0]).get()\n",
    "print(min(vlp_sph_pts[:,2]), max(vlp_sph_pts[:,2]))\n"
   ]
  },
  {
   "cell_type": "code",
   "execution_count": null,
   "metadata": {},
   "outputs": [],
   "source": [
    "# gt_mean = vlp_sph_pts[:, 2].mean()\n",
    "# vlp_sph_pts[:, 0] = np.array(list(map(VELODYNE_INDEXDER.get, vlp_sph_pts[:, 0])))\n",
    "mid_cutoff = 180\n",
    "vlp_sph_pts[:, 2] += mid_cutoff\n",
    "\n",
    "mask = vlp_sph_pts[:, 2] > 2*mid_cutoff\n",
    "\n",
    "vlp_sph_pts[mask, 2] -= 2*mid_cutoff\n"
   ]
  },
  {
   "cell_type": "code",
   "execution_count": null,
   "metadata": {},
   "outputs": [],
   "source": [
    "np.count_nonzero(mask)\n",
    "print(min(vlp_sph_pts[:,2]), max(vlp_sph_pts[:,2]))\n"
   ]
  },
  {
   "cell_type": "code",
   "execution_count": null,
   "metadata": {},
   "outputs": [],
   "source": [
    "\n",
    "# vlp_pcd = o3d.geometry.PointCloud()\n",
    "# vlp_pcd.points = o3d.utility.Vector3dVector(msg2pts(vlp_pts))\n",
    "\n",
    "# vlp_sph_pcd = o3d.geometry.PointCloud()\n",
    "# vlp_sph_pcd.points = o3d.utility.Vector3dVector(vlp_sph_pts)\n",
    "\n",
    "origin_pcd = o3d.geometry.PointCloud()\n",
    "origin_pcd.points = o3d.utility.Vector3dVector([[0,0,0]])\n",
    "origin_pcd.colors = o3d.utility.Vector3dVector(np.array([[255,0,0]]))\n",
    "\n",
    "vlp_pcd_1 = sph_pcd_to_cart_pcd(cp.array(vlp_sph_pts))\n",
    "\n",
    "o3d.visualization.draw_geometries([\n",
    "    origin_pcd,\n",
    "    # vlp_sph_pcd,\n",
    "    # vlp_pcd,\n",
    "    vlp_pcd_1\n",
    "    ])"
   ]
  },
  {
   "cell_type": "code",
   "execution_count": null,
   "metadata": {},
   "outputs": [],
   "source": [
    "\n",
    "# Split the array based on the range of the first column\n",
    "vlp_sph_pts_rows = []\n",
    "for i in range(LiDAR_V):\n",
    "    lower = i\n",
    "    upper = i + 1\n",
    "    mask = (vlp_sph_pts[:, 0] >= lower) & (vlp_sph_pts[:, 0] < upper)\n",
    "    sub_array = vlp_sph_pts[mask, 1:]\n",
    "    vlp_sph_pts_rows.append(sub_array)\n",
    "\n",
    "# Convert each sub-array to a 1D array sorted by the first column and using the second column as the value\n",
    "vlp_depth = []\n",
    "for sub_array in vlp_sph_pts_rows:\n",
    "    indices = np.argsort(sub_array[:, 0])\n",
    "    sorted_array = sub_array[indices, 1].tolist()\n",
    "\n",
    "    row_len = len(sorted_array)\n",
    "    num_zeros = ZED_H - row_len\n",
    "    step_size = row_len // (num_zeros + 1)\n",
    "\n",
    "    # Loop over the array and insert zeros at regular intervals\n",
    "    for i in range(num_zeros):\n",
    "        index = (i + 1) * step_size\n",
    "        sorted_array.insert(index, gt_mean)\n",
    "\n",
    "    vlp_depth.append(sorted_array)\n",
    "vlp_depth = np.asarray(vlp_depth)"
   ]
  },
  {
   "cell_type": "code",
   "execution_count": null,
   "metadata": {},
   "outputs": [],
   "source": [
    "plt.imshow(vlp_depth)\n",
    "vlp_depth.shape"
   ]
  },
  {
   "cell_type": "code",
   "execution_count": null,
   "metadata": {},
   "outputs": [],
   "source": [
    "bridge = CvBridge()\n",
    "zed_depth = np.array(bridge.imgmsg_to_cv2(zed_img, \"32FC1\"))"
   ]
  },
  {
   "cell_type": "code",
   "execution_count": null,
   "metadata": {},
   "outputs": [],
   "source": [
    "plt.imshow(zed_depth)\n",
    "zed_depth.shape"
   ]
  },
  {
   "cell_type": "code",
   "execution_count": null,
   "metadata": {},
   "outputs": [],
   "source": [
    "def lpf(img, ncutoff):\n",
    "    # Apply 2D FFT to the image\n",
    "    f = cp.fft.fft2(img)\n",
    "\n",
    "    # Shift the zero frequency component to the center of the spectrum\n",
    "    fshift = cp.fft.fftshift(f)\n",
    "\n",
    "    # Create a circular mask of the same size as the spectrum\n",
    "    rows, cols = img.shape\n",
    "    crow, ccol = rows // 2, cols // 2\n",
    "    mask = np.zeros((rows, cols), np.uint8)\n",
    "    cutoff = int(min(crow, ccol)*ncutoff)\n",
    "    cv2.circle(mask, (ccol, crow), cutoff, 1, -1)\n",
    "    # cv2.ellipse(mask, (ccol, crow), (1, 2) * cutoff, 0, 0, 360,  1, -1)\n",
    "\n",
    "    mask = cp.asarray(mask)\n",
    "\n",
    "    # Apply the mask to the shifted spectrum\n",
    "    fshift_filtered = fshift * mask\n",
    "\n",
    "    # Shift the zero frequency component back to the corner of the spectrum\n",
    "    f_filtered = cp.fft.ifftshift(fshift_filtered)\n",
    "\n",
    "    # Apply the inverse 2D FFT to the filtered spectrum\n",
    "    img_filtered = cp.fft.ifft2(f_filtered)\n",
    "    img_filtered = cp.real(img_filtered)\n",
    "\n",
    "    return img_filtered\n",
    "\n",
    "\n",
    "def pg(input, us_rate, ncutoff, threshold=100):\n",
    "    ncutoff = ncutoff / 10\n",
    "    filtered = input\n",
    "\n",
    "    while threshold > 0:\n",
    "        filtered = lpf(filtered, ncutoff)\n",
    "        filtered[::us_rate, ::us_rate] = input[::us_rate, ::us_rate]\n",
    "\n",
    "        threshold -= 1\n",
    "\n",
    "    return filtered"
   ]
  },
  {
   "cell_type": "code",
   "execution_count": null,
   "metadata": {},
   "outputs": [],
   "source": [
    "m = ZED_V//LiDAR_V + 1\n",
    "\n",
    "pg_frame_init = zed_depth\n",
    "pg_frame_init[::m, :] = vlp_depth"
   ]
  },
  {
   "cell_type": "code",
   "execution_count": null,
   "metadata": {},
   "outputs": [],
   "source": [
    "plt.imshow(pg_frame_init)\n",
    "plt.show()"
   ]
  },
  {
   "cell_type": "code",
   "execution_count": null,
   "metadata": {},
   "outputs": [],
   "source": [
    "start = time.time()\n",
    "pg_frame = pg(cp.asarray(pg_frame_init), m, ncutoff=1, threshold=50)\n",
    "print(time.time() - start)"
   ]
  },
  {
   "cell_type": "code",
   "execution_count": null,
   "metadata": {},
   "outputs": [],
   "source": [
    "plt.imshow(pg_frame.get())\n",
    "plt.show()"
   ]
  }
 ],
 "metadata": {
  "kernelspec": {
   "display_name": "Python 3.8.10 64-bit",
   "language": "python",
   "name": "python3"
  },
  "language_info": {
   "codemirror_mode": {
    "name": "ipython",
    "version": 3
   },
   "file_extension": ".py",
   "mimetype": "text/x-python",
   "name": "python",
   "nbconvert_exporter": "python",
   "pygments_lexer": "ipython3",
   "version": "2.7.18"
  },
  "orig_nbformat": 4,
  "vscode": {
   "interpreter": {
    "hash": "e7370f93d1d0cde622a1f8e1c04877d8463912d04d973331ad4851f04de6915a"
   }
  }
 },
 "nbformat": 4,
 "nbformat_minor": 2
}
