{
 "cells": [
  {
   "cell_type": "code",
   "execution_count": 1,
   "metadata": {},
   "outputs": [
    {
     "name": "stdout",
     "output_type": "stream",
     "text": [
      "Jupyter environment detected. Enabling Open3D WebVisualizer.\n",
      "[Open3D INFO] WebRTC GUI backend enabled.\n",
      "[Open3D INFO] WebRTCWindowSystem: HTTP handshake server disabled.\n"
     ]
    }
   ],
   "source": [
    "import rospy\n",
    "from sensor_msgs.msg import PointCloud2, Image, PointField\n",
    "import sensor_msgs.point_cloud2 as pc2\n",
    "from std_msgs.msg import Header\n",
    "from velodyne_msgs.msg import VelodyneScan\n",
    "import numpy as np\n",
    "import cupy as cp\n",
    "import cupyx as cpx\n",
    "import matplotlib.pyplot as plt\n",
    "from cv_bridge import CvBridge\n",
    "import time\n",
    "import cv2\n",
    "import open3d as o3d\n",
    "import math\n"
   ]
  },
  {
   "cell_type": "code",
   "execution_count": 10,
   "metadata": {},
   "outputs": [],
   "source": [
    "ZED_TOPIC = '/islam/zed_depth'\n",
    "VLP_TOPIC = \"/velodyne_points\"\n",
    "PG_TOPIC = \"/islam/pg_depth\""
   ]
  },
  {
   "cell_type": "code",
   "execution_count": 3,
   "metadata": {},
   "outputs": [],
   "source": [
    "ZED_V = 360\n",
    "ZED_H = 640\n",
    "ZED_H_ANGLE = 90\n",
    "ZED_V_ANGLE = 60\n",
    "\n",
    "LiDAR_V = 16\n",
    "LiDAR_ANGLE = 30.2  # 0.2 degree precaution"
   ]
  },
  {
   "cell_type": "code",
   "execution_count": 4,
   "metadata": {},
   "outputs": [],
   "source": [
    "def sph_to_cart_pts(pts):\n",
    "    pts[:,1] = cp.radians(pts[:,1])\n",
    "    pts[:,2] = cp.radians(pts[:,2])\n",
    "\n",
    "    # Convert spherical coordinates to Cartesian coordinates\n",
    "    x = pts[:, 0] * cp.cos(pts[:, 1]) * cp.cos(pts[:, 2])\n",
    "    y = pts[:, 0] * cp.cos(pts[:, 1]) * cp.sin(pts[:, 2])\n",
    "    z = pts[:, 0] * cp.sin(pts[:, 1])\n",
    "    \n",
    "    return cp.asarray([x, y, z]).T\n",
    "\n",
    "def cart_to_sph_pts(pts):\n",
    "    # Convert to CuPy array\n",
    "    pts = cp.asarray(pts)\n",
    "\n",
    "    # Convert to spherical coordinates\n",
    "    x, y, z = pts[:, 0], pts[:, 1], pts[:, 2]\n",
    "    r = cp.sqrt(x**2 + y**2 + z**2)\n",
    "    theta = cp.arctan(z / cp.sqrt(x**2 + y**2))\n",
    "    phi = cp.arctan(y / x)\n",
    "\n",
    "    return cp.column_stack((r, cp.degrees(theta), cp.degrees(phi)))\n",
    "    # return appendSpherical_np(pts)[:,3:6]\n",
    "\n",
    "def msg2pts(msg):\n",
    "    return cp.array(list(pc2.read_points(msg, field_names=(\"x\", \"y\", \"z\"))))"
   ]
  },
  {
   "cell_type": "code",
   "execution_count": 5,
   "metadata": {},
   "outputs": [],
   "source": [
    "def depth_to_sph_pts(depth):\n",
    "    # Make sure input depth array is a CuPy array\n",
    "    depth = cp.array(depth)\n",
    "    \n",
    "    # get the shape of the input array\n",
    "    m, n = depth.shape\n",
    "    azimuth_const = ZED_H_ANGLE/n\n",
    "    polar_const = ZED_V_ANGLE/m\n",
    "\n",
    "    # Create a grid of row and col indices\n",
    "    row_indices, col_indices = cp.meshgrid(cp.arange(m), cp.arange(n), indexing='ij')\n",
    "\n",
    "    # Calculate polar and azimuth angles\n",
    "    polar_angles = row_indices * polar_const\n",
    "    azimuth_angles = col_indices * azimuth_const\n",
    "\n",
    "    # Stack the depth, polar_angles, and azimuth_angles along the last dimension\n",
    "    pts = cp.stack((depth, polar_angles, azimuth_angles), axis=-1)\n",
    "\n",
    "    # Reshape the pts array to the desired output shape (m * n, 3)\n",
    "    pts = pts.reshape(m * n, 3)\n",
    "\n",
    "    return pts"
   ]
  },
  {
   "cell_type": "code",
   "execution_count": 6,
   "metadata": {},
   "outputs": [],
   "source": [
    "def lpf(img, ncutoff):\n",
    "    # Apply 2D FFT to the image\n",
    "    f = cp.fft.fft2(img)\n",
    "\n",
    "    # Shift the zero frequency component to the center of the spectrum\n",
    "    fshift = cp.fft.fftshift(f)\n",
    "\n",
    "    # Create a circular mask of the same size as the spectrum\n",
    "    rows, cols = img.shape\n",
    "    crow, ccol = rows // 2, cols // 2\n",
    "    mask = np.zeros((rows, cols), np.uint8)\n",
    "    cutoff = int(min(crow, ccol)*ncutoff)\n",
    "    cv2.circle(mask, (ccol, crow), cutoff, 1, -1)\n",
    "    # cv2.ellipse(mask, (ccol, crow), (1, 2) * cutoff, 0, 0, 360,  1, -1)\n",
    "\n",
    "    mask = cp.asarray(mask)\n",
    "\n",
    "    # Apply the mask to the shifted spectrum\n",
    "    fshift_filtered = fshift * mask\n",
    "\n",
    "    # Shift the zero frequency component back to the corner of the spectrum\n",
    "    f_filtered = cp.fft.ifftshift(fshift_filtered)\n",
    "\n",
    "    # Apply the inverse 2D FFT to the filtered spectrum\n",
    "    img_filtered = cp.fft.ifft2(f_filtered)\n",
    "    img_filtered = cp.real(img_filtered)\n",
    "\n",
    "    return img_filtered\n",
    "\n",
    "\n",
    "def pg(zed_depth, vlp_depth, ncutoff, threshold=100):\n",
    "    ncutoff = ncutoff / 10\n",
    "    \n",
    "    mask = vlp_depth > 0\n",
    "    filtered = zed_depth\n",
    "    filtered[mask] = vlp_depth[mask]\n",
    "    \n",
    "    while threshold > 0:\n",
    "        filtered = lpf(filtered, ncutoff)\n",
    "        filtered[mask] = vlp_depth[mask]\n",
    "\n",
    "        threshold -= 1\n",
    "\n",
    "    return filtered"
   ]
  },
  {
   "cell_type": "code",
   "execution_count": 7,
   "metadata": {},
   "outputs": [],
   "source": [
    "def remap(old_value, old_min, old_max, new_min, new_max):\n",
    "    # Function to map a value from one range to another\n",
    "    old_range = old_max - old_min\n",
    "    new_range = new_max - new_min\n",
    "    new_value = (((old_value - old_min) * new_range) / old_range) + new_min\n",
    "    return new_value"
   ]
  },
  {
   "cell_type": "code",
   "execution_count": 8,
   "metadata": {},
   "outputs": [],
   "source": [
    "rospy.init_node('sf', anonymous=True)"
   ]
  },
  {
   "cell_type": "code",
   "execution_count": 11,
   "metadata": {},
   "outputs": [
    {
     "ename": "KeyboardInterrupt",
     "evalue": "",
     "output_type": "error",
     "traceback": [
      "\u001b[0;31m---------------------------------------------------------------------------\u001b[0m",
      "\u001b[0;31mKeyboardInterrupt\u001b[0m                         Traceback (most recent call last)",
      "Cell \u001b[0;32mIn[11], line 8\u001b[0m\n\u001b[1;32m      5\u001b[0m ZED_V, ZED_H \u001b[39m=\u001b[39m cp\u001b[39m.\u001b[39marray(bridge\u001b[39m.\u001b[39mimgmsg_to_cv2(zed_img, \u001b[39m\"\u001b[39m\u001b[39m32FC1\u001b[39m\u001b[39m\"\u001b[39m))\u001b[39m.\u001b[39mshape\n\u001b[1;32m      7\u001b[0m \u001b[39mwhile\u001b[39;00m \u001b[39mTrue\u001b[39;00m:\n\u001b[0;32m----> 8\u001b[0m     zed_img \u001b[39m=\u001b[39m rospy\u001b[39m.\u001b[39;49mwait_for_message(ZED_TOPIC, Image)\n\u001b[1;32m      9\u001b[0m     vlp_pc \u001b[39m=\u001b[39m rospy\u001b[39m.\u001b[39mwait_for_message(VLP_TOPIC, PointCloud2)\n\u001b[1;32m     10\u001b[0m     \u001b[39mif\u001b[39;00m zed_img \u001b[39mand\u001b[39;00m vlp_pc:\n",
      "File \u001b[0;32m/opt/ros/noetic/lib/python3/dist-packages/rospy/client.py:423\u001b[0m, in \u001b[0;36mwait_for_message\u001b[0;34m(topic, topic_type, timeout)\u001b[0m\n\u001b[1;32m    421\u001b[0m     \u001b[39melse\u001b[39;00m:\n\u001b[1;32m    422\u001b[0m         \u001b[39mwhile\u001b[39;00m \u001b[39mnot\u001b[39;00m rospy\u001b[39m.\u001b[39mcore\u001b[39m.\u001b[39mis_shutdown() \u001b[39mand\u001b[39;00m wfm\u001b[39m.\u001b[39mmsg \u001b[39mis\u001b[39;00m \u001b[39mNone\u001b[39;00m:\n\u001b[0;32m--> 423\u001b[0m             rospy\u001b[39m.\u001b[39;49mrostime\u001b[39m.\u001b[39;49mwallsleep(\u001b[39m0.01\u001b[39;49m)            \n\u001b[1;32m    424\u001b[0m \u001b[39mfinally\u001b[39;00m:\n\u001b[1;32m    425\u001b[0m     \u001b[39mif\u001b[39;00m s \u001b[39mis\u001b[39;00m \u001b[39mnot\u001b[39;00m \u001b[39mNone\u001b[39;00m:\n",
      "File \u001b[0;32m/opt/ros/noetic/lib/python3/dist-packages/rospy/rostime.py:277\u001b[0m, in \u001b[0;36mwallsleep\u001b[0;34m(duration)\u001b[0m\n\u001b[1;32m    275\u001b[0m         \u001b[39mpass\u001b[39;00m\n\u001b[1;32m    276\u001b[0m \u001b[39melse\u001b[39;00m:\n\u001b[0;32m--> 277\u001b[0m     time\u001b[39m.\u001b[39;49msleep(duration)\n",
      "\u001b[0;31mKeyboardInterrupt\u001b[0m: "
     ]
    }
   ],
   "source": [
    "pg_depth_p = rospy.Publisher(PG_TOPIC, Image, queue_size=50)\n",
    "bridge = CvBridge()\n",
    "\n",
    "zed_img = rospy.wait_for_message(ZED_TOPIC, Image)\n",
    "ZED_V, ZED_H = cp.array(bridge.imgmsg_to_cv2(zed_img, \"32FC1\")).shape\n",
    "\n",
    "while True:\n",
    "    zed_img = rospy.wait_for_message(ZED_TOPIC, Image)\n",
    "    vlp_pc = rospy.wait_for_message(VLP_TOPIC, PointCloud2)\n",
    "    if zed_img and vlp_pc:\n",
    "        s = time.time()\n",
    "        # VLP Preproc\n",
    "        vlp_pts = msg2pts(vlp_pc)\n",
    "        vlp_sph_pts_raw = cart_to_sph_pts(vlp_pts[vlp_pts[:,0] > 0])\n",
    "        mask = (vlp_sph_pts_raw[:, 2] < ZED_H_ANGLE/2) & (vlp_sph_pts_raw[:, 2] > -ZED_H_ANGLE/2)\n",
    "        vlp_sph_pts = vlp_sph_pts_raw[mask]\n",
    "        \n",
    "        r, theta, phi = vlp_sph_pts.T\n",
    "        theta = remap(theta, -LiDAR_ANGLE/2, LiDAR_ANGLE/2, 3*ZED_V//4, ZED_V//4).astype(cp.int32)\n",
    "        phi = remap(phi, ZED_V_ANGLE/2, -ZED_V_ANGLE/2, 0, ZED_H).astype(cp.int32)\n",
    "\n",
    "        vlp_depth = cp.zeros((ZED_V, ZED_H), dtype=cp.float32)\n",
    "\n",
    "        cpx.scatter_add(vlp_depth, (theta, phi), r)\n",
    "                \n",
    "        # ZED Preproc\n",
    "        zed_depth = cp.array(bridge.imgmsg_to_cv2(zed_img, \"32FC1\"))\n",
    "        zed_depth[cp.isnan(zed_depth)] = cp.mean(vlp_sph_pts[:,0])\n",
    "        zed_depth[zed_depth > 20] = cp.mean(vlp_sph_pts[:,0])\n",
    "        \n",
    "        # Sensor Fusion\n",
    "        pg_depth = pg(zed_depth.copy(), vlp_depth.copy(), ncutoff=3, threshold=28)\n",
    "        \n",
    "        # Publish Image\n",
    "        pg_depth_p.publish(bridge.cv2_to_imgmsg(pg_depth.get()))"
   ]
  },
  {
   "cell_type": "code",
   "execution_count": null,
   "metadata": {},
   "outputs": [],
   "source": [
    "rospy.signal_shutdown(reason='hebele')"
   ]
  },
  {
   "cell_type": "code",
   "execution_count": null,
   "metadata": {},
   "outputs": [],
   "source": [
    "zed_img = rospy.wait_for_message('/zed/depth', Image)"
   ]
  },
  {
   "cell_type": "code",
   "execution_count": null,
   "metadata": {},
   "outputs": [
    {
     "data": {
      "text/plain": [
       "<matplotlib.image.AxesImage at 0x7f8b08704ac0>"
      ]
     },
     "execution_count": 12,
     "metadata": {},
     "output_type": "execute_result"
    },
    {
     "data": {
      "image/png": "[encoded data removed]",
      "text/plain": [
       "<Figure size 640x480 with 1 Axes>"
      ]
     },
     "metadata": {},
     "output_type": "display_data"
    }
   ],
   "source": [
    "msg = CvBridge()\n",
    "plt.imshow(msg.imgmsg_to_cv2(zed_img))"
   ]
  }
 ],
 "metadata": {
  "kernelspec": {
   "display_name": "Python 3.8.10 64-bit",
   "language": "python",
   "name": "python3"
  },
  "language_info": {
   "codemirror_mode": {
    "name": "ipython",
    "version": 3
   },
   "file_extension": ".py",
   "mimetype": "text/x-python",
   "name": "python",
   "nbconvert_exporter": "python",
   "pygments_lexer": "ipython3",
   "version": "3.8.10"
  },
  "orig_nbformat": 4,
  "vscode": {
   "interpreter": {
    "hash": "e7370f93d1d0cde622a1f8e1c04877d8463912d04d973331ad4851f04de6915a"
   }
  }
 },
 "nbformat": 4,
 "nbformat_minor": 2
}
