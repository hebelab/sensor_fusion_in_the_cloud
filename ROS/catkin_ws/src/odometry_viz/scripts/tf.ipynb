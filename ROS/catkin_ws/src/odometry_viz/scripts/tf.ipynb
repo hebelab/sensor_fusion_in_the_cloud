{
 "cells": [
  {
   "cell_type": "code",
   "execution_count": null,
   "metadata": {},
   "outputs": [],
   "source": [
    "import rospy\n",
    "import tf2_ros\n",
    "import geometry_msgs.msg\n",
    "import numpy as np\n",
    "import tf\n",
    "\n",
    "rospy.init_node('tf2_example_node')\n",
    "\n",
    "tf_buffer = tf2_ros.Buffer()\n",
    "tf_listener = tf2_ros.TransformListener(tf_buffer)\n",
    "\n",
    "frame1 = 'loam_link'\n",
    "frame2 = 'odom'\n",
    "\n",
    "\n",
    "# Wait for the transformation to become available\n",
    "tf_buffer.can_transform(frame1, frame2, rospy.Time(), rospy.Duration(1.0))\n",
    "\n",
    "# Get the transformation from frame1 to frame2 at a specific time\n",
    "transform = tf_buffer.lookup_transform(frame1, frame2, rospy.Time(0), rospy.Duration(1.0))\n",
    "\n",
    "# Extract the translation and rotation components from the transform message\n",
    "translation = transform.transform.translation\n",
    "rotation = transform.transform.rotation\n",
    "\n",
    "# Create the transformation matrix\n",
    "trans_matrix = np.identity(4)\n",
    "trans_matrix[:3, 3] = [translation.x, translation.y, translation.z]\n",
    "trans_matrix[:3, :3] = tf.transformations.quaternion_matrix([rotation.x, rotation.y, rotation.z, rotation.w])[:3, :3]\n",
    "\n",
    "# Print the transformation matrix\n",
    "print('Transformation Matrix:')\n",
    "print(trans_matrix)\n",
    "exit()"
   ]
  },
  {
   "cell_type": "markdown",
   "metadata": {},
   "source": []
  }
 ],
 "metadata": {
  "kernelspec": {
   "display_name": "Python 3.8.10 64-bit",
   "language": "python",
   "name": "python3"
  },
  "language_info": {
   "codemirror_mode": {
    "name": "ipython",
    "version": 3
   },
   "file_extension": ".py",
   "mimetype": "text/x-python",
   "name": "python",
   "nbconvert_exporter": "python",
   "pygments_lexer": "ipython3",
   "version": "2.7.18"
  },
  "orig_nbformat": 4,
  "vscode": {
   "interpreter": {
    "hash": "e7370f93d1d0cde622a1f8e1c04877d8463912d04d973331ad4851f04de6915a"
   }
  }
 },
 "nbformat": 4,
 "nbformat_minor": 2
}
