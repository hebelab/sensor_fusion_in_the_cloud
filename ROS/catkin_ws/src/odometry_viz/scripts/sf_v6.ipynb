{
 "cells": [
  {
   "cell_type": "code",
   "execution_count": null,
   "metadata": {},
   "outputs": [],
   "source": [
    "import rospy\n",
    "from sensor_msgs.msg import PointCloud2, Image, PointField\n",
    "import sensor_msgs.point_cloud2 as pc2\n",
    "from std_msgs.msg import Header\n",
    "from velodyne_msgs.msg import VelodyneScan\n",
    "import numpy as np\n",
    "import cupy as cp\n",
    "import matplotlib.pyplot as plt\n",
    "from cv_bridge import CvBridge\n",
    "import time\n",
    "import cv2\n",
    "import open3d as o3d\n",
    "import math"
   ]
  },
  {
   "cell_type": "code",
   "execution_count": null,
   "metadata": {},
   "outputs": [],
   "source": [
    "ZED_TOPIC = \"/islam/zed_pts\"\n",
    "VLP_TOPIC = \"/islam/vlp_pts\"\n",
    "ZED_DEPTH = '/zed/zed_node/depth/depth_registered'"
   ]
  },
  {
   "cell_type": "code",
   "execution_count": null,
   "metadata": {},
   "outputs": [],
   "source": [
    "ZED_V = 360\n",
    "ZED_H = 640\n",
    "ZED_H_ANGLE = 90\n",
    "ZED_V_ANGLE = 60\n",
    "\n",
    "LiDAR_V = 16\n",
    "LiDAR_ANGLE = 32  # 2 degree precaution\n",
    "\n",
    "row_theta_step = 2\n",
    "row_theta_map = ZED_V/(2 * LiDAR_V)\n",
    "\n",
    "col_phi_map = ZED_H/ZED_H_ANGLE\n",
    "col_phi_max = ZED_H_ANGLE/2\n",
    "\n",
    "m = ZED_V//(2 * LiDAR_V)"
   ]
  },
  {
   "cell_type": "code",
   "execution_count": null,
   "metadata": {},
   "outputs": [],
   "source": [
    "def sph_to_cart_pts(pts):\n",
    "    pts[:,1] = cp.radians(pts[:,1])\n",
    "    pts[:,2] = cp.radians(pts[:,2])\n",
    "\n",
    "    # Convert spherical coordinates to Cartesian coordinates\n",
    "    x = pts[:, 0] * cp.cos(pts[:, 1]) * cp.cos(pts[:, 2])\n",
    "    y = pts[:, 0] * cp.cos(pts[:, 1]) * cp.sin(pts[:, 2])\n",
    "    z = pts[:, 0] * cp.sin(pts[:, 1])\n",
    "    \n",
    "    return cp.asarray([x, y, z]).T\n",
    "\n",
    "def cart_to_sph_pts(pts):\n",
    "    # Convert to CuPy array\n",
    "    pts = cp.asarray(pts)\n",
    "\n",
    "    # Convert to spherical coordinates\n",
    "    x, y, z = pts[:, 0], pts[:, 1], pts[:, 2]\n",
    "    r = cp.sqrt(x**2 + y**2 + z**2)\n",
    "    theta = cp.arctan(z / cp.sqrt(x**2 + y**2))\n",
    "    phi = cp.arctan(y / x)\n",
    "\n",
    "    return cp.column_stack((r, cp.degrees(theta), cp.degrees(phi)))\n",
    "    # return appendSpherical_np(pts)[:,3:6]\n",
    "\n",
    "def msg2pts(msg):\n",
    "    return cp.array(list(pc2.read_points(msg, field_names=(\"x\", \"y\", \"z\"))))"
   ]
  },
  {
   "cell_type": "code",
   "execution_count": null,
   "metadata": {},
   "outputs": [],
   "source": [
    "def depth_to_sph_pts(depth):\n",
    "    # Make sure input depth array is a CuPy array\n",
    "    depth = cp.array(depth)\n",
    "    \n",
    "    # get the shape of the input array\n",
    "    m, n = depth.shape\n",
    "    azimuth_const = ZED_H_ANGLE/n\n",
    "    polar_const = ZED_V_ANGLE/m\n",
    "\n",
    "    # Create a grid of row and col indices\n",
    "    row_indices, col_indices = cp.meshgrid(cp.arange(m), cp.arange(n), indexing='ij')\n",
    "\n",
    "    # Calculate polar and azimuth angles\n",
    "    polar_angles = row_indices * polar_const\n",
    "    azimuth_angles = col_indices * azimuth_const\n",
    "\n",
    "    # Stack the depth, polar_angles, and azimuth_angles along the last dimension\n",
    "    pts = cp.stack((depth, polar_angles, azimuth_angles), axis=-1)\n",
    "\n",
    "    # Reshape the pts array to the desired output shape (m * n, 3)\n",
    "    pts = pts.reshape(m * n, 3)\n",
    "\n",
    "    return pts"
   ]
  },
  {
   "cell_type": "code",
   "execution_count": null,
   "metadata": {},
   "outputs": [],
   "source": [
    "def lpf(img, ncutoff):\n",
    "    # Apply 2D FFT to the image\n",
    "    f = cp.fft.fft2(img)\n",
    "\n",
    "    # Shift the zero frequency component to the center of the spectrum\n",
    "    fshift = cp.fft.fftshift(f)\n",
    "\n",
    "    # Create a circular mask of the same size as the spectrum\n",
    "    rows, cols = img.shape\n",
    "    crow, ccol = rows // 2, cols // 2\n",
    "    mask = np.zeros((rows, cols), np.uint8)\n",
    "    cutoff = int(min(crow, ccol)*ncutoff)\n",
    "    cv2.circle(mask, (ccol, crow), cutoff, 1, -1)\n",
    "    # cv2.ellipse(mask, (ccol, crow), (1, 2) * cutoff, 0, 0, 360,  1, -1)\n",
    "\n",
    "    mask = cp.asarray(mask)\n",
    "\n",
    "    # Apply the mask to the shifted spectrum\n",
    "    fshift_filtered = fshift * mask\n",
    "\n",
    "    # Shift the zero frequency component back to the corner of the spectrum\n",
    "    f_filtered = cp.fft.ifftshift(fshift_filtered)\n",
    "\n",
    "    # Apply the inverse 2D FFT to the filtered spectrum\n",
    "    img_filtered = cp.fft.ifft2(f_filtered)\n",
    "    img_filtered = cp.real(img_filtered)\n",
    "\n",
    "    return img_filtered\n",
    "\n",
    "\n",
    "def pg(zed_depth, vlp_depth, ncutoff, threshold=100):\n",
    "    ncutoff = ncutoff / 10\n",
    "    \n",
    "    mask = vlp_depth > 0\n",
    "    filtered = zed_depth\n",
    "    filtered[mask] = vlp_depth[mask]\n",
    "    \n",
    "    while threshold > 0:\n",
    "        filtered = lpf(filtered, ncutoff)\n",
    "        filtered[mask] = vlp_depth[mask]\n",
    "\n",
    "        threshold -= 1\n",
    "\n",
    "    return filtered"
   ]
  },
  {
   "cell_type": "code",
   "execution_count": null,
   "metadata": {},
   "outputs": [],
   "source": [
    "def remap(old_value, old_min, old_max, new_min, new_max):\n",
    "    # Function to map a value from one range to another\n",
    "    old_range = old_max - old_min\n",
    "    new_range = new_max - new_min\n",
    "    new_value = (((old_value - old_min) * new_range) / old_range) + new_min\n",
    "    return new_value\n"
   ]
  },
  {
   "cell_type": "code",
   "execution_count": null,
   "metadata": {},
   "outputs": [],
   "source": [
    "rospy.init_node('sf', anonymous=True)\n",
    "pg_pts_p = rospy.Publisher(\"/islam/pg_pts\", PointCloud2, queue_size=50)\n",
    "\n",
    "while True:\n",
    "    zed_img = rospy.wait_for_message(ZED_DEPTH, Image)\n",
    "    vlp_pts = rospy.wait_for_message(VLP_TOPIC, PointCloud2)\n",
    "    if zed_img and vlp_pts:\n",
    "        # VLP Preproc\n",
    "        vlp_pts = msg2pts(vlp_pts)\n",
    "        vlp_sph_pts_raw = cart_to_sph_pts(vlp_pts[vlp_pts[:,0] > 0])\n",
    "        mask = (vlp_sph_pts_raw[:, 2] < ZED_H_ANGLE/2) & (vlp_sph_pts_raw[:, 2] > -ZED_H_ANGLE/2)\n",
    "        vlp_sph_pts = vlp_sph_pts_raw[mask]\n",
    "        \n",
    "        vlp_depth = cp.zeros(shape=(ZED_V, ZED_H))\n",
    "\n",
    "        theta_max = vlp_sph_pts[:,1].max()\n",
    "        theta_min = vlp_sph_pts[:,1].min()\n",
    "        theta_range = theta_max - theta_min\n",
    "\n",
    "        for i in range(0, LiDAR_V):\n",
    "            mask = (vlp_sph_pts[:, 1] < theta_max - i*theta_range/LiDAR_V) & (vlp_sph_pts[:, 1] > theta_max - (i+1)*theta_range/LiDAR_V)\n",
    "            row = vlp_sph_pts[mask]\n",
    "            \n",
    "            cols = []\n",
    "            for col in row:\n",
    "                px = math.floor(ZED_H - float(col[2] + ZED_H_ANGLE/2) * ZED_H / ZED_H_ANGLE)\n",
    "                cols.append(px)\n",
    "                vlp_depth[int(ZED_V/4 + i * row_theta_map), px - 1]= col[0]\n",
    "                \n",
    "        # ZED Preproc\n",
    "        bridge = CvBridge()\n",
    "        zed_depth = cp.array(bridge.imgmsg_to_cv2(zed_img, \"32FC1\"))\n",
    "        zed_depth[cp.isnan(zed_depth)] = cp.mean(vlp_sph_pts[:,0])\n",
    "        zed_depth[zed_depth > 20] = cp.mean(vlp_sph_pts[:,0])\n",
    "        \n",
    "        # Sensor Fusion\n",
    "        pg_depth = pg(zed_depth.copy(), vlp_depth.copy(), ncutoff=3, threshold=50)\n",
    "        \n",
    "        # Publish PC2\n",
    "        pg_pts = sph_to_cart_pts(depth_to_sph_pts(pg_depth))\n",
    "\n",
    "        header = Header()\n",
    "        header.stamp = rospy.Time.now()\n",
    "        header.frame_id = 'map'\n",
    "        \n",
    "        msg_p = pc2.create_cloud_xyz32(header, pg_pts.get()) \n",
    "\n",
    "        pg_pts_p.publish(msg_p)"
   ]
  },
  {
   "cell_type": "code",
   "execution_count": null,
   "metadata": {},
   "outputs": [],
   "source": [
    "vlp_depth = cp.zeros(shape=(ZED_V, ZED_H))\n",
    "\n",
    "theta_max = vlp_sph_pts[:,1].max()\n",
    "theta_min = vlp_sph_pts[:,1].min()\n",
    "theta_range = theta_max - theta_min\n",
    "\n",
    "for i in range(0, LiDAR_V):\n",
    "    mask = (vlp_sph_pts[:, 1] < theta_max - i*theta_range/LiDAR_V) & (vlp_sph_pts[:, 1] > theta_max - (i+1)*theta_range/LiDAR_V)\n",
    "    row = vlp_sph_pts[mask]\n",
    "    \n",
    "    cols = []\n",
    "    for col in row:\n",
    "        px = math.floor(ZED_H - float(col[2] + ZED_H_ANGLE/2) * ZED_H / ZED_H_ANGLE)\n",
    "        cols.append(px)\n",
    "        vlp_depth[int(ZED_V/4 + i * row_theta_map), px - 1]= col[0]"
   ]
  },
  {
   "cell_type": "code",
   "execution_count": null,
   "metadata": {},
   "outputs": [],
   "source": [
    "i_vals = cp.arange(0, LiDAR_V, dtype=cp.int32)\n",
    "theta_ranges = theta_max - i_vals * theta_range / LiDAR_V\n",
    "row_indices = cp.searchsorted(theta_ranges, cp.sort(vlp_sph_pts[:, 1]), side='right') - 1\n",
    "\n",
    "# px_vals = cp.floor(ZED_H - (vlp_sph_pts[:, 2] + ZED_H_ANGLE / 2) * ZED_H / ZED_H_ANGLE).astype(cp.int32)\n",
    "\n",
    "# Convert row_theta_map to a Cupy array if it's not already\n",
    "# row_theta_map = cp.asarray(row_theta_map, dtype=cp.int32)\n",
    "\n",
    "# vlp_depth[int(ZED_V / 4) + i_vals * row_theta_map, px_vals - 1] = vlp_sph_pts[:, 0]\n"
   ]
  },
  {
   "cell_type": "code",
   "execution_count": null,
   "metadata": {},
   "outputs": [],
   "source": [
    "print(row_indices[row_indices == 13])"
   ]
  },
  {
   "cell_type": "code",
   "execution_count": null,
   "metadata": {},
   "outputs": [],
   "source": [
    "import cupyx as cpx\n"
   ]
  },
  {
   "cell_type": "code",
   "execution_count": null,
   "metadata": {},
   "outputs": [],
   "source": [
    "# r, theta, phi = vlp_sph_pts.T\n",
    "image = cp.zeros((16,ZED_H), dtype=cp.float32)\n",
    "\n",
    "theta_bins = cp.linspace(15, -15, 90,270, endpoint=False)\n",
    "phi_bins = cp.linspace(-45, 45, ZED_H, endpoint=False)\n",
    "\n",
    "# Digitize the theta and phi values to find the bin indices\n",
    "x = cp.digitize(vlp_sph_pts[:,1], theta_bins) - 1\n",
    "y = cp.digitize(vlp_sph_pts[:,2], phi_bins) - 1\n",
    "\n",
    "# Set pixel intensity to radius\n",
    "cpx.scatter_add(image, (x, y), vlp_sph_pts[:,0])"
   ]
  },
  {
   "cell_type": "code",
   "execution_count": null,
   "metadata": {},
   "outputs": [],
   "source": [
    "def remap(old_value, old_min, old_max, new_min, new_max):\n",
    "    # Function to map a value from one range to another\n",
    "    old_range = old_max - old_min\n",
    "    new_range = new_max - new_min\n",
    "    new_value = (((old_value - old_min) * new_range) / old_range) + new_min\n",
    "    return new_value\n",
    "\n",
    "# Assuming vlp_sph_pts is your original array\n",
    "\n",
    "remapped = vlp_sph_pts.copy()\n",
    "\n",
    "# Remap the first column and convert to integer\n",
    "remapped[:, 1] = remap(vlp_sph_pts[:, 1], 15, -15, 270, 90).astype(cp.int32)\n",
    "\n",
    "# Remap the second column and convert to integer\n",
    "remapped[:, 2] = remap(vlp_sph_pts[:, 2], -45, 45, 0, 640).astype(cp.int32)\n",
    "\n",
    "image = cp.zeros((ZED_V,ZED_H), dtype=cp.float32)\n",
    "\n",
    "# image[remapped[:, 1].astype(int), remapped[:, 2].astype(int)] = remapped[:, 0]\n",
    "cpx.scatter_add(image, (remapped[:, 1].astype(int), remapped[:, 2].astype(int)), vlp_sph_pts[:,0])"
   ]
  },
  {
   "cell_type": "code",
   "execution_count": null,
   "metadata": {},
   "outputs": [],
   "source": [
    "# Assuming vlp_sph_pts is your original array\n",
    "r, theta, phi = vlp_sph_pts.T\n",
    "\n",
    "\n",
    "# Remap the first column and convert to integer\n",
    "theta = remap(theta, 15, -15, 270, 90).astype(cp.int32)\n",
    "\n",
    "# Remap the second column and convert to integer\n",
    "phi = remap(phi, -45, 45, 0, 640).astype(cp.int32)\n",
    "\n",
    "image = cp.zeros(zed_depth.shape, dtype=cp.float32)\n",
    "\n",
    "# image[theta.astype(int), phi.astype(int)] = remapped[:, 0]\n",
    "cpx.scatter_add(image, (theta, phi), r)"
   ]
  },
  {
   "cell_type": "code",
   "execution_count": null,
   "metadata": {},
   "outputs": [],
   "source": [
    "plt.imshow(image.get())"
   ]
  },
  {
   "cell_type": "code",
   "execution_count": null,
   "metadata": {},
   "outputs": [],
   "source": [
    "vlp_depth = cp.zeros(shape=(LiDAR_V, ZED_H))\n",
    "\n",
    "rows = cp.arange(-15, 17, 2)\n",
    "cols = cp.arange(-45, 47, 2)\n",
    "\n",
    "limits = cp.searchsorted(cp.sort(vlp_sph_pts[:, 1].astype(int)), rows)\n",
    "split_sizes = cp.diff(limits)\n",
    "\n",
    "splitted_parts = cp.split(vlp_sph_pts, cp.cumsum(split_sizes).get())"
   ]
  },
  {
   "cell_type": "code",
   "execution_count": null,
   "metadata": {},
   "outputs": [],
   "source": [
    "print(splitted_parts)"
   ]
  }
 ],
 "metadata": {
  "kernelspec": {
   "display_name": "Python 3.8.10 64-bit",
   "language": "python",
   "name": "python3"
  },
  "language_info": {
   "codemirror_mode": {
    "name": "ipython",
    "version": 3
   },
   "file_extension": ".py",
   "mimetype": "text/x-python",
   "name": "python",
   "nbconvert_exporter": "python",
   "pygments_lexer": "ipython3",
   "version": "2.7.18"
  },
  "orig_nbformat": 4,
  "vscode": {
   "interpreter": {
    "hash": "e7370f93d1d0cde622a1f8e1c04877d8463912d04d973331ad4851f04de6915a"
   }
  }
 },
 "nbformat": 4,
 "nbformat_minor": 2
}
